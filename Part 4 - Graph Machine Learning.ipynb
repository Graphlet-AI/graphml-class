{
 "cells": [
  {
   "cell_type": "markdown",
   "id": "eb3ffc1a-9a81-46b3-8392-eab955de2688",
   "metadata": {},
   "source": [
    "This is part 4 of a course called Full Stack Graph Machine Learning by <a href=\"https://linkedin.com/in/russelljurney\">Russell Jurney</a>. For team training inquiries contact <a href=\"mailto:rjurney@graphlet.ai\">rjurney@graphlet.ai</a>."
   ]
  },
  {
   "cell_type": "code",
   "execution_count": 1,
   "id": "85b497ba-5964-42b7-94cc-ae81a6184314",
   "metadata": {},
   "outputs": [],
   "source": [
    "import gzip\n",
    "import os\n",
    "import pickle\n",
    "import tarfile\n",
    "from pprint import pprint\n",
    "from typing import Dict, List, Optional\n",
    "\n",
    "import graphistry\n",
    "import dgl\n",
    "# import igraph as ig\n",
    "import matplotlib.pyplot as plt\n",
    "import networkx as nx\n",
    "import numpy as np\n",
    "# import optuna\n",
    "import pandas as pd\n",
    "import seaborn as sns\n",
    "import torch\n",
    "from dgl.data import DGLDataset\n",
    "from dgl.data.utils import download as dgl_download\n",
    "from dgl.data.utils import load_graphs, save_graphs\n",
    "from dgl.sampling import global_uniform_negative_sampling\n",
    "from sentence_transformers import SentenceTransformer\n",
    "from sklearn.model_selection import train_test_split\n",
    "\n",
    "from graphml_class.clean import clean_graph\n",
    "from graphml_class.palette import CATEGORICAL_PALETTE"
   ]
  },
  {
   "cell_type": "code",
   "execution_count": 2,
   "id": "d4ac7f4d-0aa0-4daa-b613-7ff400e77829",
   "metadata": {},
   "outputs": [],
   "source": [
    "SEED = 31337"
   ]
  },
  {
   "cell_type": "markdown",
   "id": "dd0fb2c6-4032-4eff-a174-a41c09a1f3b8",
   "metadata": {},
   "source": [
    "# Graph Machine Learning by Hand\n",
    "\n",
    "The old-school method of machine learning that was common practice before graph embeddings and Graph Neural Networks was to hand engineer features of the nodes of a network by querying the network with `networkx` or a graph database like Neo4j using Cypher or Gremlin and to assign the results of those queries to nodes.\n",
    "\n",
    "What are some common features when hand engineering node features in graph machine learning tasks?\n",
    "\n",
    "## Hand Engineered Features in Graph ML\n",
    "\n",
    "* Scalable Centralities: Degree [in, out, total], Eigenvector, PageRank [a form of eigenvector centrality], Katz\n",
    "* Less Scalable Centralities: Closeness, Betweenness\n",
    "\n",
    "You can compute these methods on single edges or on multiple edges as a way of projecting a _higher-order_ network, a network composed of more complex semantics built from the base network. Graph ML worked this way until around 2015, when graph embeddings changed everything :)\n",
    "\n",
    "Check out [networkx.algorithms.centrality](https://networkx.org/documentation/stable/reference/algorithms/centrality.html) and find some that fit different aspects of networks you'd like to include in a classifier.\n",
    "\n",
    "## Loading our Citation Graph\n",
    "\n",
    "In Part 1 on knowledge graph construction, we saved our graph in GEXF format. Let's load it using the same procedure we performed in Part 2. I'm going to abbreviate the comments here, look at Part 2 for more details on what I am doing."
   ]
  },
  {
   "cell_type": "code",
   "execution_count": 3,
   "id": "d192cd97-8a45-4c60-a7a3-42c438cca9a0",
   "metadata": {},
   "outputs": [],
   "source": [
    "G: nx.DiGraph = nx.read_gexf(path=\"data/physics_labeled.gexf.gz\")"
   ]
  },
  {
   "cell_type": "code",
   "execution_count": 4,
   "id": "c24db786-8fb6-4904-a45b-7c59a9a9970a",
   "metadata": {},
   "outputs": [
    {
     "data": {
      "text/plain": [
       "(27770, 352807)"
      ]
     },
     "execution_count": 4,
     "metadata": {},
     "output_type": "execute_result"
    }
   ],
   "source": [
    "G.number_of_nodes(), G.number_of_edges()"
   ]
  },
  {
   "cell_type": "code",
   "execution_count": 5,
   "id": "356be9c2-d542-4ef5-9f9d-3cfe608bf5f3",
   "metadata": {},
   "outputs": [
    {
     "data": {
      "text/plain": [
       "[(1001, 0),\n",
       " (9304045, 1),\n",
       " (9308122, 2),\n",
       " (9309097, 3),\n",
       " (9311042, 4),\n",
       " (9401139, 5),\n",
       " (9404151, 6),\n",
       " (9407087, 7),\n",
       " (9408099, 8),\n",
       " (9501030, 9)]"
      ]
     },
     "execution_count": 5,
     "metadata": {},
     "output_type": "execute_result"
    }
   ],
   "source": [
    "with open(\"data/citation/file_to_net.pkl\", \"rb\") as f:\n",
    "    file_to_net = pickle.load(f)\n",
    "\n",
    "# Everything ok? Yes!\n",
    "list(file_to_net.items())[0:10]"
   ]
  },
  {
   "cell_type": "code",
   "execution_count": 6,
   "id": "2c236eb7-c936-49cf-ae8d-2ac823f0bf65",
   "metadata": {},
   "outputs": [
    {
     "data": {
      "text/plain": [
       "[(0, 1001),\n",
       " (1, 9304045),\n",
       " (2, 9308122),\n",
       " (3, 9309097),\n",
       " (4, 9311042),\n",
       " (5, 9401139),\n",
       " (6, 9404151),\n",
       " (7, 9407087),\n",
       " (8, 9408099),\n",
       " (9, 9501030)]"
      ]
     },
     "execution_count": 6,
     "metadata": {},
     "output_type": "execute_result"
    }
   ],
   "source": [
    "with open(\"data/citation/net_to_file.pkl\", \"rb\") as f:\n",
    "    net_to_file = pickle.load(f)\n",
    "\n",
    "# Everything ok here too? Yes!\n",
    "list(net_to_file.items())[0:10]"
   ]
  },
  {
   "cell_type": "code",
   "execution_count": 7,
   "id": "f7ac6c2b-5ddd-40a3-9fe1-be9ccd6b0d8e",
   "metadata": {},
   "outputs": [],
   "source": [
    "def convert_ids_to_int(G):\n",
    "    # Create a new directed graph\n",
    "    G_int = nx.DiGraph()\n",
    "    \n",
    "    # Create a mapping from string IDs to integer IDs\n",
    "    id_mapping = {str_id: int(str_id) for str_id in G.nodes()}\n",
    "    \n",
    "    # Copy nodes and attributes, converting IDs to integers\n",
    "    for str_id, data in G.nodes(data=True):\n",
    "        int_id = id_mapping[str_id]\n",
    "        G_int.add_node(int_id, **data)\n",
    "    \n",
    "    # Copy edges and attributes, converting IDs to integers\n",
    "    for str_id1, str_id2, data in G.edges(data=True):\n",
    "        int_id1, int_id2 = id_mapping[str_id1], id_mapping[str_id2]\n",
    "        G_int.add_edge(int_id1, int_id2, **data)\n",
    "    \n",
    "    return G_int\n",
    "\n",
    "# Convert G to use integer IDs\n",
    "G_int = convert_ids_to_int(G)"
   ]
  },
  {
   "cell_type": "code",
   "execution_count": 8,
   "id": "f12c7bc5-de7d-42e2-8277-e0b541dd73bf",
   "metadata": {},
   "outputs": [
    {
     "data": {
      "text/plain": [
       "(27770, 352807)"
      ]
     },
     "execution_count": 8,
     "metadata": {},
     "output_type": "execute_result"
    }
   ],
   "source": [
    "G_int.number_of_nodes(), G_int.number_of_edges()"
   ]
  },
  {
   "cell_type": "code",
   "execution_count": 9,
   "id": "15cbdb80-115f-4595-9b30-1c5480a6e18c",
   "metadata": {},
   "outputs": [
    {
     "data": {
      "text/plain": [
       "{'file_id': 9711194,\n",
       " 'sequential_id': 5886,\n",
       " 'Paper': 'hep-th/9711194',\n",
       " 'Date': 'Wed, 26 Nov 1997 20:26:20 GMT',\n",
       " 'Title': 'On Integrable Structure behind the Generalized WDVV Equations',\n",
       " 'Comments': 'LaTeX, 6pp',\n",
       " 'Report-no': 'ITEP/TH-67/97',\n",
       " 'Journal-ref': 'Phys.Lett. B427 (1998) 93-96',\n",
       " 'Abstract': 'In the theory of quantum cohomologies the WDVV equations imply integrability of the system $(I\\\\partial_\\\\mu - zC_\\\\mu)\\\\psi = 0$. However, in generic situation -- of which an example is provided by the Seiberg-Witten theory -- there is no distinguished direction (like $t^0$) in the moduli space, and such equations for $\\\\psi$ appear inconsistent. Instead they are substituted by $(C_\\\\mu\\\\partial_\\\\nu - C_\\\\nu\\\\partial_\\\\mu)\\\\psi^{(\\\\mu)} \\\\sim (F_\\\\mu\\\\partial_\\\\nu - F_\\\\nu\\\\partial_\\\\mu)\\\\psi^{(\\\\mu)} = 0$, where matrices $(F_\\\\mu)_{\\\\alpha\\\\beta} = \\\\partial_\\\\alpha \\\\partial_\\\\beta \\\\partial_\\\\mu F$.',\n",
       " 'Journal-ref-DBSCAN': 2,\n",
       " 'Journal-ref-Label': 'Phys.Lett.',\n",
       " 'label': '5886'}"
      ]
     },
     "execution_count": 9,
     "metadata": {},
     "output_type": "execute_result"
    }
   ],
   "source": [
    "# Let's test or integer index now... we pickled it instead of JSONized it so it would retain its integer keys and values!\n",
    "test_id = file_to_net[9711194]\n",
    "G_int.nodes[test_id]"
   ]
  },
  {
   "cell_type": "markdown",
   "id": "d18e7fff-07e6-4a58-94b7-ec9fb81a755e",
   "metadata": {},
   "source": [
    "### `G_int` --> `G`\n",
    "\n",
    "Now we can assign our new integer graph back to `G` and use it below :)"
   ]
  },
  {
   "cell_type": "code",
   "execution_count": 10,
   "id": "9cfabed8-c670-49d3-845e-678dca9633e8",
   "metadata": {},
   "outputs": [],
   "source": [
    "G = G_int"
   ]
  },
  {
   "cell_type": "markdown",
   "id": "86319fce-9dae-4c59-aa67-c55a02b168d0",
   "metadata": {},
   "source": [
    "## Feature Engineering for Node Classification\n",
    "\n",
    "We are going to load our citation graph and then combine a simple encoding of the text features with manually computed features to perform node classification. We will see how our network metrics describing topology affect performance. Try not to always jump to using a network embedding, this is a useful exercise as a baseline :)\n",
    "\n",
    "Our job is to prepare a network features vector `features` that we can append to our other features before we train a classifier to perform link prediction.\n",
    "\n",
    "### Historical Review\n",
    "\n",
    "Remember these slides? Think on them again :) We are going to implement a couple of these to drive our first Journal classifier :) This slide shows numerous methods used in link prediction.\n",
    "\n",
    "<center><img src=\"images/Feature-Engineering-for-Link-Prediction.jpg\" width=\"1000px\" /></center>\n",
    "<center><i>Feature engineering for link predicton can be complicated due to the need to compute them for pairs of nodes.</i></center>\n",
    "\n",
    "<br />\n",
    "\n",
    "<center><img src=\"images/JanusGraph-Titan-Feature-Engineering-in-2014.png\" width=\"1000px\" /></center>\n",
    "<center><i>Feature engineering circa 2014 on a business graph representing relationships between companies in a property graph using <a href=\"https://titan.thinkaurelius.com/\">Titan</a> via <a href=\"https://tinkerpop.apache.org/gremlin.html\">Tinkerpop / Gremlin</a>. Titan became <a href=\"https://janusgraph.org/\">JanusGraph</a>.</i></center>\n",
    "\n",
    "<br />\n",
    "\n",
    "### Store Features by Column in `features`\n",
    "\n",
    "We will compute features for each node or pairs of nodes and then store them in the `features` `np.ndarray` by appending one column at a time. One row is a node. This is described in [NumPy: How to add an extra column to a NumPy array](https://www.w3resource.com/python-exercises/numpy/python-numpy-exercise-86.php) as looking like:\n",
    "\n",
    "<center><img src=\"images/append-column-to-matrix.png\" width=\"500px\" /></center>\n",
    "<center>Image Source: <a href=\"https://www.w3resource.com/python-exercises/numpy/python-numpy-exercise-86.php\">w3resource: NumPy: How to add an extra column to a NumPy array</a></center>\n",
    "\n",
    "#### Re-Running Feature Appends Will Make Duplicate Feature Columns\n",
    "\n",
    "Warning: If you run the cells below that do `np.append(features, my_feat_ary, axis=1)` more than once... you will get a duplicate features column."
   ]
  },
  {
   "cell_type": "code",
   "execution_count": 11,
   "id": "8cd25944-0efe-4c57-a145-1c4567cbd1aa",
   "metadata": {},
   "outputs": [
    {
     "data": {
      "text/plain": [
       "(array([[10, 20, 30],\n",
       "        [40, 50, 60]]),\n",
       " array([[100],\n",
       "        [200]]),\n",
       " array([[ 10,  20,  30, 100],\n",
       "        [ 40,  50,  60, 200]]))"
      ]
     },
     "execution_count": 11,
     "metadata": {},
     "output_type": "execute_result"
    }
   ],
   "source": [
    "# I had to look this up, so here you are :)\n",
    "import numpy as np\n",
    "x = np.array([[10,20,30], [40,50,60]])\n",
    "y = np.array([[100], [200]])\n",
    "x, y, np.append(x, y, axis=1)"
   ]
  },
  {
   "cell_type": "markdown",
   "id": "a87ecd87-e335-4ab5-8928-aacc95b3f92c",
   "metadata": {},
   "source": [
    "### Initialize `features` `nd.array`\n",
    "\n",
    "You can re-run this to recalculate the features from scratch."
   ]
  },
  {
   "cell_type": "code",
   "execution_count": 12,
   "id": "6a566905-e7fc-4838-987f-aea0b082d5d0",
   "metadata": {},
   "outputs": [
    {
     "data": {
      "text/plain": [
       "(array([], shape=(27770, 0), dtype=float64), (27770, 0))"
      ]
     },
     "execution_count": 12,
     "metadata": {},
     "output_type": "execute_result"
    }
   ],
   "source": [
    "# Create an inner list for each node ID\n",
    "inner_lists = [[] for x in range(G.number_of_nodes())]\n",
    "\n",
    "# The shape is 27,770 nodes long with zero feature columns\n",
    "features = np.array(inner_lists)\n",
    "features, features.shape"
   ]
  },
  {
   "cell_type": "markdown",
   "id": "aee28f99-ca8a-4922-85cf-44517ac70359",
   "metadata": {},
   "source": [
    "### `networkx` Centrality Metrics\n",
    "\n",
    "For our first features, we will use `networkx` to compute some centrality metrics. I'm going to limit our calculations to two centralities you can use in practice on networks of most any size:\n",
    "\n",
    "* Degree Centrality (in degree, out degree, degree [both]) - this is simple and shows how well connected a node is\n",
    "* Eigenvector Centrality - measures the influence of a node in a network, where a node is considered influential if it is connected to other influential nodes.\n",
    "\n",
    "Check out this list of [networkx.centrality](https://networkx.org/documentation/stable/reference/algorithms/centrality.html) metrics for feature ideas.\n",
    "\n",
    "#### Display Metrics using `pd.Series`\n",
    "\n",
    "If you want to see a metric computer by `nx.my_function()` you can wrap the `Dict` it returns [which will ALL print in a notebok] in a `pd.Series` and it will use the node ID as the index and display the feature. It is a good idea to lay eyes on things you compute - when possible - as often something goes wrong on a first attempt :)\n",
    "\n",
    "#### Degree Centrality\n",
    "\n",
    "Degree centrality is a **local centrality** metric. It measure influence in the nearby network.\n",
    "\n",
    "NetworkX measures degree centrality as a relative value for all nodes in a network. This can complicate inference but keeps values within an interpretable range."
   ]
  },
  {
   "cell_type": "code",
   "execution_count": 13,
   "id": "682b2420-ade7-42b1-af66-81f2030409f8",
   "metadata": {},
   "outputs": [
    {
     "data": {
      "text/plain": [
       "0        0.003349\n",
       "1        0.000612\n",
       "2        0.004393\n",
       "3        0.005186\n",
       "4        0.002053\n",
       "           ...   \n",
       "27765    0.000036\n",
       "27766    0.000216\n",
       "27767    0.000216\n",
       "27768    0.000036\n",
       "27769    0.000288\n",
       "Length: 27770, dtype: float64"
      ]
     },
     "execution_count": 13,
     "metadata": {},
     "output_type": "execute_result"
    }
   ],
   "source": [
    "degree = nx.degree_centrality(G)\n",
    "\n",
    "# See - takes just 11 lines. The Dict printed over 27K rows on my screen. Try it!\n",
    "pd.Series(degree)"
   ]
  },
  {
   "cell_type": "code",
   "execution_count": 14,
   "id": "a6c2911d-ac45-4c99-b81d-3177fa73ee49",
   "metadata": {},
   "outputs": [
    {
     "data": {
      "text/plain": [
       "0        0.000360\n",
       "1        0.000576\n",
       "2        0.004141\n",
       "3        0.005042\n",
       "4        0.001981\n",
       "           ...   \n",
       "27765    0.000036\n",
       "27766    0.000000\n",
       "27767    0.000000\n",
       "27768    0.000000\n",
       "27769    0.000000\n",
       "Length: 27770, dtype: float64"
      ]
     },
     "execution_count": 14,
     "metadata": {},
     "output_type": "execute_result"
    }
   ],
   "source": [
    "in_degree = nx.in_degree_centrality(G)\n",
    "pd.Series(in_degree)"
   ]
  },
  {
   "cell_type": "code",
   "execution_count": 15,
   "id": "2c761e8d-305e-401b-9bc2-037b6a24e0b4",
   "metadata": {},
   "outputs": [
    {
     "data": {
      "text/plain": [
       "0        0.002989\n",
       "1        0.000036\n",
       "2        0.000252\n",
       "3        0.000144\n",
       "4        0.000072\n",
       "           ...   \n",
       "27765    0.000000\n",
       "27766    0.000216\n",
       "27767    0.000216\n",
       "27768    0.000036\n",
       "27769    0.000288\n",
       "Length: 27770, dtype: float64"
      ]
     },
     "execution_count": 15,
     "metadata": {},
     "output_type": "execute_result"
    }
   ],
   "source": [
    "out_degree = nx.out_degree_centrality(G)\n",
    "pd.Series(out_degree)"
   ]
  },
  {
   "cell_type": "markdown",
   "id": "4cea3852-a8a2-4966-a70e-29cc7210a28e",
   "metadata": {},
   "source": [
    "#### Eigenvector Centrality\n",
    "\n",
    "Eigenvector centrality is a **global centrality** metric. It measures influence within the entire network. _We always want a local and global centrality metric in our feature set_. To understand eigenvectors, check out this amazing simulation: [Eigenvectors and Eigenvalues](https://setosa.io/ev/eigenvectors-and-eigenvalues/)"
   ]
  },
  {
   "cell_type": "code",
   "execution_count": 16,
   "id": "f1e078dd-2b84-4a11-82fd-d9b75cf19530",
   "metadata": {},
   "outputs": [
    {
     "name": "stdout",
     "output_type": "stream",
     "text": [
      "Largest comonent size: 27,400\n"
     ]
    }
   ],
   "source": [
    "# Eigenvector centrality is problematic in disconnected graphs, so take the largest component...\n",
    "components = nx.connected_components(G.to_undirected())\n",
    "largest_component = max(components, key=len)\n",
    "G_big_component = G.subgraph(largest_component).copy()\n",
    "\n",
    "print(f\"Largest comonent size: {len(G_big_component):,}\")"
   ]
  },
  {
   "cell_type": "code",
   "execution_count": 17,
   "id": "6340a5d1-44e6-40e8-ae5e-07c7c95a27dc",
   "metadata": {},
   "outputs": [
    {
     "data": {
      "text/plain": [
       "0        1.349286e-02\n",
       "1        3.755065e-04\n",
       "2        8.061580e-03\n",
       "3        8.825151e-03\n",
       "4        4.601559e-03\n",
       "             ...     \n",
       "27765    6.954306e-09\n",
       "27766    2.261535e-06\n",
       "27767    3.047158e-03\n",
       "27768    1.374439e-05\n",
       "27769    2.980450e-04\n",
       "Length: 27400, dtype: float64"
      ]
     },
     "execution_count": 17,
     "metadata": {},
     "output_type": "execute_result"
    }
   ],
   "source": [
    "# Visualize the eigenvectors... see \n",
    "eigenvector = nx.eigenvector_centrality_numpy(G_big_component.to_undirected())\n",
    "pd.Series(eigenvector)"
   ]
  },
  {
   "cell_type": "code",
   "execution_count": 18,
   "id": "140187fb-ccee-49e5-8e85-15b7d1d2ce10",
   "metadata": {},
   "outputs": [],
   "source": [
    "# ... and make it undirected, to ensure it is connected\n",
    "eigenvectors = nx.eigenvector_centrality_numpy(\n",
    "    G_big_component.to_undirected()\n",
    ")\n",
    "\n",
    "for node, score in eigenvectors.items():\n",
    "    G_big_component.nodes[node][\"eigenvector\"] = score\n",
    "    G_big_component.nodes[node][\"eigenvector_log10\"] = np.log10(score + 0.000001)  # can't be zero for log"
   ]
  },
  {
   "cell_type": "code",
   "execution_count": 19,
   "id": "e5f90b9d-b65e-46b2-8f51-18587d080081",
   "metadata": {},
   "outputs": [],
   "source": [
    "# Initialize eigenvector_centrality property as 0 for all nodes\n",
    "nx.set_node_attributes(G, 0.0, \"eigenvector\")\n",
    "nx.set_node_attributes(G, 0.0, \"eigenvector_log10\")\n",
    "\n",
    "# Assign the eigenvector centrality values from subgraph to original graph\n",
    "nx.set_node_attributes(G, {node: eigenvectors[node] for node in G_big_component}, \"eigenvector\")\n",
    "nx.set_node_attributes(G, {node: np.log10(G.nodes[node]['eigenvector'] + 1e-10) for node in G.nodes()}, \"eigenvector_log10\")"
   ]
  },
  {
   "cell_type": "code",
   "execution_count": 20,
   "id": "50b11761-9631-4d56-9f10-5a1e04725c12",
   "metadata": {},
   "outputs": [],
   "source": [
    "eigenvector_dict = nx.get_node_attributes(G, 'eigenvector')"
   ]
  },
  {
   "cell_type": "code",
   "execution_count": 21,
   "id": "58a519d9-b1ad-435e-8c2b-451956cb0d4e",
   "metadata": {},
   "outputs": [
    {
     "data": {
      "text/plain": [
       "0        1.349286e-02\n",
       "1        3.755065e-04\n",
       "2        8.061580e-03\n",
       "3        8.825151e-03\n",
       "4        4.601559e-03\n",
       "             ...     \n",
       "27765    6.954306e-09\n",
       "27766    2.261535e-06\n",
       "27767    3.047158e-03\n",
       "27768    1.374439e-05\n",
       "27769    2.980450e-04\n",
       "Length: 27770, dtype: float64"
      ]
     },
     "execution_count": 21,
     "metadata": {},
     "output_type": "execute_result"
    }
   ],
   "source": [
    "# Get an array for our features array\n",
    "eigenvector_array = np.array([G.nodes[node][\"eigenvector\"] for node in G.nodes()])\n",
    "pd.Series(eigenvector_array)"
   ]
  },
  {
   "cell_type": "markdown",
   "id": "7cc84c28-1df2-465c-bde0-b5e30ea0f5f7",
   "metadata": {},
   "source": [
    "### Add to `features` `np.array`\n",
    "\n",
    "That gives us four features so far that indicate a node's prominence in the network. Let's combine them to produce a four feature long feature vector."
   ]
  },
  {
   "cell_type": "code",
   "execution_count": 22,
   "id": "01466c8a-7930-4efc-bb02-7d8817ba3487",
   "metadata": {},
   "outputs": [
    {
     "data": {
      "text/plain": [
       "(array([0.00334906, 0.00061219, 0.00439339, 0.00518564, 0.00205265,\n",
       "        0.01660125, 0.0028449 , 0.04710288, 0.03647953, 0.00550974]),\n",
       " array([[0.00334906],\n",
       "        [0.00061219],\n",
       "        [0.00439339],\n",
       "        [0.00518564],\n",
       "        [0.00205265],\n",
       "        [0.01660125],\n",
       "        [0.0028449 ],\n",
       "        [0.04710288],\n",
       "        [0.03647953],\n",
       "        [0.00550974]]))"
      ]
     },
     "execution_count": 22,
     "metadata": {},
     "output_type": "execute_result"
    }
   ],
   "source": [
    "np.array(list(degree.values())[0:10]), np.array(list(degree.values())[0:10]).reshape(-1, 1)"
   ]
  },
  {
   "cell_type": "code",
   "execution_count": 23,
   "id": "5ff6162b-7420-49a8-b520-524ec83e89a3",
   "metadata": {},
   "outputs": [
    {
     "data": {
      "text/plain": [
       "(array([[3.34905830e-03, 3.60113796e-04, 2.98894451e-03, 1.34928555e-02],\n",
       "        [6.12193453e-04, 5.76182074e-04, 3.60113796e-05, 3.75506540e-04],\n",
       "        [4.39338831e-03, 4.14130865e-03, 2.52079657e-04, 8.06157958e-03],\n",
       "        ...,\n",
       "        [2.16068278e-04, 0.00000000e+00, 2.16068278e-04, 3.04715788e-03],\n",
       "        [3.60113796e-05, 0.00000000e+00, 3.60113796e-05, 1.37443864e-05],\n",
       "        [2.88091037e-04, 0.00000000e+00, 2.88091037e-04, 2.98045032e-04]]),\n",
       " (27770, 4))"
      ]
     },
     "execution_count": 23,
     "metadata": {},
     "output_type": "execute_result"
    }
   ],
   "source": [
    "# Prepare and append the degree features for addition to `features`\n",
    "for d in [degree, in_degree, out_degree, eigenvector_dict]:\n",
    "    d_ary = np.array(list(d.values())).reshape(-1, 1)\n",
    "    features = np.append(features, d_ary, axis=1)\n",
    "\n",
    "features, features.shape"
   ]
  },
  {
   "cell_type": "markdown",
   "id": "1cb6dd77-7f42-4430-90fa-04bc4fb3d179",
   "metadata": {},
   "source": [
    "### Community Detection with Louvain Modularity\n",
    "\n",
    "What about other kinds of features? One important category is the local group a node belongs to after performing an operation called \n",
    "\n",
    "One thing we didn't cover in Part 2 - Network Science, was community detection. What community a node belongs to is an important feature. We're going to cluster our network into communities and visualize them in Graphistry. Then we're going to add the cluster IDs as features in our `features` `np.array`.\n",
    "\n",
    "While there are many network clustering algorithms, the most common method of community detection is [Louvain Modularity](https://en.wikipedia.org/wiki/Louvain_method). We're going to use [nx.community.louvain_communities](https://networkx.org/documentation/stable/reference/algorithms/generated/networkx.algorithms.community.louvain.louvain_communities.html#networkx.algorithms.community.louvain.louvain_communities) because it is efficient enough to work on networks up to moderate size using one computer. You can usually find a Louvain Modularity implementation for whatever platform you use to process even large networks - big data.\n",
    "\n",
    "> The method is a greedy optimization method that appears to run in time `O(n * log(n))`.\n",
    ">\n",
    "> ...\n",
    "> \n",
    "> In the Louvain Method of community detection, first small communities are found by optimizing modularity locally on all nodes, then each small community is grouped into one node and the first step is repeated.\n",
    "\n",
    "-- Wikipedia, [Louvain method](https://en.wikipedia.org/wiki/Louvain_method)"
   ]
  },
  {
   "cell_type": "code",
   "execution_count": 24,
   "id": "9bf507b5-97e5-4ca3-941b-9bb6735c9ef4",
   "metadata": {},
   "outputs": [
    {
     "data": {
      "text/plain": [
       "173"
      ]
     },
     "execution_count": 24,
     "metadata": {},
     "output_type": "execute_result"
    }
   ],
   "source": [
    "clusters = nx.community.louvain_communities(G, seed=SEED)\n",
    "len(clusters)"
   ]
  },
  {
   "cell_type": "markdown",
   "id": "d629b24e-5b15-471c-b1d1-504ef0c9a5f7",
   "metadata": {},
   "source": [
    "#### Evaluating Modularity\n",
    "\n",
    "I am curious how many clusters there are... lets plot their size in Seaborn using log scale. You can see there is a power law distribtion in cluster size."
   ]
  },
  {
   "cell_type": "code",
   "execution_count": 25,
   "id": "4f903978-eb1a-4ce0-af0f-9e9cca7300c6",
   "metadata": {},
   "outputs": [
    {
     "data": {
      "image/png": "[encoded data removed]",
      "text/plain": [
       "<Figure size 640x480 with 1 Axes>"
      ]
     },
     "metadata": {},
     "output_type": "display_data"
    }
   ],
   "source": [
    "# Get connected components and their sizes\n",
    "cluster_size = [len(c) for c in clusters]\n",
    "\n",
    "# Use seaborn to create the histogram\n",
    "sns.histplot(cluster_size, kde=True, bins=20, log_scale=True)\n",
    "plt.title(\"Histogram of Cluster Sizes\")\n",
    "plt.xlabel(\"Cluster Size\")\n",
    "plt.ylabel(\"Count\")\n",
    "plt.show()"
   ]
  },
  {
   "cell_type": "code",
   "execution_count": 26,
   "id": "c2f43db9-4e1f-4a1b-bf8c-a85c3f52029b",
   "metadata": {},
   "outputs": [
    {
     "name": "stdout",
     "output_type": "stream",
     "text": [
      "[   2481, 2144, 1779, 1731, 1727, 1596, 1594, 1551, 1447, 1412, 1332, 1255,\n",
      "    1108, 919, 844, 835, 817, 674, 540, 495, 316, 314, 170, 157, 113, 11, 10,\n",
      "    10, 8, 8, 7, 7, 6, 6, 6, 5, 5, 5, 5, 5, 5, 4, 4, 4, 4, 4, 4, 4, 4, 4]\n"
     ]
    }
   ],
   "source": [
    "pprint(sorted(cluster_size, reverse=True)[0:50], indent=4, compact=True)"
   ]
  },
  {
   "cell_type": "markdown",
   "id": "206b3295-e0dc-4526-8384-519b2d5448f6",
   "metadata": {},
   "source": [
    "### ChatGPT and Me\n",
    "\n",
    "I needed to do consult a reference to interpret what this might mean for a citation graph... I knew it had a power law distribution with a long tail. I fed the following prompt to ChatGPT-4 Browser:\n",
    "\n",
    "#### **CHATGPT PROMPT**\n",
    "\n",
    "I have a citation graph of physics papers from arXiv, the high energy physics citation network from Stanford SNAP. I used NetworkX to compute Louvain Modularity and measured cluster sizes. Then I plotted them in seaborn on a log scale.\n",
    "\n",
    "The first 50 cluster sizes, sorted in descending order are:\n",
    "\n",
    "```\n",
    "[   2481, 2144, 1779, 1731, 1727, 1596, 1594, 1551, 1447, 1412, 1332, 1255,\n",
    "    1108, 919, 844, 835, 817, 674, 540, 495, 316, 314, 170, 157, 113, 11, 10,\n",
    "    10, 8, 8, 7, 7, 6, 6, 6, 5, 5, 5, 5, 5, 5, 4, 4, 4, 4, 4, 4, 4, 4, 4]\n",
    "```\n",
    "\n",
    "Please interpret this histogram of cluster sizes and tell me what it means for a citation graph.\n",
    "\n",
    "#### Comment\n",
    "\n",
    "The output checks out... ChatGPT-4 can interpret a histogram in a specific domain fairly well. Check it out. I'm trying to demonstrate how to incorporate AI into your workflows... I did ask it to rewrite this in fewer words, but I'm printing the entire output below.\n",
    "\n",
    "#### **CHATGPT RESPONSE**\n",
    "\n",
    "The cluster sizes you've provided, derived from applying the Louvain Modularity algorithm on a citation graph of physics papers, represent the sizes of communities of papers that cite each other. The sizes are listed in descending order, indicating a few large clusters followed by many smaller ones. This pattern is typical in real-world networks and is often referred to as a scale-free or heavy-tailed distribution. Here are a few interpretations and insights based on this distribution:\n",
    "\n",
    "* Community Structure - There are a few large communities of papers (e.g., the largest has 1909 papers) which likely represent major topics or fields within high energy physics. These large clusters suggest that there are common themes that have garnered significant attention and citation in the community.\n",
    "* Long Tail - As we move down the list, the cluster sizes decrease, forming a long tail of smaller communities. This indicates a wide variety of specialized or niche topics within the field that have smaller groups of papers citing each other.\n",
    "* Power-Law Distribution - The distribution of cluster sizes resembles a power-law distribution, which is common in many natural and social phenomena. In a power-law distribution, a few items (in this case, topics or fields) are exceptionally common, but the vast majority are rare.\n",
    "* Interdisciplinary or Emerging Areas - The smaller clusters may represent interdisciplinary or emerging areas of research that have not yet amassed a large number of citations.\n",
    "* Potential for Further Exploration - Understanding the thematic content of the large clusters could provide insights into the major areas of focus in high energy physics, while exploring the smaller clusters might reveal emerging or under-explored areas of research.\n",
    "* Rich-Get-Richer Phenomenon - The distribution may also reflect a \"rich-get-richer\" phenomenon where well-cited papers continue to accumulate more citations over time, reinforcing the prominence of certain topics.\n",
    "* Validation of Louvain Modularity - The distribution of cluster sizes could also serve as a validation of the Louvain Modularity algorithm's effectiveness in detecting community structure within the citation network.\n",
    "\n",
    "### Featurizing Communities\n",
    "\n",
    "To featurize our communities, we need to assign numeric values to the clusters and append a column for cluster ID to `features`. Note, we could alternatively [one-hot-encode](https://scikit-learn.org/stable/modules/generated/sklearn.preprocessing.OneHotEncoder.html) the features to give them one feature column per cluster. This would make the features sparse, which means lesss signal - something neural networks don't like but that another algorithm might not mind. We could use the [hashing trick](https://scikit-learn.org/stable/modules/generated/sklearn.feature_extraction.FeatureHasher.html) - a method of feature engineering somewhere in between one-hot-encoding and neural embeddings. We are instead going to _label encode_ them with [sklearn.preprocessing.LabelEncoder](https://scikit-learn.org/stable/modules/generated/sklearn.preprocessing.LabelEncoder.html)."
   ]
  },
  {
   "cell_type": "code",
   "execution_count": 27,
   "id": "127299fd-fe7a-4e11-9dfb-780bb0b6111e",
   "metadata": {},
   "outputs": [
    {
     "name": "stdout",
     "output_type": "stream",
     "text": [
      "[   {   1191, 1214, 1313, 1314, 1358, 1389, 1461, 1753, 1793, 1799, 1976, 1978,\n",
      "        2074, 2636, 2696, 2697, 2698, 2699, 2700, 2701, 2702, 2703, 2704, 2705,\n",
      "        2706, 2707, 2708, 2709, 2710, 2711, 2712, 2713, 2714, 2715, 2716, 2717,\n",
      "        2718, 2719, 2720, 2724, 2725, 2726, 2727, 2818, 2821, 2822, 2823, 2824,\n",
      "        3025, 3026, 3217, 3218, 3219, 3220, 3515, 3758, 3889, 3890, 3891, 3892,\n",
      "        3893, 3894, 3897, 3898, 3899, 3900, 3901, 3902, 3903, 3904, 3905, 3906,\n",
      "        3907, 3908, 3909, 3910, 3911, 3912, 3914, 3915, 3916, 3917, 3918, 3919,\n",
      "        3920, 3923, 3929, 4331, 4354, 4355, 4533, 4762, 4763, 4861, 4862, 4863,\n",
      "        4864, 4865, 4866, 4867, 4868, 4869, 4870, 4871, 4872, 4873, 4874, 4875,\n",
      "        4876, 4877, 4878, 4879, 4880, 4881, 4882, 4883, 4884, 4885, 4886, 4887,\n",
      "        4888, 4889, 4890, 4891, 4892, 4893, 4894, 4895, 4896, 4897, 4899, 4900,\n",
      "        4902, 4903, 4904, 4905, 4906, 4907, 4908, 4909, 4910, 4911, 4912, 4913,\n",
      "        4914, 4915, 4916, 4917, 5002, 5032, 5131, 5134, 5136, 5137, 5138, 5139,\n",
      "        5140, 5141, 5142, 5143, 5144, 5145, 5146, 5147, 5148, 5149, 5151, 5152,\n",
      "        5153, 5155, 5156, 5157, 5158, 5159, 5160, 5161, 5162, 5163, 5164, 5165,\n",
      "        5166, 5167, 5168, 5171, 5174, 5175, 5177, 5202, 5227, 5425, 5478, 5479,\n",
      "        5480, 5481, 5482, 5647, 5741, 5747, 5748, 5749, 5750, 5751, 5752, 5753,\n",
      "        5755, 5756, 5757, 5758, 5782, 5830, 5872, 5876, 6012, 6019, 6023, 6202,\n",
      "        6203, 6213, 6258, 6259, 6260, 6262, 6263, 6353, 6525, 6726, 6754, 6801,\n",
      "        6803, 6804, 6820, 6846, 6847, 6874, 6875, 6876, 6877, 6878, 6879, 6880,\n",
      "        6883, 6884, 6885, 6886, 6887, 6888, 6889, 6890, 6891, 6892, 6893, 6894,\n",
      "        6895, 6896, 6897, 6898, 6899, 6900, 6901, 6902, 6903, 7197, 7218, 7266,\n",
      "        7269, 7272, 7276, 7277, 7278, 7282, 7339, 7341, 7342, 7343, 7344, 7345,\n",
      "        7346, 7347, 7581, 7582, 7583, 7584, 7585, 7586, 7588, 7589, 7590, 7592,\n",
      "        7593, 7594, 7595, 7596, 7597, 7598, 7599, 7600, 7601, 7602, 7603, 7604,\n",
      "        7605, 7608, 7609, 7610, 7611, 7612, 7613, 7614, 7615, 7616, 7617, 7618,\n",
      "        7619, 7621, 7622, 7623, 7624, 7625, 7626, 7627, 7628, 7629, 7630, 7631,\n",
      "        7632, 7633, 7640, 7641, 7642, 7666, 7701, 7716, 7749, 7750, 7751, 7767,\n",
      "        7768, 7770, 7771, 7772, 7775, 7776, 7848, 7878, 7889, 8018, 8095, 8096,\n",
      "        8097, 8098, 8100, 8101, 8102, 8104, 8159, 8160, 8162, 8213, 8214, 8288,\n",
      "        8371, 8372, 8373, 8374, 8375, 8376, 8377, 8378, 8379, 8380, 8381, 8382,\n",
      "        8398, 8412, 8413, 8415, 8417, 8422, 8439, 8440, 8442, 8443, 8444, 8445,\n",
      "        8446, 8447, 8448, 8451, 8453, 8455, 8456, 8460, 8461, 8462, 8463, 8502,\n",
      "        8503, 8504, 8505, 8506, 8508, 8509, 8511, 8512, 8513, 8514, 8515, 8574,\n",
      "        8664, 8806, 8807, 8808, 8809, 8810, 8811, 8812, 8813, 8814, 8816, 8817,\n",
      "        8818, 8819, 8820, 8822, 8823, 8824, 8825, 8826, 8827, 8828, 8838, 8839,\n",
      "        8843, 8848, 8902, 9115, 9117, 9119, 9120, 9121, 9122, 9123, 9124, 9129,\n",
      "        9134, 9135, 9136, 9137, 9138, 9155, 9220, 9221, 9222, 9233, 9239, 9240,\n",
      "        9296, 9381, 9382, 9383, 9384, 9450, 9451, 9452, 9453, 9454, 9455, 9456,\n",
      "        9457, 9458, 9459, 9460, 9461, 9462, 9463, 9465, 9466, 9467, 9468, 9469,\n",
      "        9470, 9471, 9478, 9542, 9581, 9582, 9583, 9584, 9585, 9586, 9690, 9692,\n",
      "        9712, 9714, 9715, 9779, 9780, 9845, 9846, 9847, 9848, 9849, 9933, 9952,\n",
      "        9969, 9978, 10008, 10009, 10010, 10011, 10022, 10057, 10058, 10060,\n",
      "        10061, 10062, 10213, 10215, 10216, 10217, 10218, 10219, 10220, 10222,\n",
      "        10223, 10224, 10257, 10520, 10599, 10675, 10744, 10745, 10746, 10747,\n",
      "        10748, 10792, 10795, 10805, 10844, 10870, 10871, 10872, 10873, 10874,\n",
      "        10875, 10876, 10877, 10917, 10918, 11038, 11053, 11100, 11268, 11278,\n",
      "        11279, 11280, 11281, 11323, 11324, 11325, 11332, 11333, 11364, 11365,\n",
      "        11366, 11367, 11368, 11369, 11370, 11371, 11372, 11373, 11374, 11434,\n",
      "        11436, 11480, 11482, 11483, 11484, 11485, 11490, 11491, 11495, 11496,\n",
      "        11497, 11498, 11499, 11500, 11501, 11502, 11503, 11504, 11509, 11510,\n",
      "        11512, 11513, 11514, 11515, 11516, 11517, 11518, 11554, 11685, 11772,\n",
      "        11813, 11814, 11815, 11868, 11898, 11922, 11924, 11925, 11926, 11927,\n",
      "        11959, 11960, 11961, 12003, 12131, 12167, 12168, 12169, 12170, 12171,\n",
      "        12172, 12173, 12174, 12175, 12176, 12177, 12178, 12179, 12180, 12181,\n",
      "        12257, 12275, 12276, 12303, 12314, 12465, 12466, 12467, 12468, 12469,\n",
      "        12541, 12601, 12636, 12643, 12689, 12768, 12770, 12794, 12795, 12848,\n",
      "        12876, 12877, 12878, 12898, 12918, 13079, 13080, 13114, 13151, 13168,\n",
      "        13171, 13172, 13173, 13174, 13175, 13176, 13177, 13254, 13345, 13346,\n",
      "        13347, 13348, 13349, 13443, 13518, 13519, 13620, 13621, 13622, 13623,\n",
      "        13624, 13625, 13690, 13869, 13924, 14084, 14086, 14130, 14149, 14150,\n",
      "        14151, 14152, 14153, 14256, 14393, 14439, 14447, 14528, 14537, 14581,\n",
      "        14638, 14696, 14746, 14747, 14748, 14749, 14750, 14751, 14752, 14753,\n",
      "        14754, 14785, 14830, 14831, 14832, 14833, 14834, 14835, 14836, 14837,\n",
      "        14838, 14843, 14925, 14927, 14928, 14931, 14932, 14933, 14934, 14935,\n",
      "        14936, 14937, 14974, 14975, 15014, 15122, 15151, 15190, 15354, 15355,\n",
      "        15356, 15362, 15368, 15370, 15371, 15404, 15424, 15434, 15435, 15436,\n",
      "        15459, 15460, 15462, 15502, 15503, 15504, 15505, 15506, 15513, 15536,\n",
      "        15620, 15621, 15629, 15684, 15724, 15784, 15843, 15924, 15989, 15990,\n",
      "        15994, 15995, 16061, 16097, 16157, 16175, 16176, 16221, 16223, 16300,\n",
      "        16342, 16362, 16390, 16391, 16392, 16393, 16394, 16403, 16404, 16405,\n",
      "        16406, 16416, 16417, 16424, 16461, 16462, 16463, 16478, 16479, 16554,\n",
      "        16555, 16667, 16668, 16669, 16670, 16727, 16728, 16755, 17119, 17120,\n",
      "        17121, 17122, 17123, 17124, 17206, 17230, 17231, 17232, 17233, 17234,\n",
      "        17247, 17406, 17407, 17584, 17654, 17729, 17730, 17731, 17766, 17834,\n",
      "        17835, 17852, 17907, 17908, 17910, 17959, 17961, 17991, 18105, 18116,\n",
      "        18124, 18125, 18127, 18128, 18152, 18166, 18167, 18168, 18169, 18210,\n",
      "        18211, 18293, 18294, 18295, 18298, 18381, 18382, 18425, 18440, 18504,\n",
      "        18542, 18550, 18615, 18731, 18732, 18733, 18762, 18770, 18782, 18800,\n",
      "        18802, 18803, 18836, 18918, 18919, 19060, 19086, 19087, 19088, 19089,\n",
      "        19090, 19091, 19161, 19211, 19217, 19229, 19233, 19234, 19240, 19241,\n",
      "        19242, 19243, 19244, 19258, 19259, 19260, 19262, 19285, 19324, 19325,\n",
      "        19326, 19388, 19432, 19646, 19683, 19751, 19752, 19754, 19765, 19808,\n",
      "        19810, 19811, 19812, 19813, 19835, 19870, 19871, 19887, 19922, 19975,\n",
      "        19999, 20009, 20076, 20172, 20187, 20188, 20284, 20326, 20411, 20428,\n",
      "        20429, 20430, 20431, 20449, 20506, 20557, 20558, 20604, 20605, 20638,\n",
      "        20736, 20808, 20809, 20894, 21064, 21102, 21136, 21150, 21151, 21181,\n",
      "        21212, 21216, 21242, 21256, 21335, 21358, 21359, 21360, 21361, 21394,\n",
      "        21412, 21481, 21556, 21595, 21631, 21666, 21669, 21722, 21739, 21809,\n",
      "        21810, 21821, 21830, 21914, 21916, 22176, 22200, 22276, 22348, 22429,\n",
      "        22477, 22557, 22558, 22572, 22573, 22758, 22759, 22792, 22913, 22914,\n",
      "        22915, 22916, 22947, 23012, 23067, 23084, 23101, 23266, 23310, 23381,\n",
      "        23469, 23498, 23499, 23500, 23501, 23502, 23503, 23504, 23505, 23528,\n",
      "        23549, 23638, 23671, 23698, 23734, 23768, 23823, 23831, 23832, 23833,\n",
      "        23834, 23846, 23893, 24009, 24010, 24011, 24037, 24038, 24050, 24114,\n",
      "        24115, 24145, 24262, 24298, 24299, 24315, 24316, 24324, 24328, 24332,\n",
      "        24335, 24366, 24370, 24373, 24374, 24375, 24383, 24392, 24401, 24403,\n",
      "        24409, 24420, 24424, 24441, 24463, 24480, 24481, 24482, 24485, 24486,\n",
      "        24508, 24522, 24523, 24538, 24549, 24564, 24571, 24577, 24588, 24603,\n",
      "        24615, 24637, 24666, 24668, 24700, 24715, 24739, 24740, 24743, 24758,\n",
      "        24759, 24772, 24773, 24846, 24853, 24879, 24902, 24908, 24917, 24962,\n",
      "        24966, 24979, 24988, 24989, 24995, 25024, 25025, 25035, 25062, 25066,\n",
      "        25068, 25073, 25080, 25121, 25127, 25135, 25149, 25183, 25187, 25188,\n",
      "        25189, 25190, 25191, 25197, 25198, 25200, 25236, 25296, 25302, 25305,\n",
      "        25337, 25340, 25341, 25345, 25347, 25375, 25376, 25378, 25395, 25409,\n",
      "        25411, 25417, 25418, 25439, 25455, 25470, 25471, 25473, 25474, 25483,\n",
      "        25500, 25507, 25512, 25513, 25531, 25545, 25546, 25552, 25559, 25561,\n",
      "        25606, 25609, 25618, 25663, 25670, 25676, 25680, 25705, 25712, 25713,\n",
      "        25719, 25737, 25763, 25799, 25803, 25874, 25881, 25897, 25912, 25945,\n",
      "        25968, 25969, 26009, 26010, 26011, 26017, 26018, 26020, 26030, 26044,\n",
      "        26074, 26077, 26078, 26103, 26115, 26127, 26141, 26152, 26160, 26161,\n",
      "        26167, 26170, 26175, 26188, 26214, 26227, 26234, 26235, 26247, 26248,\n",
      "        26262, 26278, 26301, 26328, 26329, 26340, 26348, 26353, 26360, 26361,\n",
      "        26362, 26374, 26377, 26382, 26402, 26404, 26417, 26428, 26445, 26460,\n",
      "        26461, 26467, 26471, 26478, 26489, 26499, 26500, 26505, 26509, 26527,\n",
      "        26559, 26560, 26564, 26566, 26571, 26582, 26609, 26611, 26623, 26624,\n",
      "        26629, 26634, 26635, 26636, 26660, 26662, 26670, 26747, 26767, 26781,\n",
      "        26789, 26790, 26835, 26840, 26842, 26869, 26925, 26933, 26950, 26973,\n",
      "        26983, 27010, 27027, 27037, 27045, 27075, 27076, 27079, 27094, 27101,\n",
      "        27102, 27103, 27105, 27106, 27121, 27129, 27150, 27161, 27172, 27183,\n",
      "        27190, 27198, 27200, 27215, 27219, 27220, 27221, 27227, 27231, 27254,\n",
      "        27255, 27260, 27331, 27334, 27335, 27341, 27343, 27365, 27378, 27379,\n",
      "        27384, 27393, 27399, 27402, 27442, 27465, 27484, 27496, 27497, 27504,\n",
      "        27506, 27507, 27532, 27538, 27559, 27563, 27573, 27607, 27631, 27639,\n",
      "        27640, 27655, 27662, 27663, 27678, 27687, 27696, 27720},\n",
      "    {   1773, 9724, 9728, 10051, 11310, 11694, 11696, 11697, 11698, 11699,\n",
      "        11700, 11701, 11702, 11703, 11704, 11705, 11706, 11707, 11708, 11709,\n",
      "        11902, 11903, 11904, 11905, 11906, 11907, 11908, 11909, 11910, 12478,\n",
      "        12479, 12480, 12481, 12482, 12483, 12537, 12561, 14002, 14605, 14606,\n",
      "        14607, 14608, 16288, 18426, 18427, 18428, 18845, 19394, 19395, 19396,\n",
      "        19397, 19398, 19489, 19490, 19491, 19546, 19547, 19548, 19549, 19550,\n",
      "        19745, 19746, 20071, 20205, 20206, 20207, 21318, 21731, 21732, 22100,\n",
      "        22101, 22102, 22103, 22104, 22105, 23854, 24032, 24033, 24419, 24832,\n",
      "        24856, 25133, 25506, 25691, 25739, 25755, 25756, 25781, 25844, 25999,\n",
      "        26206, 26358, 26427, 26538, 26539, 26702, 26711, 26754, 26755, 26829,\n",
      "        26868, 26872, 26916, 27137, 27138, 27139, 27191, 27209, 27328, 27342,\n",
      "        27578, 27633, 27647},\n",
      "    {   896, 991, 1091, 1094, 1095, 1096, 1097, 1098, 1099, 1100, 1101, 1102,\n",
      "        1103, 1104, 1792, 1794, 1795, 1796, 1798, 1800, 1801, 1802, 1803, 1804,\n",
      "        1805, 1806, 1807, 1808, 1809, 1811, 1812, 1815, 1817, 1818, 1819, 1820,\n",
      "        1831, 1832, 1833, 1835, 1838, 1839, 1840, 1843, 2176, 2212, 2213, 2219,\n",
      "        2409, 2444, 2452, 2454, 2804, 2805, 2806, 3628, 3629, 3672, 3673, 3674,\n",
      "        3675, 3676, 3677, 3678, 3679, 3680, 3681, 3682, 3683, 3684, 3685, 3686,\n",
      "        3687, 3688, 3689, 3690, 3691, 3692, 3693, 3696, 3697, 3698, 3699, 3704,\n",
      "        3705, 3706, 3707, 3708, 3709, 3711, 3712, 3713, 3714, 3715, 3716, 3717,\n",
      "        3718, 3719, 3720, 3881, 3882, 4063, 4302, 4323, 4509, 4510, 4512, 4514,\n",
      "        4515, 4516, 4521, 4522, 4523, 4524, 4528, 4530, 4532, 4534, 4535, 4536,\n",
      "        4537, 4538, 4539, 4540, 4541, 4542, 5419, 5420, 5424, 5427, 5430, 5432,\n",
      "        5557, 5558, 5559, 5645, 5649, 5654, 5666, 5670, 5714, 5718, 5719, 5720,\n",
      "        5722, 5727, 5728, 5729, 5850, 6273, 6275, 6276, 6277, 6288, 6289, 6290,\n",
      "        6291, 6292, 6293, 6385, 6522, 6523, 6524, 6675, 6702, 6718, 6747, 6748,\n",
      "        6749, 6750, 6751, 6752, 6753, 6756, 6782, 6783, 6784, 6785, 7107, 7348,\n",
      "        7349, 7351, 7352, 7422, 7531, 7542, 7543, 7544, 7545, 7546, 7697, 7726,\n",
      "        7779, 7822, 7823, 7824, 7825, 7826, 7828, 7829, 7830, 7831, 7893, 7900,\n",
      "        7975, 8011, 8048, 8064, 8123, 8124, 8125, 8126, 8127, 8129, 8133, 8134,\n",
      "        8135, 8136, 8138, 8146, 8147, 8223, 8225, 8226, 8248, 8249, 8250, 8251,\n",
      "        8252, 8258, 8259, 8261, 8305, 8391, 8484, 8612, 8613, 8744, 8746, 8747,\n",
      "        8748, 8749, 8750, 8751, 8752, 8753, 8754, 8756, 8757, 8758, 8761, 8762,\n",
      "        8864, 8865, 8866, 8867, 8868, 8869, 8912, 9006, 9051, 9052, 9053, 9054,\n",
      "        9055, 9056, 9057, 9058, 9061, 9062, 9064, 9116, 9125, 9126, 9127, 9128,\n",
      "        9131, 9132, 9133, 9336, 9516, 9551, 9552, 9553, 9554, 9613, 9614, 9616,\n",
      "        9617, 9618, 9619, 9620, 9622, 9623, 9624, 9625, 9626, 9723, 9730, 9800,\n",
      "        9801, 9912, 9917, 9921, 9959, 9972, 9981, 9986, 9989, 10017, 10023,\n",
      "        10059, 10171, 10285, 10296, 10298, 10299, 10300, 10301, 10302, 10303,\n",
      "        10304, 10305, 10306, 10307, 10309, 10310, 10311, 10313, 10314, 10315,\n",
      "        10316, 10317, 10328, 10329, 10355, 10356, 10357, 10358, 10359, 10360,\n",
      "        10361, 10362, 10402, 10403, 10508, 10532, 10534, 10538, 10539, 10557,\n",
      "        10558, 10559, 10561, 10562, 10563, 10564, 10565, 10566, 10609, 10610,\n",
      "        10611, 10612, 10659, 10764, 10814, 10885, 10893, 10936, 10937, 10938,\n",
      "        10939, 10941, 10942, 10944, 10945, 10946, 10947, 10954, 10955, 10956,\n",
      "        10957, 10961, 10962, 10963, 10964, 10982, 10983, 10990, 11034, 11046,\n",
      "        11047, 11048, 11049, 11050, 11077, 11079, 11150, 11151, 11232, 11233,\n",
      "        11264, 11271, 11272, 11283, 11284, 11326, 11473, 11474, 11595, 11691,\n",
      "        11751, 11752, 11753, 11754, 11755, 11756, 11935, 11936, 11937, 11938,\n",
      "        11939, 11940, 11941, 11946, 11947, 11948, 11949, 11950, 11963, 11964,\n",
      "        11965, 11998, 12001, 12006, 12081, 12082, 12083, 12161, 12182, 12193,\n",
      "        12243, 12251, 12253, 12255, 12256, 12270, 12271, 12272, 12312, 12398,\n",
      "        12399, 12400, 12401, 12402, 12403, 12404, 12538, 12539, 12573, 12621,\n",
      "        12622, 12623, 12624, 12625, 12653, 12654, 12777, 12778, 12779, 12780,\n",
      "        12781, 12782, 12783, 12784, 12816, 12818, 12819, 12828, 12831, 12849,\n",
      "        12850, 12851, 12855, 12856, 12858, 12916, 12939, 12960, 12986, 12998,\n",
      "        13000, 13013, 13015, 13125, 13206, 13208, 13209, 13210, 13222, 13227,\n",
      "        13339, 13340, 13341, 13342, 13353, 13354, 13355, 13372, 13373, 13374,\n",
      "        13378, 13480, 13489, 13555, 13556, 13557, 13558, 13602, 13631, 13632,\n",
      "        13649, 13650, 13678, 13679, 13749, 13750, 13751, 13752, 13753, 13754,\n",
      "        13755, 13756, 13757, 13758, 13759, 13826, 13876, 13877, 13880, 13882,\n",
      "        13884, 13910, 13911, 13973, 13980, 13994, 13995, 13996, 13997, 13998,\n",
      "        13999, 14007, 14137, 14141, 14180, 14220, 14223, 14224, 14225, 14226,\n",
      "        14227, 14252, 14259, 14260, 14302, 14303, 14304, 14305, 14306, 14307,\n",
      "        14308, 14319, 14400, 14401, 14402, 14403, 14405, 14406, 14407, 14413,\n",
      "        14417, 14418, 14419, 14459, 14471, 14536, 14584, 14617, 14618, 14621,\n",
      "        14622, 14623, 14624, 14626, 14677, 14693, 14806, 14807, 14817, 14859,\n",
      "        14917, 14918, 14930, 14963, 14990, 14991, 14992, 14993, 14999, 15031,\n",
      "        15034, 15035, 15036, 15054, 15071, 15192, 15314, 15349, 15437, 15438,\n",
      "        15458, 15461, 15521, 15603, 15607, 15619, 15630, 15631, 15637, 15641,\n",
      "        15706, 15707, 15708, 15709, 15719, 15750, 15751, 15752, 15753, 15754,\n",
      "        15755, 15756, 15757, 15769, 15770, 15771, 15772, 15793, 15829, 15855,\n",
      "        15871, 15872, 15873, 15884, 15925, 15943, 16012, 16038, 16039, 16040,\n",
      "        16055, 16056, 16058, 16139, 16164, 16165, 16166, 16167, 16169, 16170,\n",
      "        16171, 16172, 16173, 16174, 16212, 16213, 16214, 16215, 16216, 16239,\n",
      "        16240, 16255, 16264, 16274, 16275, 16276, 16280, 16299, 16367, 16368,\n",
      "        16452, 16486, 16522, 16575, 16576, 16614, 16615, 16616, 16617, 16620,\n",
      "        16622, 16623, 16624, 16747, 16748, 16749, 16759, 16762, 16763, 16764,\n",
      "        16765, 16766, 16767, 16768, 16777, 16796, 16811, 16812, 16813, 16815,\n",
      "        16816, 16817, 16818, 16904, 16924, 16935, 16939, 16940, 16941, 16963,\n",
      "        17022, 17041, 17084, 17102, 17152, 17211, 17325, 17336, 17338, 17363,\n",
      "        17364, 17473, 17552, 17561, 17562, 17563, 17564, 17565, 17566, 17567,\n",
      "        17571, 17572, 17576, 17577, 17588, 17769, 17770, 17771, 17791, 17799,\n",
      "        17800, 17847, 17848, 17857, 17860, 17866, 17885, 17906, 17913, 17945,\n",
      "        18019, 18099, 18144, 18161, 18244, 18258, 18259, 18275, 18300, 18309,\n",
      "        18370, 18373, 18477, 18484, 18503, 18558, 18588, 18604, 18605, 18635,\n",
      "        18636, 18761, 18811, 18839, 18887, 18950, 18960, 19048, 19082, 19121,\n",
      "        19168, 19178, 19289, 19290, 19291, 19332, 19340, 19358, 19392, 19393,\n",
      "        19404, 19407, 19408, 19409, 19424, 19426, 19438, 19439, 19440, 19441,\n",
      "        19503, 19542, 19556, 19557, 19577, 19606, 19607, 19616, 19674, 19845,\n",
      "        19878, 19882, 19937, 19980, 19983, 20003, 20087, 20134, 20150, 20167,\n",
      "        20181, 20182, 20183, 20196, 20197, 20244, 20299, 20312, 20344, 20345,\n",
      "        20346, 20347, 20356, 20363, 20368, 20395, 20396, 20560, 20572, 20610,\n",
      "        20613, 20637, 20683, 20686, 20687, 20688, 20689, 20703, 20707, 20708,\n",
      "        20742, 20799, 20807, 20811, 20848, 20849, 20850, 20856, 20857, 20858,\n",
      "        20859, 20863, 20907, 20910, 20964, 20965, 21041, 21099, 21148, 21196,\n",
      "        21292, 21301, 21316, 21322, 21323, 21384, 21385, 21495, 21505, 21512,\n",
      "        21513, 21514, 21515, 21516, 21517, 21518, 21574, 21617, 21618, 21619,\n",
      "        21623, 21624, 21638, 21663, 21664, 21665, 21667, 21668, 21681, 21704,\n",
      "        21707, 21709, 21742, 21743, 21791, 21796, 21811, 21819, 21826, 21864,\n",
      "        21878, 21915, 21918, 21919, 21941, 21958, 21962, 21963, 21964, 21989,\n",
      "        21990, 21991, 21992, 21993, 21994, 22017, 22024, 22033, 22075, 22077,\n",
      "        22085, 22086, 22150, 22151, 22152, 22199, 22201, 22202, 22223, 22238,\n",
      "        22253, 22287, 22364, 22365, 22366, 22373, 22416, 22445, 22446, 22448,\n",
      "        22457, 22474, 22476, 22481, 22488, 22505, 22514, 22515, 22598, 22649,\n",
      "        22672, 22705, 22764, 23018, 23019, 23029, 23052, 23100, 23151, 23162,\n",
      "        23163, 23170, 23199, 23215, 23220, 23221, 23222, 23265, 23312, 23313,\n",
      "        23374, 23375, 23416, 23425, 23426, 23427, 23444, 23456, 23457, 23458,\n",
      "        23497, 23510, 23543, 23641, 23668, 23669, 23670, 23711, 23726, 23742,\n",
      "        23766, 23840, 23841, 23871, 23880, 23882, 23891, 23933, 23935, 23951,\n",
      "        23969, 24007, 24044, 24045, 24131, 24133, 24134, 24135, 24164, 24237,\n",
      "        24251, 24287, 24288, 24289, 24291, 24302, 24310, 24342, 24348, 24351,\n",
      "        24363, 24428, 24439, 24449, 24450, 24451, 24453, 24506, 24507, 24519,\n",
      "        24520, 24524, 24526, 24567, 24568, 24574, 24576, 24592, 24593, 24601,\n",
      "        24605, 24619, 24643, 24648, 24650, 24654, 24655, 24656, 24657, 24658,\n",
      "        24665, 24677, 24679, 24681, 24684, 24691, 24695, 24696, 24704, 24705,\n",
      "        24710, 24718, 24719, 24720, 24726, 24730, 24731, 24732, 24733, 24737,\n",
      "        24738, 24741, 24745, 24747, 24749, 24750, 24752, 24755, 24771, 24775,\n",
      "        24776, 24787, 24814, 24821, 24826, 24827, 24828, 24833, 24834, 24835,\n",
      "        24837, 24842, 24845, 24847, 24849, 24854, 24860, 24891, 24892, 24901,\n",
      "        24915, 24916, 24923, 24938, 24939, 24942, 24943, 24945, 24946, 24948,\n",
      "        24949, 24959, 24967, 24975, 24982, 25002, 25003, 25004, 25013, 25017,\n",
      "        25030, 25041, 25048, 25056, 25057, 25070, 25071, 25074, 25083, 25084,\n",
      "        25085, 25086, 25087, 25101, 25102, 25111, 25112, 25113, 25118, 25122,\n",
      "        25123, 25124, 25129, 25132, 25144, 25152, 25153, 25163, 25165, 25175,\n",
      "        25178, 25179, 25180, 25182, 25185, 25194, 25195, 25201, 25206, 25207,\n",
      "        25219, 25220, 25221, 25223, 25228, 25229, 25233, 25241, 25243, 25249,\n",
      "        25250, 25266, 25269, 25276, 25279, 25291, 25297, 25303, 25304, 25306,\n",
      "        25316, 25335, 25359, 25369, 25373, 25379, 25394, 25405, 25412, 25421,\n",
      "        25451, 25452, 25453, 25456, 25457, 25461, 25478, 25484, 25485, 25486,\n",
      "        25497, 25511, 25534, 25555, 25564, 25565, 25566, 25597, 25605, 25607,\n",
      "        25617, 25620, 25626, 25627, 25637, 25644, 25646, 25657, 25683, 25690,\n",
      "        25696, 25706, 25720, 25749, 25750, 25752, 25761, 25768, 25780, 25787,\n",
      "        25790, 25819, 25824, 25825, 25826, 25828, 25863, 25871, 25872, 25873,\n",
      "        25882, 25885, 25886, 25896, 25903, 25911, 25916, 25934, 25937, 25941,\n",
      "        25946, 25964, 25981, 25983, 25986, 25993, 26005, 26008, 26013, 26015,\n",
      "        26016, 26023, 26029, 26038, 26051, 26084, 26090, 26096, 26098, 26101,\n",
      "        26129, 26130, 26169, 26178, 26180, 26181, 26192, 26223, 26226, 26228,\n",
      "        26232, 26249, 26266, 26280, 26299, 26302, 26320, 26336, 26342, 26363,\n",
      "        26371, 26385, 26386, 26398, 26399, 26418, 26419, 26436, 26437, 26440,\n",
      "        26441, 26452, 26457, 26465, 26468, 26508, 26519, 26533, 26540, 26543,\n",
      "        26551, 26552, 26553, 26554, 26572, 26574, 26581, 26590, 26600, 26614,\n",
      "        26615, 26620, 26633, 26672, 26673, 26682, 26685, 26690, 26709, 26743,\n",
      "        26746, 26753, 26769, 26805, 26807, 26825, 26844, 26845, 26861, 26878,\n",
      "        26906, 26910, 26974, 26988, 26998, 27016, 27025, 27028, 27030, 27034,\n",
      "        27066, 27118, 27119, 27223, 27226, 27235, 27241, 27242, 27266, 27274,\n",
      "        27299, 27303, 27339, 27362, 27392, 27408, 27433, 27486, 27499, 27524,\n",
      "        27551, 27592, 27615, 27616, 27617, 27632, 27659, 27661, 27690, 27723,\n",
      "        27745}]\n"
     ]
    }
   ],
   "source": [
    "# for cluster in clusters:\n",
    "pprint(clusters[0:3], indent=4, compact=True)"
   ]
  },
  {
   "cell_type": "code",
   "execution_count": 28,
   "id": "d10360c5-59f0-4d5b-9a57-6dbe6678f675",
   "metadata": {},
   "outputs": [
    {
     "data": {
      "text/plain": [
       "0          3\n",
       "1          3\n",
       "2          3\n",
       "3          3\n",
       "4          3\n",
       "        ... \n",
       "27765     65\n",
       "27766      6\n",
       "27767    157\n",
       "27768     15\n",
       "27769     31\n",
       "Length: 27770, dtype: int64"
      ]
     },
     "execution_count": 28,
     "metadata": {},
     "output_type": "execute_result"
    }
   ],
   "source": [
    "# Iterate through clusters, assigning cluster IDs, then map them to node IDs\n",
    "node_clusters: Dict[int, int] = {}\n",
    "for cluster_id, cluster in zip(range(len(clusters)), clusters):\n",
    "    for node_id in cluster:\n",
    "        node_clusters[node_id] = cluster_id\n",
    "\n",
    "node_series = pd.Series(node_clusters).sort_index()\n",
    "node_series"
   ]
  },
  {
   "cell_type": "markdown",
   "id": "3ae96de9-7b2f-4d84-af08-9bae0ada6fbf",
   "metadata": {},
   "source": [
    "### Append Clusters to `features`\n",
    "\n",
    "Note, the clusters number from approximately 1-1,500. This dwarfs the previously computed, normalized centrality scores. We will be using scikit-learn's [`StandardScaler`](https://scikit-learn.org/stable/modules/generated/sklearn.preprocessing.StandardScaler.html) to address this.\n",
    "\n",
    "Now we've got 5 topological features. We are going to add one more and then do a simple feature extraction of our Titles and Abstracts that might normally go with a first pass at a node classifier."
   ]
  },
  {
   "cell_type": "code",
   "execution_count": 29,
   "id": "d60ee73c-5f7f-4a2b-861e-6249f28e70b5",
   "metadata": {},
   "outputs": [
    {
     "data": {
      "text/plain": [
       "((27770, 4), (27770, 1))"
      ]
     },
     "execution_count": 29,
     "metadata": {},
     "output_type": "execute_result"
    }
   ],
   "source": [
    "# Prepare and append the degree features for addition to `features`\n",
    "cluster_ary = np.array(node_series).reshape(-1, 1)\n",
    "features.shape, cluster_ary.shape"
   ]
  },
  {
   "cell_type": "code",
   "execution_count": 30,
   "id": "9b3c438b-603a-45eb-9f3d-d6f4508fab0d",
   "metadata": {},
   "outputs": [
    {
     "data": {
      "text/plain": [
       "(array([[3.34905830e-03, 3.60113796e-04, 2.98894451e-03, 1.34928555e-02,\n",
       "         1.34928555e-02],\n",
       "        [6.12193453e-04, 5.76182074e-04, 3.60113796e-05, 3.75506540e-04,\n",
       "         3.75506540e-04],\n",
       "        [4.39338831e-03, 4.14130865e-03, 2.52079657e-04, 8.06157958e-03,\n",
       "         8.06157958e-03],\n",
       "        ...,\n",
       "        [2.16068278e-04, 0.00000000e+00, 2.16068278e-04, 3.04715788e-03,\n",
       "         3.04715788e-03],\n",
       "        [3.60113796e-05, 0.00000000e+00, 3.60113796e-05, 1.37443864e-05,\n",
       "         1.37443864e-05],\n",
       "        [2.88091037e-04, 0.00000000e+00, 2.88091037e-04, 2.98045032e-04,\n",
       "         2.98045032e-04]]),\n",
       " (27770, 5))"
      ]
     },
     "execution_count": 30,
     "metadata": {},
     "output_type": "execute_result"
    }
   ],
   "source": [
    "features = np.append(features, d_ary, axis=1)\n",
    "features, features.shape"
   ]
  },
  {
   "cell_type": "markdown",
   "id": "7b33827e-408e-412e-b15c-e1e3a8855a71",
   "metadata": {},
   "source": [
    "## Role Discovery via RolX and ReFeX\n",
    "\n",
    "RolX role discovery is one of my favorite algorithms for networks :) You may recall from the slides how I used it to build a visually appealing, intrepretable map of the big data market. We're going to compute RolX roles to use as feature for ML tasks.\n",
    "\n",
    "### RolX\n",
    "\n",
    "You can learn more about RolX in the paper [RolX: Structural Role Extraction & Mining in Large Graphs](https://web.eecs.umich.edu/~dkoutra/papers/12-kdd-recursiverole.pdf).\n",
    "\n",
    "<center><img src=\"images/RolX-Roles-vs-Communities.png\" width=\"550px\" /></center>\n",
    "<center><i>You can see the difference between structural roles and communities. A related concept called _network motifs_ or structural patterns in networks can determine the nodes roles play in their neighborhoods.</i></center>\n",
    "\n",
    "<br /><br />\n",
    "\n",
    "<center><img src=\"images/Graph-ML-Class-Slide-for-Rolx-Roles-for-Mapping-Big-Data.png\" width=\"1000px\" /></center>\n",
    "<center><i>An example of RolX in action to filter nodes with roles I didn't care about from a visualization to tell the story of interest.</i></center>\n",
    "\n",
    "### ReFeX via `graphrole`\n",
    "\n",
    "ReFex is a role discovery algorithm similar to RolX. It was defined in [It’s Who You Know: Graph Mining Using Recursive Structural Features](https://www.andrew.cmu.edu/user/lakoglu/pubs/ReFeX.pdf).\n",
    "\n",
    "GraphRole draws from Rolx and ReFeX to do role discovery. Note that the `graphrole` implementation of RolX is a little slow... even on this network. The reality is that for large networks, you need the support of a data engineer to implement algorithms. It isn't feasible to teach a lot of large network computing skills in a five day, four hour course. RolX itself was designed to support large networks, and there are other implementations available.\n",
    "\n",
    "Therefore I have pickled the results and made them available for you to load. **Feel free to uncomment the next block of code out and run it if you like, otherwise the RolX features are computed and stored in Github.** They are loaded below."
   ]
  },
  {
   "cell_type": "code",
   "execution_count": 31,
   "id": "6a0b75b8-2b2f-4f5f-9b19-caeca158cda7",
   "metadata": {},
   "outputs": [
    {
     "data": {
      "text/html": [
       "<div>\n",
       "<style scoped>\n",
       "    .dataframe tbody tr th:only-of-type {\n",
       "        vertical-align: middle;\n",
       "    }\n",
       "\n",
       "    .dataframe tbody tr th {\n",
       "        vertical-align: top;\n",
       "    }\n",
       "\n",
       "    .dataframe thead th {\n",
       "        text-align: right;\n",
       "    }\n",
       "</style>\n",
       "<table border=\"1\" class=\"dataframe\">\n",
       "  <thead>\n",
       "    <tr style=\"text-align: right;\">\n",
       "      <th></th>\n",
       "      <th>role_0</th>\n",
       "      <th>role_1</th>\n",
       "      <th>role_2</th>\n",
       "      <th>role_3</th>\n",
       "      <th>role_4</th>\n",
       "      <th>role_5</th>\n",
       "      <th>role_6</th>\n",
       "    </tr>\n",
       "  </thead>\n",
       "  <tbody>\n",
       "    <tr>\n",
       "      <th>0</th>\n",
       "      <td>0.062544</td>\n",
       "      <td>0.449980</td>\n",
       "      <td>0.092409</td>\n",
       "      <td>0.222163</td>\n",
       "      <td>0.000590</td>\n",
       "      <td>0.171724</td>\n",
       "      <td>0.000590</td>\n",
       "    </tr>\n",
       "    <tr>\n",
       "      <th>1</th>\n",
       "      <td>0.142857</td>\n",
       "      <td>0.142857</td>\n",
       "      <td>0.142857</td>\n",
       "      <td>0.142857</td>\n",
       "      <td>0.142857</td>\n",
       "      <td>0.142857</td>\n",
       "      <td>0.142857</td>\n",
       "    </tr>\n",
       "    <tr>\n",
       "      <th>2</th>\n",
       "      <td>0.142857</td>\n",
       "      <td>0.142857</td>\n",
       "      <td>0.142857</td>\n",
       "      <td>0.142857</td>\n",
       "      <td>0.142857</td>\n",
       "      <td>0.142857</td>\n",
       "      <td>0.142857</td>\n",
       "    </tr>\n",
       "    <tr>\n",
       "      <th>3</th>\n",
       "      <td>0.142857</td>\n",
       "      <td>0.142857</td>\n",
       "      <td>0.142857</td>\n",
       "      <td>0.142857</td>\n",
       "      <td>0.142857</td>\n",
       "      <td>0.142857</td>\n",
       "      <td>0.142857</td>\n",
       "    </tr>\n",
       "    <tr>\n",
       "      <th>4</th>\n",
       "      <td>0.142857</td>\n",
       "      <td>0.142857</td>\n",
       "      <td>0.142857</td>\n",
       "      <td>0.142857</td>\n",
       "      <td>0.142857</td>\n",
       "      <td>0.142857</td>\n",
       "      <td>0.142857</td>\n",
       "    </tr>\n",
       "    <tr>\n",
       "      <th>...</th>\n",
       "      <td>...</td>\n",
       "      <td>...</td>\n",
       "      <td>...</td>\n",
       "      <td>...</td>\n",
       "      <td>...</td>\n",
       "      <td>...</td>\n",
       "      <td>...</td>\n",
       "    </tr>\n",
       "    <tr>\n",
       "      <th>27765</th>\n",
       "      <td>0.142857</td>\n",
       "      <td>0.142857</td>\n",
       "      <td>0.142857</td>\n",
       "      <td>0.142857</td>\n",
       "      <td>0.142857</td>\n",
       "      <td>0.142857</td>\n",
       "      <td>0.142857</td>\n",
       "    </tr>\n",
       "    <tr>\n",
       "      <th>27766</th>\n",
       "      <td>0.142857</td>\n",
       "      <td>0.142857</td>\n",
       "      <td>0.142857</td>\n",
       "      <td>0.142857</td>\n",
       "      <td>0.142857</td>\n",
       "      <td>0.142857</td>\n",
       "      <td>0.142857</td>\n",
       "    </tr>\n",
       "    <tr>\n",
       "      <th>27767</th>\n",
       "      <td>0.007204</td>\n",
       "      <td>0.007204</td>\n",
       "      <td>0.763645</td>\n",
       "      <td>0.007204</td>\n",
       "      <td>0.007204</td>\n",
       "      <td>0.007204</td>\n",
       "      <td>0.200333</td>\n",
       "    </tr>\n",
       "    <tr>\n",
       "      <th>27768</th>\n",
       "      <td>0.142857</td>\n",
       "      <td>0.142857</td>\n",
       "      <td>0.142857</td>\n",
       "      <td>0.142857</td>\n",
       "      <td>0.142857</td>\n",
       "      <td>0.142857</td>\n",
       "      <td>0.142857</td>\n",
       "    </tr>\n",
       "    <tr>\n",
       "      <th>27769</th>\n",
       "      <td>0.016498</td>\n",
       "      <td>0.016498</td>\n",
       "      <td>0.458755</td>\n",
       "      <td>0.016498</td>\n",
       "      <td>0.458755</td>\n",
       "      <td>0.016498</td>\n",
       "      <td>0.016498</td>\n",
       "    </tr>\n",
       "  </tbody>\n",
       "</table>\n",
       "<p>27770 rows × 7 columns</p>\n",
       "</div>"
      ],
      "text/plain": [
       "         role_0    role_1    role_2    role_3    role_4    role_5    role_6\n",
       "0      0.062544  0.449980  0.092409  0.222163  0.000590  0.171724  0.000590\n",
       "1      0.142857  0.142857  0.142857  0.142857  0.142857  0.142857  0.142857\n",
       "2      0.142857  0.142857  0.142857  0.142857  0.142857  0.142857  0.142857\n",
       "3      0.142857  0.142857  0.142857  0.142857  0.142857  0.142857  0.142857\n",
       "4      0.142857  0.142857  0.142857  0.142857  0.142857  0.142857  0.142857\n",
       "...         ...       ...       ...       ...       ...       ...       ...\n",
       "27765  0.142857  0.142857  0.142857  0.142857  0.142857  0.142857  0.142857\n",
       "27766  0.142857  0.142857  0.142857  0.142857  0.142857  0.142857  0.142857\n",
       "27767  0.007204  0.007204  0.763645  0.007204  0.007204  0.007204  0.200333\n",
       "27768  0.142857  0.142857  0.142857  0.142857  0.142857  0.142857  0.142857\n",
       "27769  0.016498  0.016498  0.458755  0.016498  0.458755  0.016498  0.016498\n",
       "\n",
       "[27770 rows x 7 columns]"
      ]
     },
     "execution_count": 31,
     "metadata": {},
     "output_type": "execute_result"
    }
   ],
   "source": [
    "from graphrole import RecursiveFeatureExtractor, RoleExtractor\n",
    "\n",
    "\n",
    "# Extract features\n",
    "feature_extractor = RecursiveFeatureExtractor(G)\n",
    "rolx_features = feature_extractor.extract_features()\n",
    "\n",
    "# Calculate roles\n",
    "role_extractor = RoleExtractor(n_roles=None)\n",
    "role_extractor.extract_role_factors(rolx_features)\n",
    "\n",
    "# Can also use role percentages\n",
    "role_extractor.role_percentage"
   ]
  },
  {
   "cell_type": "code",
   "execution_count": 32,
   "id": "6e583652-e900-457c-b8c7-3f4505244060",
   "metadata": {},
   "outputs": [
    {
     "data": {
      "text/plain": [
       "0        role_1\n",
       "1        role_0\n",
       "2        role_0\n",
       "3        role_0\n",
       "4        role_0\n",
       "          ...  \n",
       "27765    role_0\n",
       "27766    role_0\n",
       "27767    role_2\n",
       "27768    role_0\n",
       "27769    role_2\n",
       "Length: 27770, dtype: object"
      ]
     },
     "execution_count": 32,
     "metadata": {},
     "output_type": "execute_result"
    }
   ],
   "source": [
    "node_roles = role_extractor.roles\n",
    "node_role_s = pd.Series(node_roles)\n",
    "node_role_s"
   ]
  },
  {
   "cell_type": "code",
   "execution_count": 33,
   "id": "23fc2d18-6933-4a28-97e5-c5aecab912e5",
   "metadata": {},
   "outputs": [],
   "source": [
    "def get_roles() -> pd.Series:\n",
    "    \"\"\"Compute the roles unless they are already computed.\"\"\"\n",
    "    # Extract features\n",
    "    feature_extractor = RecursiveFeatureExtractor(G)\n",
    "    rolx_features = feature_extractor.extract_features()\n",
    "    \n",
    "    # Calculate roles\n",
    "    role_extractor = RoleExtractor(n_roles=None)\n",
    "    role_extractor.extract_role_factors(rolx_features)\n",
    "\n",
    "    # return pd.Series(role_extractor.role_percentages)\n",
    "    return pd.Series(role_extractor.roles)"
   ]
  },
  {
   "cell_type": "code",
   "execution_count": 34,
   "id": "672f829d-f178-4cf3-a424-5a4cc9a9801f",
   "metadata": {},
   "outputs": [],
   "source": [
    "# Save the feature_extractor and role_extractor via pickle\n",
    "node_role_path = \"data/citation/node_role_s.pkl\"\n",
    "node_role_s: Optional[pd.Series] = None\n",
    "if os.path.exists(node_role_path):\n",
    "    with open(node_role_path, \"rb\") as f:\n",
    "        node_role_s = pickle.load(f)\n",
    "else:\n",
    "    node_role_s = get_roles()\n",
    "    with open(node_role_path, \"wb\") as f:\n",
    "        pickle.dump(node_role_s, f)\n",
    "\n",
    "node_roles = node_role_s.to_dict()"
   ]
  },
  {
   "cell_type": "code",
   "execution_count": 35,
   "id": "c8c95acd-b0ac-4afb-a27a-dece62fbb04f",
   "metadata": {},
   "outputs": [
    {
     "data": {
      "text/plain": [
       "(0        role_1\n",
       " 1        role_0\n",
       " 2        role_0\n",
       " 3        role_0\n",
       " 4        role_0\n",
       "           ...  \n",
       " 27765    role_0\n",
       " 27766    role_0\n",
       " 27767    role_2\n",
       " 27768    role_0\n",
       " 27769    role_2\n",
       " Length: 27770, dtype: object,\n",
       " (27770,))"
      ]
     },
     "execution_count": 35,
     "metadata": {},
     "output_type": "execute_result"
    }
   ],
   "source": [
    "node_role_s, node_role_s.shape"
   ]
  },
  {
   "cell_type": "markdown",
   "id": "b4a720f0-c07f-4b14-97bc-4da9d45e35aa",
   "metadata": {},
   "source": [
    "#### Label Encoding Roles with [sklearn.preprocessing.LabelEncoder](https://scikit-learn.org/stable/modules/generated/sklearn.preprocessing.LabelEncoder.html)\n",
    "\n",
    "We need numeric role numbers, not strings, so we can add the `node_roles` to our `features` and start classifying. This is what scikit-learn's `LabelEncoder` does."
   ]
  },
  {
   "cell_type": "code",
   "execution_count": 36,
   "id": "51eccf4b-7a05-4b9e-80a3-7d98e8960453",
   "metadata": {},
   "outputs": [
    {
     "data": {
      "text/plain": [
       "(array([1, 0, 0, ..., 2, 0, 2]), (27770,))"
      ]
     },
     "execution_count": 36,
     "metadata": {},
     "output_type": "execute_result"
    }
   ],
   "source": [
    "from sklearn.preprocessing import LabelEncoder\n",
    "\n",
    "\n",
    "le = LabelEncoder()\n",
    "flat_role_feature = le.fit_transform(node_role_s)\n",
    "flat_role_feature, flat_role_feature.shape"
   ]
  },
  {
   "cell_type": "code",
   "execution_count": 37,
   "id": "c4576f2f-a8c8-4ee0-9dc3-7b8ded5a2ba7",
   "metadata": {},
   "outputs": [
    {
     "data": {
      "text/plain": [
       "(array([[1],\n",
       "        [0],\n",
       "        [0],\n",
       "        ...,\n",
       "        [2],\n",
       "        [0],\n",
       "        [2]]),\n",
       " (27770, 1))"
      ]
     },
     "execution_count": 37,
     "metadata": {},
     "output_type": "execute_result"
    }
   ],
   "source": [
    "role_feature = flat_role_feature.reshape([-1,1])\n",
    "role_feature, role_feature.shape"
   ]
  },
  {
   "cell_type": "markdown",
   "id": "86ab497c-c4d5-42d6-a70e-dfd838f7deaf",
   "metadata": {},
   "source": [
    "#### Add `role_feature` to `features`"
   ]
  },
  {
   "cell_type": "code",
   "execution_count": 38,
   "id": "c292d24b-0b69-40b2-9266-ef3d1d725e28",
   "metadata": {},
   "outputs": [
    {
     "data": {
      "text/plain": [
       "(array([[3.34905830e-03, 3.60113796e-04, 2.98894451e-03, 1.34928555e-02,\n",
       "         1.34928555e-02, 1.00000000e+00],\n",
       "        [6.12193453e-04, 5.76182074e-04, 3.60113796e-05, 3.75506540e-04,\n",
       "         3.75506540e-04, 0.00000000e+00],\n",
       "        [4.39338831e-03, 4.14130865e-03, 2.52079657e-04, 8.06157958e-03,\n",
       "         8.06157958e-03, 0.00000000e+00],\n",
       "        ...,\n",
       "        [2.16068278e-04, 0.00000000e+00, 2.16068278e-04, 3.04715788e-03,\n",
       "         3.04715788e-03, 2.00000000e+00],\n",
       "        [3.60113796e-05, 0.00000000e+00, 3.60113796e-05, 1.37443864e-05,\n",
       "         1.37443864e-05, 0.00000000e+00],\n",
       "        [2.88091037e-04, 0.00000000e+00, 2.88091037e-04, 2.98045032e-04,\n",
       "         2.98045032e-04, 2.00000000e+00]]),\n",
       " (27770, 6))"
      ]
     },
     "execution_count": 38,
     "metadata": {},
     "output_type": "execute_result"
    }
   ],
   "source": [
    "features = np.append(features, role_feature, axis=1)\n",
    "features, features.shape"
   ]
  },
  {
   "cell_type": "markdown",
   "id": "f6b51c2e-30fe-406f-a05c-cf034e47d6d0",
   "metadata": {},
   "source": [
    "## Visualizing Communities and Roles in Graphistry\n",
    "\n",
    "We're going to use `graphistry` to visualize the communities and roles we determined to see if we can interpret them the way ChatGPT did - or in some other way :) This sort of belongs in Part 2 - Network Science, but we saved it here to use as a feature for node classification."
   ]
  },
  {
   "cell_type": "code",
   "execution_count": 39,
   "id": "a61ff0c4-54d7-45e4-8c3c-11599eddf945",
   "metadata": {},
   "outputs": [],
   "source": [
    "nx.set_node_attributes(G, values=node_roles, name=\"rolx_role\")"
   ]
  },
  {
   "cell_type": "code",
   "execution_count": 40,
   "id": "ccc34712-177a-44d3-86e1-1fa1773f1978",
   "metadata": {},
   "outputs": [],
   "source": [
    "nx.set_node_attributes(G, values=node_clusters, name=\"community\")"
   ]
  },
  {
   "cell_type": "code",
   "execution_count": 41,
   "id": "ddf72b49-970c-4a6c-9a55-88da23d8c397",
   "metadata": {},
   "outputs": [
    {
     "data": {
      "text/plain": [
       "{'file_id': 9304045,\n",
       " 'sequential_id': 1,\n",
       " 'Paper': 'hep-th/9304045',\n",
       " 'Date': 'Sun, 11 Apr 93 12:29:30 -0500',\n",
       " 'Title': 'Generalized Calabi-Yau Manifolds and the Mirror of a Rigid Manifold',\n",
       " 'Authors': 'P. Candelas, E. Derrick and L. Parkes',\n",
       " 'Comments': '39 pages, plain TeX',\n",
       " 'Report-no': 'CERN-TH.6831/93, UTTG-24-92',\n",
       " 'Journal-ref': 'Nucl.Phys. B407 (1993) 115-154',\n",
       " 'Abstract': 'We describe the mirror of the Z orbifold as a representation of a class of generalized Calabi-Yau manifolds that can be realized as manifolds of dimension five and seven. Despite their dimension these correspond to superconformal theories with $c=9$ and so are perfectly good for compactifying the heterotic string to the four dimensions of space-time. As a check of mirror symmetry we compute the structure of the space of complex structures of the mirror and check that this reproduces the known results for the Yukawa couplings and metric appropriate to the Kahler class parameters on the Z orbifold together with their instanton corrections.',\n",
       " 'Journal-ref-DBSCAN': 1,\n",
       " 'Journal-ref-Label': 'Nucl.Phys.',\n",
       " 'label': '1',\n",
       " 'eigenvector': 0.000375506539646381,\n",
       " 'eigenvector_log10': -3.4253823794686236,\n",
       " 'rolx_role': 'role_0',\n",
       " 'community': 3}"
      ]
     },
     "execution_count": 41,
     "metadata": {},
     "output_type": "execute_result"
    }
   ],
   "source": [
    "G.nodes[1]"
   ]
  },
  {
   "cell_type": "code",
   "execution_count": 42,
   "id": "99230828-1908-4d55-92d1-17d241e7a551",
   "metadata": {},
   "outputs": [
    {
     "data": {
      "text/html": [
       "\n",
       "\t\t\t<script type=\"text/javascript\">\n",
       "\t\t\t<!--\n",
       "\t\t\t\t\n",
       "\t\t\t{\n",
       "\t\t\t\tvar element = document.getElementById('NetworKit_script');\n",
       "\t\t\t\tif (element) {\n",
       "\t\t\t\t\telement.parentNode.removeChild(element);\n",
       "\t\t\t\t}\n",
       "\t\t\t\telement = document.createElement('script');\n",
       "\t\t\t\telement.type = 'text/javascript';\n",
       "\t\t\t\telement.innerHTML = 'function NetworKit_pageEmbed(id) { var i, j; var elements; elements = document.getElementById(id).getElementsByClassName(\"Plot\"); for (i=0; i<elements.length; i++) { elements[i].id = id + \"_Plot_\" + i; var data = elements[i].getAttribute(\"data-image\").split(\"|\"); elements[i].removeAttribute(\"data-image\"); var content = \"<div class=\\\\\"Image\\\\\" id=\\\\\"\" + elements[i].id + \"_Image\\\\\" />\"; elements[i].innerHTML = content; elements[i].setAttribute(\"data-image-index\", 0); elements[i].setAttribute(\"data-image-length\", data.length); for (j=0; j<data.length; j++) { elements[i].setAttribute(\"data-image-\" + j, data[j]); } NetworKit_plotUpdate(elements[i]); elements[i].onclick = function (e) { NetworKit_overlayShow((e.target) ? e.target : e.srcElement); } } elements = document.getElementById(id).getElementsByClassName(\"HeatCell\"); for (i=0; i<elements.length; i++) { var data = parseFloat(elements[i].getAttribute(\"data-heat\")); var color = \"#00FF00\"; if (data <= 1 && data > 0) { color = \"hsla(0, 100%, 75%, \" + (data) + \")\"; } else if (data <= 0 && data >= -1) { color = \"hsla(240, 100%, 75%, \" + (-data) + \")\"; } elements[i].style.backgroundColor = color; } elements = document.getElementById(id).getElementsByClassName(\"Details\"); for (i=0; i<elements.length; i++) { elements[i].setAttribute(\"data-title\", \"-\"); NetworKit_toggleDetails(elements[i]); elements[i].onclick = function (e) { NetworKit_toggleDetails((e.target) ? e.target : e.srcElement); } } elements = document.getElementById(id).getElementsByClassName(\"MathValue\"); for (i=elements.length-1; i>=0; i--) { value = elements[i].innerHTML.trim(); if (value === \"nan\") { elements[i].parentNode.innerHTML = \"\" } } elements = document.getElementById(id).getElementsByClassName(\"SubCategory\"); for (i=elements.length-1; i>=0; i--) { value = elements[i].innerHTML.trim(); if (value === \"\") { elements[i].parentNode.removeChild(elements[i]) } } elements = document.getElementById(id).getElementsByClassName(\"Category\"); for (i=elements.length-1; i>=0; i--) { value = elements[i].innerHTML.trim(); if (value === \"\") { elements[i].parentNode.removeChild(elements[i]) } } var isFirefox = false; try { isFirefox = typeof InstallTrigger !== \"undefined\"; } catch (e) {} if (!isFirefox) { alert(\"Currently the function\\'s output is only fully supported by Firefox.\"); } } function NetworKit_plotUpdate(source) { var index = source.getAttribute(\"data-image-index\"); var data = source.getAttribute(\"data-image-\" + index); var image = document.getElementById(source.id + \"_Image\"); image.style.backgroundImage = \"url(\" + data + \")\"; } function NetworKit_showElement(id, show) { var element = document.getElementById(id); element.style.display = (show) ? \"block\" : \"none\"; } function NetworKit_overlayShow(source) { NetworKit_overlayUpdate(source); NetworKit_showElement(\"NetworKit_Overlay\", true); } function NetworKit_overlayUpdate(source) { document.getElementById(\"NetworKit_Overlay_Title\").innerHTML = source.title; var index = source.getAttribute(\"data-image-index\"); var data = source.getAttribute(\"data-image-\" + index); var image = document.getElementById(\"NetworKit_Overlay_Image\"); image.setAttribute(\"data-id\", source.id); image.style.backgroundImage = \"url(\" + data + \")\"; var link = document.getElementById(\"NetworKit_Overlay_Toolbar_Bottom_Save\"); link.href = data; link.download = source.title + \".svg\"; } function NetworKit_overlayImageShift(delta) { var image = document.getElementById(\"NetworKit_Overlay_Image\"); var source = document.getElementById(image.getAttribute(\"data-id\")); var index = parseInt(source.getAttribute(\"data-image-index\")); var length = parseInt(source.getAttribute(\"data-image-length\")); var index = (index+delta) % length; if (index < 0) { index = length + index; } source.setAttribute(\"data-image-index\", index); NetworKit_overlayUpdate(source); } function NetworKit_toggleDetails(source) { var childs = source.children; var show = false; if (source.getAttribute(\"data-title\") == \"-\") { source.setAttribute(\"data-title\", \"+\"); show = false; } else { source.setAttribute(\"data-title\", \"-\"); show = true; } for (i=0; i<childs.length; i++) { if (show) { childs[i].style.display = \"block\"; } else { childs[i].style.display = \"none\"; } } }';\n",
       "\t\t\t\telement.setAttribute('id', 'NetworKit_script');\n",
       "\t\t\t\tdocument.head.appendChild(element);\n",
       "\t\t\t}\n",
       "\t\t\n",
       "\t\t\t\t\n",
       "\t\t\t{\n",
       "\t\t\t\tvar element = document.getElementById('NetworKit_style');\n",
       "\t\t\t\tif (element) {\n",
       "\t\t\t\t\telement.parentNode.removeChild(element);\n",
       "\t\t\t\t}\n",
       "\t\t\t\telement = document.createElement('style');\n",
       "\t\t\t\telement.type = 'text/css';\n",
       "\t\t\t\telement.innerHTML = '.NetworKit_Page { font-family: Arial, Helvetica, sans-serif; font-size: 14px; } .NetworKit_Page .Value:before { font-family: Arial, Helvetica, sans-serif; font-size: 1.05em; content: attr(data-title) \":\"; margin-left: -2.5em; padding-right: 0.5em; } .NetworKit_Page .Details .Value:before { display: block; } .NetworKit_Page .Value { font-family: monospace; white-space: pre; padding-left: 2.5em; white-space: -moz-pre-wrap !important; white-space: -pre-wrap; white-space: -o-pre-wrap; white-space: pre-wrap; word-wrap: break-word; tab-size: 4; -moz-tab-size: 4; } .NetworKit_Page .Category { clear: both; padding-left: 1em; margin-bottom: 1.5em; } .NetworKit_Page .Category:before { content: attr(data-title); font-size: 1.75em; display: block; margin-left: -0.8em; margin-bottom: 0.5em; } .NetworKit_Page .SubCategory { margin-bottom: 1.5em; padding-left: 1em; } .NetworKit_Page .SubCategory:before { font-size: 1.6em; display: block; margin-left: -0.8em; margin-bottom: 0.5em; } .NetworKit_Page .SubCategory[data-title]:before { content: attr(data-title); } .NetworKit_Page .Block { display: block; } .NetworKit_Page .Block:after { content: \".\"; visibility: hidden; display: block; height: 0; clear: both; } .NetworKit_Page .Block .Thumbnail_Overview, .NetworKit_Page .Block .Thumbnail_ScatterPlot { width: 260px; float: left; } .NetworKit_Page .Block .Thumbnail_Overview img, .NetworKit_Page .Block .Thumbnail_ScatterPlot img { width: 260px; } .NetworKit_Page .Block .Thumbnail_Overview:before, .NetworKit_Page .Block .Thumbnail_ScatterPlot:before { display: block; text-align: center; font-weight: bold; } .NetworKit_Page .Block .Thumbnail_Overview:before { content: attr(data-title); } .NetworKit_Page .HeatCell { font-family: \"Courier New\", Courier, monospace; cursor: pointer; } .NetworKit_Page .HeatCell, .NetworKit_Page .HeatCellName { display: inline; padding: 0.1em; margin-right: 2px; background-color: #FFFFFF } .NetworKit_Page .HeatCellName { margin-left: 0.25em; } .NetworKit_Page .HeatCell:before { content: attr(data-heat); display: inline-block; color: #000000; width: 4em; text-align: center; } .NetworKit_Page .Measure { clear: both; } .NetworKit_Page .Measure .Details { cursor: pointer; } .NetworKit_Page .Measure .Details:before { content: \"[\" attr(data-title) \"]\"; display: block; } .NetworKit_Page .Measure .Details .Value { border-left: 1px dotted black; margin-left: 0.4em; padding-left: 3.5em; pointer-events: none; } .NetworKit_Page .Measure .Details .Spacer:before { content: \".\"; opacity: 0.0; pointer-events: none; } .NetworKit_Page .Measure .Plot { width: 440px; height: 440px; cursor: pointer; float: left; margin-left: -0.9em; margin-right: 20px; } .NetworKit_Page .Measure .Plot .Image { background-repeat: no-repeat; background-position: center center; background-size: contain; height: 100%; pointer-events: none; } .NetworKit_Page .Measure .Stat { width: 500px; float: left; } .NetworKit_Page .Measure .Stat .Group { padding-left: 1.25em; margin-bottom: 0.75em; } .NetworKit_Page .Measure .Stat .Group .Title { font-size: 1.1em; display: block; margin-bottom: 0.3em; margin-left: -0.75em; border-right-style: dotted; border-right-width: 1px; border-bottom-style: dotted; border-bottom-width: 1px; background-color: #D0D0D0; padding-left: 0.2em; } .NetworKit_Page .Measure .Stat .Group .List { -webkit-column-count: 3; -moz-column-count: 3; column-count: 3; } .NetworKit_Page .Measure .Stat .Group .List .Entry { position: relative; line-height: 1.75em; } .NetworKit_Page .Measure .Stat .Group .List .Entry[data-tooltip]:before { position: absolute; left: 0; top: -40px; background-color: #808080; color: #ffffff; height: 30px; line-height: 30px; border-radius: 5px; padding: 0 15px; content: attr(data-tooltip); white-space: nowrap; display: none; } .NetworKit_Page .Measure .Stat .Group .List .Entry[data-tooltip]:after { position: absolute; left: 15px; top: -10px; border-top: 7px solid #808080; border-left: 7px solid transparent; border-right: 7px solid transparent; content: \"\"; display: none; } .NetworKit_Page .Measure .Stat .Group .List .Entry[data-tooltip]:hover:after, .NetworKit_Page .Measure .Stat .Group .List .Entry[data-tooltip]:hover:before { display: block; } .NetworKit_Page .Measure .Stat .Group .List .Entry .MathValue { font-family: \"Courier New\", Courier, monospace; } .NetworKit_Page .Measure:after { content: \".\"; visibility: hidden; display: block; height: 0; clear: both; } .NetworKit_Page .PartitionPie { clear: both; } .NetworKit_Page .PartitionPie img { width: 600px; } #NetworKit_Overlay { left: 0px; top: 0px; display: none; position: absolute; width: 100%; height: 100%; background-color: rgba(0,0,0,0.6); z-index: 1000; } #NetworKit_Overlay_Title { position: absolute; color: white; transform: rotate(-90deg); width: 32em; height: 32em; padding-right: 0.5em; padding-top: 0.5em; text-align: right; font-size: 40px; } #NetworKit_Overlay .button { background: white; cursor: pointer; } #NetworKit_Overlay .button:before { size: 13px; display: inline-block; text-align: center; margin-top: 0.5em; margin-bottom: 0.5em; width: 1.5em; height: 1.5em; } #NetworKit_Overlay .icon-close:before { content: \"X\"; } #NetworKit_Overlay .icon-previous:before { content: \"P\"; } #NetworKit_Overlay .icon-next:before { content: \"N\"; } #NetworKit_Overlay .icon-save:before { content: \"S\"; } #NetworKit_Overlay_Toolbar_Top, #NetworKit_Overlay_Toolbar_Bottom { position: absolute; width: 40px; right: 13px; text-align: right; z-index: 1100; } #NetworKit_Overlay_Toolbar_Top { top: 0.5em; } #NetworKit_Overlay_Toolbar_Bottom { Bottom: 0.5em; } #NetworKit_Overlay_ImageContainer { position: absolute; top: 5%; left: 5%; height: 90%; width: 90%; background-repeat: no-repeat; background-position: center center; background-size: contain; } #NetworKit_Overlay_Image { height: 100%; width: 100%; background-repeat: no-repeat; background-position: center center; background-size: contain; }';\n",
       "\t\t\t\telement.setAttribute('id', 'NetworKit_style');\n",
       "\t\t\t\tdocument.head.appendChild(element);\n",
       "\t\t\t}\n",
       "\t\t\n",
       "\t\t\t\t\n",
       "\t\t\t{\n",
       "\t\t\t\tvar element = document.getElementById('NetworKit_Overlay');\n",
       "\t\t\t\tif (element) {\n",
       "\t\t\t\t\telement.parentNode.removeChild(element);\n",
       "\t\t\t\t}\n",
       "\t\t\t\telement = document.createElement('div');\n",
       "\t\t\t\telement.innerHTML = '<div id=\"NetworKit_Overlay_Toolbar_Top\"><div class=\"button icon-close\" id=\"NetworKit_Overlay_Close\" /></div><div id=\"NetworKit_Overlay_Title\" /> <div id=\"NetworKit_Overlay_ImageContainer\"> <div id=\"NetworKit_Overlay_Image\" /> </div> <div id=\"NetworKit_Overlay_Toolbar_Bottom\"> <div class=\"button icon-previous\" onclick=\"NetworKit_overlayImageShift(-1)\" /> <div class=\"button icon-next\" onclick=\"NetworKit_overlayImageShift(1)\" /> <a id=\"NetworKit_Overlay_Toolbar_Bottom_Save\"><div class=\"button icon-save\" /></a> </div>';\n",
       "\t\t\t\telement.setAttribute('id', 'NetworKit_Overlay');\n",
       "\t\t\t\tdocument.body.appendChild(element);\n",
       "\t\t\t\tdocument.getElementById('NetworKit_Overlay_Close').onclick = function (e) {\n",
       "\t\t\t\t\tdocument.getElementById('NetworKit_Overlay').style.display = 'none';\n",
       "\t\t\t\t}\n",
       "\t\t\t}\n",
       "\t\t\n",
       "\t\t\t-->\n",
       "\t\t\t</script>\n",
       "\t\t"
      ]
     },
     "metadata": {},
     "output_type": "display_data"
    },
    {
     "data": {
      "text/plain": [
       "(10000, 103552)"
      ]
     },
     "execution_count": 42,
     "metadata": {},
     "output_type": "execute_result"
    }
   ],
   "source": [
    "from littleballoffur import PageRankBasedSampler\n",
    "\n",
    "\n",
    "G_orig = G.copy()\n",
    "sampler = PageRankBasedSampler(10000)\n",
    "G_sample = nx.convert_node_labels_to_integers(\n",
    "    sampler.sample(G_orig.to_undirected())\n",
    ")\n",
    "\n",
    "G_sample.number_of_nodes(), G_sample.number_of_edges()"
   ]
  },
  {
   "cell_type": "code",
   "execution_count": 43,
   "id": "54a87987-b27c-4564-a4ea-a4d7ee33e30e",
   "metadata": {},
   "outputs": [],
   "source": [
    "# Environment variable setup\n",
    "GRAPHISTRY_USERNAME = os.getenv(\"GRAPHISTRY_USERNAME\")\n",
    "GRAPHISTRY_PASSWORD = os.getenv(\"GRAPHISTRY_PASSWORD\")"
   ]
  },
  {
   "cell_type": "code",
   "execution_count": 44,
   "id": "44f5cac2-d3b1-4b7a-824a-9d2decb096c1",
   "metadata": {},
   "outputs": [],
   "source": [
    "graphistry.register(\n",
    "    api=3,\n",
    "    username=GRAPHISTRY_USERNAME,\n",
    "    password=GRAPHISTRY_PASSWORD,\n",
    ")"
   ]
  },
  {
   "cell_type": "code",
   "execution_count": 45,
   "id": "9707cfa6-97ab-4048-af7b-37396dedf7ab",
   "metadata": {},
   "outputs": [],
   "source": [
    "# Configuration for Graphistry\n",
    "FAVICON_URL = \"https://graphlet.ai/assets/icons/favicon.ico\"\n",
    "LOGO = {\"url\": \"https://graphlet.ai/assets/Branding/Graphlet%20AI.svg\", \"dimensions\": {\"maxWidth\": 60, \"maxHeight\": 60}}"
   ]
  },
  {
   "cell_type": "code",
   "execution_count": 46,
   "id": "6569bbae-f35a-4e3e-a0dc-80cb65c77573",
   "metadata": {},
   "outputs": [],
   "source": [
    "# Parameters for GRAPHISTRY\n",
    "GRAPHISTRY_PARAMS = {\n",
    "    \"play\": 500,\n",
    "    \"pointOpacity\": 0.7,\n",
    "    \"edgeOpacity\": 0.3,\n",
    "    \"edgeCurvature\": 0.3,\n",
    "    \"showArrows\": True,\n",
    "    \"gravity\": 0.15,\n",
    "    \"showPointsOfInterestLabel\": False,\n",
    "    \"labels\": {\n",
    "        \"shortenLabels\": False,\n",
    "    },\n",
    "    \"scalingRatio\": 0.5,\n",
    "}"
   ]
  },
  {
   "cell_type": "code",
   "execution_count": 47,
   "id": "7531df39-abdf-440f-9744-139a91200884",
   "metadata": {},
   "outputs": [],
   "source": [
    "g = (\n",
    "    graphistry.bind(\n",
    "        source=\"src\",\n",
    "        destination=\"dst\",\n",
    "        node=\"nodeid\",\n",
    "        point_title=\"Title\",\n",
    "        point_label=\"Title\",\n",
    "    )\n",
    "    .addStyle(\n",
    "        page={\n",
    "            \"title\": \"Community Detection Plot\",\n",
    "            \"favicon\": FAVICON_URL\n",
    "        },\n",
    "        logo=LOGO,\n",
    "    )\n",
    "    .settings(\n",
    "        url_params=GRAPHISTRY_PARAMS,\n",
    "        height=800,\n",
    "    )\n",
    ")"
   ]
  },
  {
   "cell_type": "code",
   "execution_count": 48,
   "id": "8804c5e4-c541-4381-aa97-7d427869057a",
   "metadata": {
    "scrolled": true
   },
   "outputs": [
    {
     "data": {
      "text/html": [
       "\n",
       "            <iframe id=\"23a231b3-e310-4408-bc74-bc8b4c349317\" src=\"https://hub.graphistry.com/graph/graph.html?dataset=71e227f41fa3405395d73613c2483d9e&type=arrow&viztoken=2b99b823-fda5-4278-99da-102bd7721414&usertag=857ded10-pygraphistry-0.34.17&splashAfter=1733933851&info=true&play=500&pointOpacity=0.7&edgeOpacity=0.3&edgeCurvature=0.3&showArrows=True&gravity=0.15&showPointsOfInterestLabel=False&labels={'shortenLabels': False}&scalingRatio=0.5\"\n",
       "                    allowfullscreen=\"true\" webkitallowfullscreen=\"true\" mozallowfullscreen=\"true\"\n",
       "                    oallowfullscreen=\"true\" msallowfullscreen=\"true\"\n",
       "                    style=\"width:100%; height:800px; border: 1px solid #DDD; overflow: hidden\"\n",
       "                    \n",
       "            >\n",
       "            </iframe>\n",
       "        \n",
       "            <script>\n",
       "                try {\n",
       "                  $(\"#23a231b3-e310-4408-bc74-bc8b4c349317\").bind('mousewheel', function(e) { e.preventDefault(); });\n",
       "                } catch (e) { console.error('exn catching scroll', e); }\n",
       "            </script>\n",
       "        "
      ],
      "text/plain": [
       "<IPython.core.display.HTML object>"
      ]
     },
     "execution_count": 48,
     "metadata": {},
     "output_type": "execute_result"
    }
   ],
   "source": [
    "g.plot(G_sample)"
   ]
  },
  {
   "cell_type": "markdown",
   "id": "5353b7bd-be31-4a18-b11d-746cb1d896b0",
   "metadata": {},
   "source": [
    "## Classifying Nodes into Journals\n",
    "\n",
    "We are going to train a classifier and then classify the nodes without journal entries into the most common journals in the field of high energy physics to see where they most likely belong. We are going to use a simple algorithm to do this, then get more sophisticated in the next sections on _graph embeddings_ and _graph neural networks (GNNs)_."
   ]
  },
  {
   "cell_type": "code",
   "execution_count": 49,
   "id": "fb584dae-e30d-453c-8d78-7eaa564a1f82",
   "metadata": {},
   "outputs": [
    {
     "data": {
      "text/plain": [
       "(array([ 0,  1, -1, ...,  8,  1, -1]), (27770,))"
      ]
     },
     "execution_count": 49,
     "metadata": {},
     "output_type": "execute_result"
    }
   ],
   "source": [
    "journal_labels = np.array([\n",
    "    x[1][\"Journal-ref-DBSCAN\"] for x in list(G.nodes(data=True))\n",
    "])\n",
    "journal_labels, journal_labels.shape"
   ]
  },
  {
   "cell_type": "code",
   "execution_count": 50,
   "id": "553ac18e-64c6-4ca2-8340-1fcb674a544a",
   "metadata": {},
   "outputs": [],
   "source": [
    "from sklearn.model_selection import train_test_split\n",
    "\n",
    "\n",
    "X_train, X_test, y_train, y_test = train_test_split(\n",
    "    features,\n",
    "    journal_labels,\n",
    "    test_size=0.25,\n",
    "    random_state=SEED\n",
    ")"
   ]
  },
  {
   "cell_type": "code",
   "execution_count": 51,
   "id": "f79b9947-477d-474a-b955-1c1ce15b0b3d",
   "metadata": {},
   "outputs": [],
   "source": [
    "from sklearn.metrics import accuracy_score, confusion_matrix, precision_score, recall_score, f1_score\n",
    "\n",
    "\n",
    "def score_classifier(y_true, y_pred):\n",
    "    \"\"\"Run and return a pd.DataFrame of various classifier test metrics.\"\"\"\n",
    "    return {\n",
    "        \"Metric\": [\"Accuracy\", \"Precision\", \"Recall\", \"F1\"],\n",
    "        \"Score\": [\n",
    "            accuracy_score(y_true, y_pred),\n",
    "            precision_score(y_true, y_pred, average=\"weighted\"),\n",
    "            recall_score(y_true, y_pred, average=\"weighted\"),\n",
    "            f1_score(y_true, y_pred, average=\"weighted\"),\n",
    "        ],\n",
    "    }"
   ]
  },
  {
   "cell_type": "code",
   "execution_count": 52,
   "id": "12e0ee6e-0ebc-409b-ac5e-1e61b978a58e",
   "metadata": {},
   "outputs": [],
   "source": [
    "from sklearn.linear_model import LogisticRegression\n",
    "from sklearn.pipeline import make_pipeline\n",
    "from sklearn.preprocessing import StandardScaler\n",
    "\n",
    "\n",
    "scaler = StandardScaler()\n",
    "clf = make_pipeline(StandardScaler(), LogisticRegression())"
   ]
  },
  {
   "cell_type": "code",
   "execution_count": 53,
   "id": "0a9a2520-c57f-409e-809e-ec260d7bab9d",
   "metadata": {},
   "outputs": [
    {
     "data": {
      "text/html": [
       "<style>#sk-container-id-1 {\n",
       "  /* Definition of color scheme common for light and dark mode */\n",
       "  --sklearn-color-text: #000;\n",
       "  --sklearn-color-text-muted: #666;\n",
       "  --sklearn-color-line: gray;\n",
       "  /* Definition of color scheme for unfitted estimators */\n",
       "  --sklearn-color-unfitted-level-0: #fff5e6;\n",
       "  --sklearn-color-unfitted-level-1: #f6e4d2;\n",
       "  --sklearn-color-unfitted-level-2: #ffe0b3;\n",
       "  --sklearn-color-unfitted-level-3: chocolate;\n",
       "  /* Definition of color scheme for fitted estimators */\n",
       "  --sklearn-color-fitted-level-0: #f0f8ff;\n",
       "  --sklearn-color-fitted-level-1: #d4ebff;\n",
       "  --sklearn-color-fitted-level-2: #b3dbfd;\n",
       "  --sklearn-color-fitted-level-3: cornflowerblue;\n",
       "\n",
       "  /* Specific color for light theme */\n",
       "  --sklearn-color-text-on-default-background: var(--sg-text-color, var(--theme-code-foreground, var(--jp-content-font-color1, black)));\n",
       "  --sklearn-color-background: var(--sg-background-color, var(--theme-background, var(--jp-layout-color0, white)));\n",
       "  --sklearn-color-border-box: var(--sg-text-color, var(--theme-code-foreground, var(--jp-content-font-color1, black)));\n",
       "  --sklearn-color-icon: #696969;\n",
       "\n",
       "  @media (prefers-color-scheme: dark) {\n",
       "    /* Redefinition of color scheme for dark theme */\n",
       "    --sklearn-color-text-on-default-background: var(--sg-text-color, var(--theme-code-foreground, var(--jp-content-font-color1, white)));\n",
       "    --sklearn-color-background: var(--sg-background-color, var(--theme-background, var(--jp-layout-color0, #111)));\n",
       "    --sklearn-color-border-box: var(--sg-text-color, var(--theme-code-foreground, var(--jp-content-font-color1, white)));\n",
       "    --sklearn-color-icon: #878787;\n",
       "  }\n",
       "}\n",
       "\n",
       "#sk-container-id-1 {\n",
       "  color: var(--sklearn-color-text);\n",
       "}\n",
       "\n",
       "#sk-container-id-1 pre {\n",
       "  padding: 0;\n",
       "}\n",
       "\n",
       "#sk-container-id-1 input.sk-hidden--visually {\n",
       "  border: 0;\n",
       "  clip: rect(1px 1px 1px 1px);\n",
       "  clip: rect(1px, 1px, 1px, 1px);\n",
       "  height: 1px;\n",
       "  margin: -1px;\n",
       "  overflow: hidden;\n",
       "  padding: 0;\n",
       "  position: absolute;\n",
       "  width: 1px;\n",
       "}\n",
       "\n",
       "#sk-container-id-1 div.sk-dashed-wrapped {\n",
       "  border: 1px dashed var(--sklearn-color-line);\n",
       "  margin: 0 0.4em 0.5em 0.4em;\n",
       "  box-sizing: border-box;\n",
       "  padding-bottom: 0.4em;\n",
       "  background-color: var(--sklearn-color-background);\n",
       "}\n",
       "\n",
       "#sk-container-id-1 div.sk-container {\n",
       "  /* jupyter's `normalize.less` sets `[hidden] { display: none; }`\n",
       "     but bootstrap.min.css set `[hidden] { display: none !important; }`\n",
       "     so we also need the `!important` here to be able to override the\n",
       "     default hidden behavior on the sphinx rendered scikit-learn.org.\n",
       "     See: https://github.com/scikit-learn/scikit-learn/issues/21755 */\n",
       "  display: inline-block !important;\n",
       "  position: relative;\n",
       "}\n",
       "\n",
       "#sk-container-id-1 div.sk-text-repr-fallback {\n",
       "  display: none;\n",
       "}\n",
       "\n",
       "div.sk-parallel-item,\n",
       "div.sk-serial,\n",
       "div.sk-item {\n",
       "  /* draw centered vertical line to link estimators */\n",
       "  background-image: linear-gradient(var(--sklearn-color-text-on-default-background), var(--sklearn-color-text-on-default-background));\n",
       "  background-size: 2px 100%;\n",
       "  background-repeat: no-repeat;\n",
       "  background-position: center center;\n",
       "}\n",
       "\n",
       "/* Parallel-specific style estimator block */\n",
       "\n",
       "#sk-container-id-1 div.sk-parallel-item::after {\n",
       "  content: \"\";\n",
       "  width: 100%;\n",
       "  border-bottom: 2px solid var(--sklearn-color-text-on-default-background);\n",
       "  flex-grow: 1;\n",
       "}\n",
       "\n",
       "#sk-container-id-1 div.sk-parallel {\n",
       "  display: flex;\n",
       "  align-items: stretch;\n",
       "  justify-content: center;\n",
       "  background-color: var(--sklearn-color-background);\n",
       "  position: relative;\n",
       "}\n",
       "\n",
       "#sk-container-id-1 div.sk-parallel-item {\n",
       "  display: flex;\n",
       "  flex-direction: column;\n",
       "}\n",
       "\n",
       "#sk-container-id-1 div.sk-parallel-item:first-child::after {\n",
       "  align-self: flex-end;\n",
       "  width: 50%;\n",
       "}\n",
       "\n",
       "#sk-container-id-1 div.sk-parallel-item:last-child::after {\n",
       "  align-self: flex-start;\n",
       "  width: 50%;\n",
       "}\n",
       "\n",
       "#sk-container-id-1 div.sk-parallel-item:only-child::after {\n",
       "  width: 0;\n",
       "}\n",
       "\n",
       "/* Serial-specific style estimator block */\n",
       "\n",
       "#sk-container-id-1 div.sk-serial {\n",
       "  display: flex;\n",
       "  flex-direction: column;\n",
       "  align-items: center;\n",
       "  background-color: var(--sklearn-color-background);\n",
       "  padding-right: 1em;\n",
       "  padding-left: 1em;\n",
       "}\n",
       "\n",
       "\n",
       "/* Toggleable style: style used for estimator/Pipeline/ColumnTransformer box that is\n",
       "clickable and can be expanded/collapsed.\n",
       "- Pipeline and ColumnTransformer use this feature and define the default style\n",
       "- Estimators will overwrite some part of the style using the `sk-estimator` class\n",
       "*/\n",
       "\n",
       "/* Pipeline and ColumnTransformer style (default) */\n",
       "\n",
       "#sk-container-id-1 div.sk-toggleable {\n",
       "  /* Default theme specific background. It is overwritten whether we have a\n",
       "  specific estimator or a Pipeline/ColumnTransformer */\n",
       "  background-color: var(--sklearn-color-background);\n",
       "}\n",
       "\n",
       "/* Toggleable label */\n",
       "#sk-container-id-1 label.sk-toggleable__label {\n",
       "  cursor: pointer;\n",
       "  display: flex;\n",
       "  width: 100%;\n",
       "  margin-bottom: 0;\n",
       "  padding: 0.5em;\n",
       "  box-sizing: border-box;\n",
       "  text-align: center;\n",
       "  align-items: start;\n",
       "  justify-content: space-between;\n",
       "  gap: 0.5em;\n",
       "}\n",
       "\n",
       "#sk-container-id-1 label.sk-toggleable__label .caption {\n",
       "  font-size: 0.6rem;\n",
       "  font-weight: lighter;\n",
       "  color: var(--sklearn-color-text-muted);\n",
       "}\n",
       "\n",
       "#sk-container-id-1 label.sk-toggleable__label-arrow:before {\n",
       "  /* Arrow on the left of the label */\n",
       "  content: \"▸\";\n",
       "  float: left;\n",
       "  margin-right: 0.25em;\n",
       "  color: var(--sklearn-color-icon);\n",
       "}\n",
       "\n",
       "#sk-container-id-1 label.sk-toggleable__label-arrow:hover:before {\n",
       "  color: var(--sklearn-color-text);\n",
       "}\n",
       "\n",
       "/* Toggleable content - dropdown */\n",
       "\n",
       "#sk-container-id-1 div.sk-toggleable__content {\n",
       "  max-height: 0;\n",
       "  max-width: 0;\n",
       "  overflow: hidden;\n",
       "  text-align: left;\n",
       "  /* unfitted */\n",
       "  background-color: var(--sklearn-color-unfitted-level-0);\n",
       "}\n",
       "\n",
       "#sk-container-id-1 div.sk-toggleable__content.fitted {\n",
       "  /* fitted */\n",
       "  background-color: var(--sklearn-color-fitted-level-0);\n",
       "}\n",
       "\n",
       "#sk-container-id-1 div.sk-toggleable__content pre {\n",
       "  margin: 0.2em;\n",
       "  border-radius: 0.25em;\n",
       "  color: var(--sklearn-color-text);\n",
       "  /* unfitted */\n",
       "  background-color: var(--sklearn-color-unfitted-level-0);\n",
       "}\n",
       "\n",
       "#sk-container-id-1 div.sk-toggleable__content.fitted pre {\n",
       "  /* unfitted */\n",
       "  background-color: var(--sklearn-color-fitted-level-0);\n",
       "}\n",
       "\n",
       "#sk-container-id-1 input.sk-toggleable__control:checked~div.sk-toggleable__content {\n",
       "  /* Expand drop-down */\n",
       "  max-height: 200px;\n",
       "  max-width: 100%;\n",
       "  overflow: auto;\n",
       "}\n",
       "\n",
       "#sk-container-id-1 input.sk-toggleable__control:checked~label.sk-toggleable__label-arrow:before {\n",
       "  content: \"▾\";\n",
       "}\n",
       "\n",
       "/* Pipeline/ColumnTransformer-specific style */\n",
       "\n",
       "#sk-container-id-1 div.sk-label input.sk-toggleable__control:checked~label.sk-toggleable__label {\n",
       "  color: var(--sklearn-color-text);\n",
       "  background-color: var(--sklearn-color-unfitted-level-2);\n",
       "}\n",
       "\n",
       "#sk-container-id-1 div.sk-label.fitted input.sk-toggleable__control:checked~label.sk-toggleable__label {\n",
       "  background-color: var(--sklearn-color-fitted-level-2);\n",
       "}\n",
       "\n",
       "/* Estimator-specific style */\n",
       "\n",
       "/* Colorize estimator box */\n",
       "#sk-container-id-1 div.sk-estimator input.sk-toggleable__control:checked~label.sk-toggleable__label {\n",
       "  /* unfitted */\n",
       "  background-color: var(--sklearn-color-unfitted-level-2);\n",
       "}\n",
       "\n",
       "#sk-container-id-1 div.sk-estimator.fitted input.sk-toggleable__control:checked~label.sk-toggleable__label {\n",
       "  /* fitted */\n",
       "  background-color: var(--sklearn-color-fitted-level-2);\n",
       "}\n",
       "\n",
       "#sk-container-id-1 div.sk-label label.sk-toggleable__label,\n",
       "#sk-container-id-1 div.sk-label label {\n",
       "  /* The background is the default theme color */\n",
       "  color: var(--sklearn-color-text-on-default-background);\n",
       "}\n",
       "\n",
       "/* On hover, darken the color of the background */\n",
       "#sk-container-id-1 div.sk-label:hover label.sk-toggleable__label {\n",
       "  color: var(--sklearn-color-text);\n",
       "  background-color: var(--sklearn-color-unfitted-level-2);\n",
       "}\n",
       "\n",
       "/* Label box, darken color on hover, fitted */\n",
       "#sk-container-id-1 div.sk-label.fitted:hover label.sk-toggleable__label.fitted {\n",
       "  color: var(--sklearn-color-text);\n",
       "  background-color: var(--sklearn-color-fitted-level-2);\n",
       "}\n",
       "\n",
       "/* Estimator label */\n",
       "\n",
       "#sk-container-id-1 div.sk-label label {\n",
       "  font-family: monospace;\n",
       "  font-weight: bold;\n",
       "  display: inline-block;\n",
       "  line-height: 1.2em;\n",
       "}\n",
       "\n",
       "#sk-container-id-1 div.sk-label-container {\n",
       "  text-align: center;\n",
       "}\n",
       "\n",
       "/* Estimator-specific */\n",
       "#sk-container-id-1 div.sk-estimator {\n",
       "  font-family: monospace;\n",
       "  border: 1px dotted var(--sklearn-color-border-box);\n",
       "  border-radius: 0.25em;\n",
       "  box-sizing: border-box;\n",
       "  margin-bottom: 0.5em;\n",
       "  /* unfitted */\n",
       "  background-color: var(--sklearn-color-unfitted-level-0);\n",
       "}\n",
       "\n",
       "#sk-container-id-1 div.sk-estimator.fitted {\n",
       "  /* fitted */\n",
       "  background-color: var(--sklearn-color-fitted-level-0);\n",
       "}\n",
       "\n",
       "/* on hover */\n",
       "#sk-container-id-1 div.sk-estimator:hover {\n",
       "  /* unfitted */\n",
       "  background-color: var(--sklearn-color-unfitted-level-2);\n",
       "}\n",
       "\n",
       "#sk-container-id-1 div.sk-estimator.fitted:hover {\n",
       "  /* fitted */\n",
       "  background-color: var(--sklearn-color-fitted-level-2);\n",
       "}\n",
       "\n",
       "/* Specification for estimator info (e.g. \"i\" and \"?\") */\n",
       "\n",
       "/* Common style for \"i\" and \"?\" */\n",
       "\n",
       ".sk-estimator-doc-link,\n",
       "a:link.sk-estimator-doc-link,\n",
       "a:visited.sk-estimator-doc-link {\n",
       "  float: right;\n",
       "  font-size: smaller;\n",
       "  line-height: 1em;\n",
       "  font-family: monospace;\n",
       "  background-color: var(--sklearn-color-background);\n",
       "  border-radius: 1em;\n",
       "  height: 1em;\n",
       "  width: 1em;\n",
       "  text-decoration: none !important;\n",
       "  margin-left: 0.5em;\n",
       "  text-align: center;\n",
       "  /* unfitted */\n",
       "  border: var(--sklearn-color-unfitted-level-1) 1pt solid;\n",
       "  color: var(--sklearn-color-unfitted-level-1);\n",
       "}\n",
       "\n",
       ".sk-estimator-doc-link.fitted,\n",
       "a:link.sk-estimator-doc-link.fitted,\n",
       "a:visited.sk-estimator-doc-link.fitted {\n",
       "  /* fitted */\n",
       "  border: var(--sklearn-color-fitted-level-1) 1pt solid;\n",
       "  color: var(--sklearn-color-fitted-level-1);\n",
       "}\n",
       "\n",
       "/* On hover */\n",
       "div.sk-estimator:hover .sk-estimator-doc-link:hover,\n",
       ".sk-estimator-doc-link:hover,\n",
       "div.sk-label-container:hover .sk-estimator-doc-link:hover,\n",
       ".sk-estimator-doc-link:hover {\n",
       "  /* unfitted */\n",
       "  background-color: var(--sklearn-color-unfitted-level-3);\n",
       "  color: var(--sklearn-color-background);\n",
       "  text-decoration: none;\n",
       "}\n",
       "\n",
       "div.sk-estimator.fitted:hover .sk-estimator-doc-link.fitted:hover,\n",
       ".sk-estimator-doc-link.fitted:hover,\n",
       "div.sk-label-container:hover .sk-estimator-doc-link.fitted:hover,\n",
       ".sk-estimator-doc-link.fitted:hover {\n",
       "  /* fitted */\n",
       "  background-color: var(--sklearn-color-fitted-level-3);\n",
       "  color: var(--sklearn-color-background);\n",
       "  text-decoration: none;\n",
       "}\n",
       "\n",
       "/* Span, style for the box shown on hovering the info icon */\n",
       ".sk-estimator-doc-link span {\n",
       "  display: none;\n",
       "  z-index: 9999;\n",
       "  position: relative;\n",
       "  font-weight: normal;\n",
       "  right: .2ex;\n",
       "  padding: .5ex;\n",
       "  margin: .5ex;\n",
       "  width: min-content;\n",
       "  min-width: 20ex;\n",
       "  max-width: 50ex;\n",
       "  color: var(--sklearn-color-text);\n",
       "  box-shadow: 2pt 2pt 4pt #999;\n",
       "  /* unfitted */\n",
       "  background: var(--sklearn-color-unfitted-level-0);\n",
       "  border: .5pt solid var(--sklearn-color-unfitted-level-3);\n",
       "}\n",
       "\n",
       ".sk-estimator-doc-link.fitted span {\n",
       "  /* fitted */\n",
       "  background: var(--sklearn-color-fitted-level-0);\n",
       "  border: var(--sklearn-color-fitted-level-3);\n",
       "}\n",
       "\n",
       ".sk-estimator-doc-link:hover span {\n",
       "  display: block;\n",
       "}\n",
       "\n",
       "/* \"?\"-specific style due to the `<a>` HTML tag */\n",
       "\n",
       "#sk-container-id-1 a.estimator_doc_link {\n",
       "  float: right;\n",
       "  font-size: 1rem;\n",
       "  line-height: 1em;\n",
       "  font-family: monospace;\n",
       "  background-color: var(--sklearn-color-background);\n",
       "  border-radius: 1rem;\n",
       "  height: 1rem;\n",
       "  width: 1rem;\n",
       "  text-decoration: none;\n",
       "  /* unfitted */\n",
       "  color: var(--sklearn-color-unfitted-level-1);\n",
       "  border: var(--sklearn-color-unfitted-level-1) 1pt solid;\n",
       "}\n",
       "\n",
       "#sk-container-id-1 a.estimator_doc_link.fitted {\n",
       "  /* fitted */\n",
       "  border: var(--sklearn-color-fitted-level-1) 1pt solid;\n",
       "  color: var(--sklearn-color-fitted-level-1);\n",
       "}\n",
       "\n",
       "/* On hover */\n",
       "#sk-container-id-1 a.estimator_doc_link:hover {\n",
       "  /* unfitted */\n",
       "  background-color: var(--sklearn-color-unfitted-level-3);\n",
       "  color: var(--sklearn-color-background);\n",
       "  text-decoration: none;\n",
       "}\n",
       "\n",
       "#sk-container-id-1 a.estimator_doc_link.fitted:hover {\n",
       "  /* fitted */\n",
       "  background-color: var(--sklearn-color-fitted-level-3);\n",
       "}\n",
       "</style><div id=\"sk-container-id-1\" class=\"sk-top-container\"><div class=\"sk-text-repr-fallback\"><pre>Pipeline(steps=[(&#x27;standardscaler&#x27;, StandardScaler()),\n",
       "                (&#x27;logisticregression&#x27;, LogisticRegression())])</pre><b>In a Jupyter environment, please rerun this cell to show the HTML representation or trust the notebook. <br />On GitHub, the HTML representation is unable to render, please try loading this page with nbviewer.org.</b></div><div class=\"sk-container\" hidden><div class=\"sk-item sk-dashed-wrapped\"><div class=\"sk-label-container\"><div class=\"sk-label fitted sk-toggleable\"><input class=\"sk-toggleable__control sk-hidden--visually\" id=\"sk-estimator-id-1\" type=\"checkbox\" ><label for=\"sk-estimator-id-1\" class=\"sk-toggleable__label fitted sk-toggleable__label-arrow\"><div><div>Pipeline</div></div><div><a class=\"sk-estimator-doc-link fitted\" rel=\"noreferrer\" target=\"_blank\" href=\"https://scikit-learn.org/1.6/modules/generated/sklearn.pipeline.Pipeline.html\">?<span>Documentation for Pipeline</span></a><span class=\"sk-estimator-doc-link fitted\">i<span>Fitted</span></span></div></label><div class=\"sk-toggleable__content fitted\"><pre>Pipeline(steps=[(&#x27;standardscaler&#x27;, StandardScaler()),\n",
       "                (&#x27;logisticregression&#x27;, LogisticRegression())])</pre></div> </div></div><div class=\"sk-serial\"><div class=\"sk-item\"><div class=\"sk-estimator fitted sk-toggleable\"><input class=\"sk-toggleable__control sk-hidden--visually\" id=\"sk-estimator-id-2\" type=\"checkbox\" ><label for=\"sk-estimator-id-2\" class=\"sk-toggleable__label fitted sk-toggleable__label-arrow\"><div><div>StandardScaler</div></div><div><a class=\"sk-estimator-doc-link fitted\" rel=\"noreferrer\" target=\"_blank\" href=\"https://scikit-learn.org/1.6/modules/generated/sklearn.preprocessing.StandardScaler.html\">?<span>Documentation for StandardScaler</span></a></div></label><div class=\"sk-toggleable__content fitted\"><pre>StandardScaler()</pre></div> </div></div><div class=\"sk-item\"><div class=\"sk-estimator fitted sk-toggleable\"><input class=\"sk-toggleable__control sk-hidden--visually\" id=\"sk-estimator-id-3\" type=\"checkbox\" ><label for=\"sk-estimator-id-3\" class=\"sk-toggleable__label fitted sk-toggleable__label-arrow\"><div><div>LogisticRegression</div></div><div><a class=\"sk-estimator-doc-link fitted\" rel=\"noreferrer\" target=\"_blank\" href=\"https://scikit-learn.org/1.6/modules/generated/sklearn.linear_model.LogisticRegression.html\">?<span>Documentation for LogisticRegression</span></a></div></label><div class=\"sk-toggleable__content fitted\"><pre>LogisticRegression()</pre></div> </div></div></div></div></div></div>"
      ],
      "text/plain": [
       "Pipeline(steps=[('standardscaler', StandardScaler()),\n",
       "                ('logisticregression', LogisticRegression())])"
      ]
     },
     "execution_count": 53,
     "metadata": {},
     "output_type": "execute_result"
    }
   ],
   "source": [
    "model = clf.fit(X_train, y_train)\n",
    "model"
   ]
  },
  {
   "cell_type": "code",
   "execution_count": 54,
   "id": "7642130a-c9ba-45ce-a82f-db0e82492774",
   "metadata": {},
   "outputs": [
    {
     "name": "stderr",
     "output_type": "stream",
     "text": [
      "/opt/conda/lib/python3.11/site-packages/sklearn/metrics/_classification.py:1565: UndefinedMetricWarning: Precision is ill-defined and being set to 0.0 in labels with no predicted samples. Use `zero_division` parameter to control this behavior.\n",
      "  _warn_prf(average, modifier, f\"{metric.capitalize()} is\", len(result))\n"
     ]
    },
    {
     "data": {
      "text/html": [
       "<div>\n",
       "<style scoped>\n",
       "    .dataframe tbody tr th:only-of-type {\n",
       "        vertical-align: middle;\n",
       "    }\n",
       "\n",
       "    .dataframe tbody tr th {\n",
       "        vertical-align: top;\n",
       "    }\n",
       "\n",
       "    .dataframe thead th {\n",
       "        text-align: right;\n",
       "    }\n",
       "</style>\n",
       "<table border=\"1\" class=\"dataframe\">\n",
       "  <thead>\n",
       "    <tr style=\"text-align: right;\">\n",
       "      <th></th>\n",
       "      <th>Metric</th>\n",
       "      <th>Score</th>\n",
       "    </tr>\n",
       "  </thead>\n",
       "  <tbody>\n",
       "    <tr>\n",
       "      <th>0</th>\n",
       "      <td>Accuracy</td>\n",
       "      <td>0.293245</td>\n",
       "    </tr>\n",
       "    <tr>\n",
       "      <th>1</th>\n",
       "      <td>Precision</td>\n",
       "      <td>0.219383</td>\n",
       "    </tr>\n",
       "    <tr>\n",
       "      <th>2</th>\n",
       "      <td>Recall</td>\n",
       "      <td>0.293245</td>\n",
       "    </tr>\n",
       "    <tr>\n",
       "      <th>3</th>\n",
       "      <td>F1</td>\n",
       "      <td>0.193450</td>\n",
       "    </tr>\n",
       "  </tbody>\n",
       "</table>\n",
       "</div>"
      ],
      "text/plain": [
       "      Metric     Score\n",
       "0   Accuracy  0.293245\n",
       "1  Precision  0.219383\n",
       "2     Recall  0.293245\n",
       "3         F1  0.193450"
      ]
     },
     "execution_count": 54,
     "metadata": {},
     "output_type": "execute_result"
    }
   ],
   "source": [
    "y_pred = model.predict(X_test)\n",
    "\n",
    "pd.DataFrame(score_classifier(y_test, y_pred))"
   ]
  },
  {
   "cell_type": "markdown",
   "id": "917c3f92-c1c4-4d47-8bd9-031ed6174d92",
   "metadata": {},
   "source": [
    "## Exercise: Try to improve the perormance of our model using more `networkx` metrics\n",
    "\n",
    "Take a look at the [long list of algorithms provided by networkx]() including its own [node classification methods](https://networkx.org/documentation/stable/reference/algorithms/node_classification.html). Compute several new features and add them to the `features` `np.array` as above, before re-scoring our classifier."
   ]
  },
  {
   "cell_type": "code",
   "execution_count": 55,
   "id": "b22669fa-e113-4f64-9fee-a65f0c2a4dd5",
   "metadata": {},
   "outputs": [],
   "source": [
    "# from networkx.algorithms import node_classification\n",
    "#\n",
    "# harmonic_class = node_classification.harmonic_function(G.to_undirected(), label_name=\"Journal-ref-DBSCAN\")\n",
    "# harmonic_class_ary = np.array(harmonic_class)\n",
    "# harmonic_class_ary, harmonic_class_ary.shape"
   ]
  },
  {
   "cell_type": "code",
   "execution_count": 56,
   "id": "a1b83576-ab36-4dfa-90f7-03bb269f30e4",
   "metadata": {},
   "outputs": [],
   "source": [
    "# features = np.append(\n",
    "#     features,\n",
    "#     harmonic_class_ary.reshape(-1, 1),\n",
    "#     axis=1\n",
    "# )\n",
    "# features, features.shape"
   ]
  },
  {
   "cell_type": "code",
   "execution_count": 57,
   "id": "aaacd5c1-0d0b-4af9-868d-90dc7ad2aa33",
   "metadata": {},
   "outputs": [],
   "source": [
    "# consist_class = node_classification.local_and_global_consistency(G.to_undirected(), label_name=\"Journal-ref-DBSCAN\")\n",
    "# consist_class_ary = np.array(consist_class)\n",
    "# consist_class_ary, consist_class_ary.shape"
   ]
  },
  {
   "cell_type": "code",
   "execution_count": 58,
   "id": "7e369b4b-a062-435d-b7da-f360d9f10b24",
   "metadata": {},
   "outputs": [],
   "source": [
    "# features = np.append(\n",
    "#     features,\n",
    "#     consist_class_ary.reshape(-1, 1),\n",
    "#     axis=1\n",
    "# )\n",
    "# features, features.shape"
   ]
  },
  {
   "cell_type": "code",
   "execution_count": 59,
   "id": "12b8ed05-f80a-4dd5-88a2-4a64191d71a0",
   "metadata": {},
   "outputs": [],
   "source": [
    "# X_train, X_test, y_train, y_test = train_test_split(\n",
    "#     features,\n",
    "#     journal_labels,\n",
    "#     test_size=0.25,\n",
    "#     random_state=SEED\n",
    "# )\n",
    "\n",
    "# model = clf.fit(X_train, y_train)\n",
    "# y_pred = model.predict(X_test)\n",
    "\n",
    "# pd.DataFrame(score_classifier(y_test, y_pred))"
   ]
  },
  {
   "cell_type": "markdown",
   "id": "2115b871-aed8-4863-aae9-ab472710fe0e",
   "metadata": {},
   "source": [
    "## Exercise: Improve the model to improve performance\n",
    "\n",
    "SVC may not be the best model for this type of work - can you improve the classification using a different type of model? Look at [scikit-learn's supervised learning catalogue](https://scikit-learn.org/stable/supervised_learning.html) for some additional models to try.\n",
    "\n",
    "### Implement a model in XGBoost\n",
    "\n",
    "XGBoost is a popular library for building high performance classifiers. Let's implement a classifier using an [XGBClassifier](https://xgboost.readthedocs.io/en/latest/python/python_api.html#xgboost.XGBClassifier)."
   ]
  },
  {
   "cell_type": "code",
   "execution_count": 60,
   "id": "1a2dcf4b-6c0d-4802-9f16-607da4dc8f45",
   "metadata": {},
   "outputs": [],
   "source": [
    "# from xgboost import XGBClassifier\n",
    "\n",
    "\n",
    "# # Get number of unique classes\n",
    "# n_classes = np.unique(journal_labels).size\n",
    "\n",
    "# # Replace LogisticRegression with XGBoost\n",
    "# xgb_clf = XGBClassifier(\n",
    "#     objective='multi:softmax',\n",
    "#     num_class=n_classes,  # Add this parameter\n",
    "#     random_state=SEED,\n",
    "#     n_estimators=100,\n",
    "#     learning_rate=0.1\n",
    "# )\n",
    "\n",
    "# # Fit the model - note that XGBoost doesn't require scaling\n",
    "# model = xgb_clf.fit(X_train, y_train)\n",
    "\n",
    "# # Make predictions\n",
    "# y_pred = model.predict(X_test)\n",
    "\n",
    "# # Score the model\n",
    "# pd.DataFrame(score_classifier(y_test, y_pred))"
   ]
  },
  {
   "cell_type": "markdown",
   "id": "a5d4b875-4d25-4edf-a0af-05c35d96fb03",
   "metadata": {},
   "source": [
    "## Topology and Text Features\n",
    "\n",
    "Now that we've improved the topological features of our classifier, let's try adding the abstract paraphrase embedding to see how our model performs."
   ]
  },
  {
   "cell_type": "code",
   "execution_count": 61,
   "id": "7aa7213f-cf1c-477f-9db8-2b4f60544755",
   "metadata": {},
   "outputs": [
    {
     "data": {
      "text/plain": [
       "(array([[-0.54653424, -0.4769959 ,  0.8783171 , ...,  0.6947694 ,\n",
       "          0.18661499,  0.03125653],\n",
       "        [-0.18618816, -0.16318487, -0.42465568, ..., -0.07159626,\n",
       "         -0.16447136,  0.27895665],\n",
       "        [ 0.13707906, -0.24177003, -0.5557765 , ...,  0.27522802,\n",
       "          0.22338533, -0.0406162 ],\n",
       "        ...,\n",
       "        [-0.42258233, -0.12118016, -0.30077887, ...,  0.25281537,\n",
       "          0.56130904,  0.11708017],\n",
       "        [ 0.75475836,  0.40670642, -0.50345385, ..., -0.65994596,\n",
       "          0.13976914, -0.2980609 ],\n",
       "        [ 0.2896915 , -1.3634331 , -0.30351806, ..., -0.00664133,\n",
       "          0.17416692, -0.03427062]], dtype=float32),\n",
       " (27770, 32))"
      ]
     },
     "execution_count": 61,
     "metadata": {},
     "output_type": "execute_result"
    }
   ],
   "source": [
    "from sklearn.decomposition import PCA\n",
    "embedded_abstracts = np.load(\"data/embedded_abstracts.npy\")\n",
    "\n",
    "pca = PCA(n_components=32)\n",
    "pca_abstracts = pca.fit_transform(embedded_abstracts)\n",
    "pca_abstracts, pca_abstracts.shape"
   ]
  },
  {
   "cell_type": "code",
   "execution_count": 62,
   "id": "2a951a9c-7819-4e6d-b20c-f917f70fabbe",
   "metadata": {},
   "outputs": [
    {
     "data": {
      "text/plain": [
       "(array([[ 3.34905830e-03,  3.60113796e-04,  2.98894451e-03, ...,\n",
       "          6.94769382e-01,  1.86614990e-01,  3.12565267e-02],\n",
       "        [ 6.12193453e-04,  5.76182074e-04,  3.60113796e-05, ...,\n",
       "         -7.15962648e-02, -1.64471358e-01,  2.78956652e-01],\n",
       "        [ 4.39338831e-03,  4.14130865e-03,  2.52079657e-04, ...,\n",
       "          2.75228024e-01,  2.23385334e-01, -4.06161994e-02],\n",
       "        ...,\n",
       "        [ 2.16068278e-04,  0.00000000e+00,  2.16068278e-04, ...,\n",
       "          2.52815366e-01,  5.61309040e-01,  1.17080167e-01],\n",
       "        [ 3.60113796e-05,  0.00000000e+00,  3.60113796e-05, ...,\n",
       "         -6.59945965e-01,  1.39769137e-01, -2.98060894e-01],\n",
       "        [ 2.88091037e-04,  0.00000000e+00,  2.88091037e-04, ...,\n",
       "         -6.64132833e-03,  1.74166918e-01, -3.42706218e-02]]),\n",
       " (27770, 38))"
      ]
     },
     "execution_count": 62,
     "metadata": {},
     "output_type": "execute_result"
    }
   ],
   "source": [
    "super_features = np.append(features, pca_abstracts, axis=1)\n",
    "super_features, super_features.shape"
   ]
  },
  {
   "cell_type": "code",
   "execution_count": 63,
   "id": "58f75c1f-8b1c-418d-9ad1-efa7e25315d1",
   "metadata": {},
   "outputs": [
    {
     "data": {
      "text/html": [
       "<div>\n",
       "<style scoped>\n",
       "    .dataframe tbody tr th:only-of-type {\n",
       "        vertical-align: middle;\n",
       "    }\n",
       "\n",
       "    .dataframe tbody tr th {\n",
       "        vertical-align: top;\n",
       "    }\n",
       "\n",
       "    .dataframe thead th {\n",
       "        text-align: right;\n",
       "    }\n",
       "</style>\n",
       "<table border=\"1\" class=\"dataframe\">\n",
       "  <thead>\n",
       "    <tr style=\"text-align: right;\">\n",
       "      <th></th>\n",
       "      <th>Metric</th>\n",
       "      <th>Score</th>\n",
       "    </tr>\n",
       "  </thead>\n",
       "  <tbody>\n",
       "    <tr>\n",
       "      <th>0</th>\n",
       "      <td>Accuracy</td>\n",
       "      <td>0.310529</td>\n",
       "    </tr>\n",
       "    <tr>\n",
       "      <th>1</th>\n",
       "      <td>Precision</td>\n",
       "      <td>0.225191</td>\n",
       "    </tr>\n",
       "    <tr>\n",
       "      <th>2</th>\n",
       "      <td>Recall</td>\n",
       "      <td>0.310529</td>\n",
       "    </tr>\n",
       "    <tr>\n",
       "      <th>3</th>\n",
       "      <td>F1</td>\n",
       "      <td>0.249228</td>\n",
       "    </tr>\n",
       "  </tbody>\n",
       "</table>\n",
       "</div>"
      ],
      "text/plain": [
       "      Metric     Score\n",
       "0   Accuracy  0.310529\n",
       "1  Precision  0.225191\n",
       "2     Recall  0.310529\n",
       "3         F1  0.249228"
      ]
     },
     "execution_count": 63,
     "metadata": {},
     "output_type": "execute_result"
    }
   ],
   "source": [
    "from sklearn.ensemble import RandomForestClassifier\n",
    "\n",
    "\n",
    "scaler = StandardScaler()\n",
    "clf = make_pipeline(StandardScaler(), RandomForestClassifier())\n",
    "\n",
    "X_train, X_test, y_train, y_test = train_test_split(\n",
    "    super_features,\n",
    "    journal_labels,\n",
    "    test_size=0.25,\n",
    "    random_state=SEED\n",
    ")\n",
    "\n",
    "model = clf.fit(X_train, y_train)\n",
    "y_pred = model.predict(X_test)\n",
    "pd.DataFrame(score_classifier(y_test, y_pred))"
   ]
  },
  {
   "cell_type": "markdown",
   "id": "226ac361-bc95-4fa2-b8f7-ac8f4770a725",
   "metadata": {},
   "source": [
    "### Graphs > Text\n",
    "\n",
    "Isn't it interesting that a sentence embedding of the entire abstract can tell a classifier for academic journal less than a few hand-computed network metrics?\n",
    "\n",
    "## Excrcise: Graph + Text Feature Engineering\n",
    "\n",
    "See if you can feature engineer the graph and text features together along with the model selection or model parameters to produce improved performance in our node classifier!"
   ]
  },
  {
   "cell_type": "markdown",
   "id": "80a4fe12-f7a0-4134-a466-17e1524665d5",
   "metadata": {},
   "source": [
    "# Graph Machine Learning with Graph Embeddings\n",
    "\n",
    "[DeepWalk](https://arxiv.org/abs/1403.6652), Perozzi et al., 2014, was a revolution in graph machine learning. Along with [node2vec](https://snap.stanford.edu/node2vec/), Grover, A.; Leskovec, J, 2016, which came with code on Github [[aditya-grover/node2vec](https://github.com/aditya-grover/node2vec)], it removed the need to spend as much time doing feature engineering by hand. Although initially these embeddings worked on simple graphs with one type of edge and ignore node and edge properties... by efficiently encoding topology around a node, they autoomated much of the work involved in tasks like node classification/labeling and link prediction.\n",
    "\n",
    "## Sampling Our Network\n",
    "\n",
    "We will need to sample our network to compute some of these graph embeddings in a timeline manner. Remember our work from Part 3 - we will need it."
   ]
  },
  {
   "cell_type": "code",
   "execution_count": 64,
   "id": "2784311e-3bca-4760-bda3-8d397d84cf2b",
   "metadata": {},
   "outputs": [
    {
     "data": {
      "text/plain": [
       "(5000, 35034)"
      ]
     },
     "execution_count": 64,
     "metadata": {},
     "output_type": "execute_result"
    }
   ],
   "source": [
    "from littleballoffur import PageRankBasedSampler\n",
    "\n",
    "\n",
    "G_orig = G.copy()\n",
    "sampler = PageRankBasedSampler(5000)\n",
    "G_sample = nx.convert_node_labels_to_integers(\n",
    "    sampler.sample(G_orig.to_undirected())\n",
    ")\n",
    "\n",
    "G_sample.number_of_nodes(), G_sample.number_of_edges()"
   ]
  },
  {
   "cell_type": "code",
   "execution_count": 65,
   "id": "f1b6efa7-f0f1-4c6d-852d-90fe416c0eec",
   "metadata": {},
   "outputs": [
    {
     "data": {
      "text/plain": [
       "(array([ 0, -1,  1, ...,  2,  7,  0]), (5000,))"
      ]
     },
     "execution_count": 65,
     "metadata": {},
     "output_type": "execute_result"
    }
   ],
   "source": [
    "journal_labels = np.array([x[1][\"Journal-ref-DBSCAN\"] for x in list(G_sample.nodes(data=True))])\n",
    "journal_labels, journal_labels.shape"
   ]
  },
  {
   "cell_type": "code",
   "execution_count": 66,
   "id": "cb787f8f-a403-43e2-a75a-71212ef10ef7",
   "metadata": {},
   "outputs": [
    {
     "name": "stderr",
     "output_type": "stream",
     "text": [
      "/opt/conda/lib/python3.11/site-packages/pygsp/filters/simpletight.py:79: SyntaxWarning: \"is\" with a literal. Did you mean \"==\"?\n",
      "  if kerneltype is 'sf':\n",
      "/opt/conda/lib/python3.11/site-packages/pygsp/filters/simpletight.py:82: SyntaxWarning: \"is\" with a literal. Did you mean \"==\"?\n",
      "  elif kerneltype is 'wavelet':\n",
      "/opt/conda/lib/python3.11/site-packages/karateclub/estimator.py:66: UserWarning: Please do be advised that the graph you have provided does not contain (some) edges in the main diagonal, for instance the self-loop constitued of (0, 0). These selfloops are necessary to ensure that the graph is traversable, and for this reason we create a copy of the graph and add therein the missing edges. Since we are creating a copy, this will immediately duplicate the memory requirements. To avoid this double allocation, you can provide the graph with the selfloops.\n",
      "  warnings.warn(\n"
     ]
    },
    {
     "data": {
      "text/plain": [
       "(array([[ 0.25416163,  1.4206662 ,  0.79796684, ...,  0.5709404 ,\n",
       "          0.01644027,  0.59156185],\n",
       "        [-0.49601817,  0.28262064, -0.36348972, ..., -0.42469877,\n",
       "          0.4048642 ,  0.21557498],\n",
       "        [-1.3367006 ,  1.2942252 , -0.3476169 , ..., -1.0063825 ,\n",
       "          0.9301511 ,  0.5739296 ],\n",
       "        ...,\n",
       "        [-0.05074844, -2.5861702 ,  0.8391502 , ...,  0.9828773 ,\n",
       "          0.49173117, -0.8863276 ],\n",
       "        [ 1.4751141 , -0.985616  ,  0.02599653, ...,  0.24639583,\n",
       "          0.31963068,  0.30162287],\n",
       "        [-1.3196231 ,  0.79900676, -1.110915  , ...,  1.178108  ,\n",
       "         -0.8391379 , -0.17208172]], dtype=float32),\n",
       " (5000, 128))"
      ]
     },
     "execution_count": 66,
     "metadata": {},
     "output_type": "execute_result"
    }
   ],
   "source": [
    "# DeepWalk was first, but it hardly state of the art. Let's see what it can do...\n",
    "from karateclub import DeepWalk\n",
    "\n",
    "\n",
    "d = DeepWalk()\n",
    "d.fit(G_sample)\n",
    "deepwalk_features = d.get_embedding()\n",
    "\n",
    "deepwalk_features, deepwalk_features.shape"
   ]
  },
  {
   "cell_type": "code",
   "execution_count": 67,
   "id": "45bdd7d8-46f1-4e15-97f8-f0287a60b6c9",
   "metadata": {},
   "outputs": [
    {
     "name": "stderr",
     "output_type": "stream",
     "text": [
      "/opt/conda/lib/python3.11/site-packages/sklearn/metrics/_classification.py:1565: UndefinedMetricWarning: Precision is ill-defined and being set to 0.0 in labels with no predicted samples. Use `zero_division` parameter to control this behavior.\n",
      "  _warn_prf(average, modifier, f\"{metric.capitalize()} is\", len(result))\n"
     ]
    },
    {
     "data": {
      "text/html": [
       "<div>\n",
       "<style scoped>\n",
       "    .dataframe tbody tr th:only-of-type {\n",
       "        vertical-align: middle;\n",
       "    }\n",
       "\n",
       "    .dataframe tbody tr th {\n",
       "        vertical-align: top;\n",
       "    }\n",
       "\n",
       "    .dataframe thead th {\n",
       "        text-align: right;\n",
       "    }\n",
       "</style>\n",
       "<table border=\"1\" class=\"dataframe\">\n",
       "  <thead>\n",
       "    <tr style=\"text-align: right;\">\n",
       "      <th></th>\n",
       "      <th>Metric</th>\n",
       "      <th>Score</th>\n",
       "    </tr>\n",
       "  </thead>\n",
       "  <tbody>\n",
       "    <tr>\n",
       "      <th>0</th>\n",
       "      <td>Accuracy</td>\n",
       "      <td>0.220000</td>\n",
       "    </tr>\n",
       "    <tr>\n",
       "      <th>1</th>\n",
       "      <td>Precision</td>\n",
       "      <td>0.174801</td>\n",
       "    </tr>\n",
       "    <tr>\n",
       "      <th>2</th>\n",
       "      <td>Recall</td>\n",
       "      <td>0.220000</td>\n",
       "    </tr>\n",
       "    <tr>\n",
       "      <th>3</th>\n",
       "      <td>F1</td>\n",
       "      <td>0.165536</td>\n",
       "    </tr>\n",
       "  </tbody>\n",
       "</table>\n",
       "</div>"
      ],
      "text/plain": [
       "      Metric     Score\n",
       "0   Accuracy  0.220000\n",
       "1  Precision  0.174801\n",
       "2     Recall  0.220000\n",
       "3         F1  0.165536"
      ]
     },
     "execution_count": 67,
     "metadata": {},
     "output_type": "execute_result"
    }
   ],
   "source": [
    "X_train, X_test, y_train, y_test = train_test_split(\n",
    "    deepwalk_features,\n",
    "    journal_labels,\n",
    "    test_size=0.25,\n",
    "    random_state=SEED\n",
    ")\n",
    "\n",
    "clf = RandomForestClassifier()\n",
    "model = clf.fit(X_train, y_train)\n",
    "y_pred = model.predict(X_test)\n",
    "\n",
    "pd.DataFrame(score_classifier(y_test, y_pred))"
   ]
  },
  {
   "cell_type": "markdown",
   "id": "e09dc402-203d-4ccc-a787-5b93a95136ed",
   "metadata": {},
   "source": [
    "### Node2Vec\n",
    "\n",
    "After DeepWalk came Node2Vec. Let's try it!"
   ]
  },
  {
   "cell_type": "code",
   "execution_count": 68,
   "id": "e2174f85-a25c-4fc2-8b64-1ff640b57344",
   "metadata": {},
   "outputs": [
    {
     "name": "stderr",
     "output_type": "stream",
     "text": [
      "/opt/conda/lib/python3.11/site-packages/karateclub/estimator.py:66: UserWarning: Please do be advised that the graph you have provided does not contain (some) edges in the main diagonal, for instance the self-loop constitued of (0, 0). These selfloops are necessary to ensure that the graph is traversable, and for this reason we create a copy of the graph and add therein the missing edges. Since we are creating a copy, this will immediately duplicate the memory requirements. To avoid this double allocation, you can provide the graph with the selfloops.\n",
      "  warnings.warn(\n"
     ]
    },
    {
     "data": {
      "text/plain": [
       "(array([[-0.6886139 ,  0.02831859,  0.37960172, ..., -0.7101267 ,\n",
       "          0.5873924 , -0.58621526],\n",
       "        [-0.81404   , -0.09741166,  0.28818756, ..., -0.35408193,\n",
       "          0.55028695,  0.14340912],\n",
       "        [-0.8499915 ,  0.45100737,  0.5120627 , ..., -0.3563129 ,\n",
       "          0.7944336 , -0.2599221 ],\n",
       "        ...,\n",
       "        [ 1.1942691 , -0.07701783,  0.24144779, ...,  0.08191857,\n",
       "          0.02546631, -1.0358403 ],\n",
       "        [-0.31728363, -0.68388945, -0.24950464, ..., -0.53356147,\n",
       "         -0.06428294,  0.5656637 ],\n",
       "        [ 0.03021888, -0.13983408, -0.00741619, ...,  1.0660855 ,\n",
       "         -0.3997042 ,  0.24518766]], dtype=float32),\n",
       " (5000, 128))"
      ]
     },
     "execution_count": 68,
     "metadata": {},
     "output_type": "execute_result"
    }
   ],
   "source": [
    "from karateclub import Node2Vec\n",
    "\n",
    "\n",
    "# Default: walk_number=10, walk_length=80\n",
    "d = Node2Vec(walk_number=8, walk_length=16)\n",
    "d.fit(G_sample)\n",
    "node2vec_features = d.get_embedding()\n",
    "\n",
    "node2vec_features, node2vec_features.shape"
   ]
  },
  {
   "cell_type": "code",
   "execution_count": 69,
   "id": "d0e11e21-2bf1-4114-9e04-87642ee532da",
   "metadata": {},
   "outputs": [
    {
     "name": "stderr",
     "output_type": "stream",
     "text": [
      "/opt/conda/lib/python3.11/site-packages/sklearn/metrics/_classification.py:1565: UndefinedMetricWarning: Precision is ill-defined and being set to 0.0 in labels with no predicted samples. Use `zero_division` parameter to control this behavior.\n",
      "  _warn_prf(average, modifier, f\"{metric.capitalize()} is\", len(result))\n"
     ]
    },
    {
     "data": {
      "text/html": [
       "<div>\n",
       "<style scoped>\n",
       "    .dataframe tbody tr th:only-of-type {\n",
       "        vertical-align: middle;\n",
       "    }\n",
       "\n",
       "    .dataframe tbody tr th {\n",
       "        vertical-align: top;\n",
       "    }\n",
       "\n",
       "    .dataframe thead th {\n",
       "        text-align: right;\n",
       "    }\n",
       "</style>\n",
       "<table border=\"1\" class=\"dataframe\">\n",
       "  <thead>\n",
       "    <tr style=\"text-align: right;\">\n",
       "      <th></th>\n",
       "      <th>Metric</th>\n",
       "      <th>Score</th>\n",
       "    </tr>\n",
       "  </thead>\n",
       "  <tbody>\n",
       "    <tr>\n",
       "      <th>0</th>\n",
       "      <td>Accuracy</td>\n",
       "      <td>0.264000</td>\n",
       "    </tr>\n",
       "    <tr>\n",
       "      <th>1</th>\n",
       "      <td>Precision</td>\n",
       "      <td>0.264521</td>\n",
       "    </tr>\n",
       "    <tr>\n",
       "      <th>2</th>\n",
       "      <td>Recall</td>\n",
       "      <td>0.264000</td>\n",
       "    </tr>\n",
       "    <tr>\n",
       "      <th>3</th>\n",
       "      <td>F1</td>\n",
       "      <td>0.227452</td>\n",
       "    </tr>\n",
       "  </tbody>\n",
       "</table>\n",
       "</div>"
      ],
      "text/plain": [
       "      Metric     Score\n",
       "0   Accuracy  0.264000\n",
       "1  Precision  0.264521\n",
       "2     Recall  0.264000\n",
       "3         F1  0.227452"
      ]
     },
     "execution_count": 69,
     "metadata": {},
     "output_type": "execute_result"
    }
   ],
   "source": [
    "X_train, X_test, y_train, y_test = train_test_split(\n",
    "    node2vec_features,\n",
    "    journal_labels,\n",
    "    test_size=0.25,\n",
    "    random_state=SEED\n",
    ")\n",
    "\n",
    "clf = RandomForestClassifier()\n",
    "model = clf.fit(X_train, y_train)\n",
    "y_pred = model.predict(X_test)\n",
    "\n",
    "pd.DataFrame(score_classifier(y_test, y_pred))"
   ]
  },
  {
   "cell_type": "markdown",
   "id": "94987cfc-73fa-4bf1-bcd0-a31ceed2c08b",
   "metadata": {},
   "source": [
    "### LaplacianEigenmaps\n",
    "\n",
    "LaplacianEigenmaps is a newer embedding, let's see how it performs..."
   ]
  },
  {
   "cell_type": "code",
   "execution_count": 70,
   "id": "4303e8bb-7281-4e9b-b647-f9dac1269f7e",
   "metadata": {},
   "outputs": [
    {
     "name": "stderr",
     "output_type": "stream",
     "text": [
      "/opt/conda/lib/python3.11/site-packages/karateclub/estimator.py:66: UserWarning: Please do be advised that the graph you have provided does not contain (some) edges in the main diagonal, for instance the self-loop constitued of (0, 0). These selfloops are necessary to ensure that the graph is traversable, and for this reason we create a copy of the graph and add therein the missing edges. Since we are creating a copy, this will immediately duplicate the memory requirements. To avoid this double allocation, you can provide the graph with the selfloops.\n",
      "  warnings.warn(\n"
     ]
    },
    {
     "data": {
      "text/plain": [
       "(array([[ 8.22487402e-03,  8.04234400e-04, -3.26585312e-03, ...,\n",
       "          1.81644124e-03, -8.76511920e-04,  5.57362369e-04],\n",
       "        [ 7.43967847e-03,  7.27457386e-04, -2.95407530e-03, ...,\n",
       "          2.85083129e-03, -9.26985255e-04,  5.35808905e-04],\n",
       "        [ 7.43967847e-03,  7.27457386e-04, -2.95407530e-03, ...,\n",
       "          1.73583477e-03, -3.64422762e-04,  1.65851513e-04],\n",
       "        ...,\n",
       "        [ 3.28058984e-03,  3.20778555e-04, -1.30262477e-03, ...,\n",
       "          2.65750165e-05,  2.32503066e-03, -1.39008934e-03],\n",
       "        [ 1.68823851e-02, -1.38724879e-02,  3.17256465e-02, ...,\n",
       "         -7.80577346e-18, -2.06188403e-17, -7.78374062e-17],\n",
       "        [ 4.11243701e-03,  4.02117200e-04, -1.63292656e-03, ...,\n",
       "         -1.60584725e-03, -1.00070122e-03, -9.65800070e-04]]),\n",
       " (5000, 128))"
      ]
     },
     "execution_count": 70,
     "metadata": {},
     "output_type": "execute_result"
    }
   ],
   "source": [
    "from karateclub import LaplacianEigenmaps\n",
    "\n",
    "\n",
    "d = LaplacianEigenmaps()\n",
    "d.fit(G_sample)\n",
    "laplacian_features = d.get_embedding()\n",
    "\n",
    "laplacian_features, laplacian_features.shape"
   ]
  },
  {
   "cell_type": "code",
   "execution_count": 71,
   "id": "0db881e0-313e-4932-a17d-b02126a3bac6",
   "metadata": {},
   "outputs": [
    {
     "data": {
      "text/html": [
       "<div>\n",
       "<style scoped>\n",
       "    .dataframe tbody tr th:only-of-type {\n",
       "        vertical-align: middle;\n",
       "    }\n",
       "\n",
       "    .dataframe tbody tr th {\n",
       "        vertical-align: top;\n",
       "    }\n",
       "\n",
       "    .dataframe thead th {\n",
       "        text-align: right;\n",
       "    }\n",
       "</style>\n",
       "<table border=\"1\" class=\"dataframe\">\n",
       "  <thead>\n",
       "    <tr style=\"text-align: right;\">\n",
       "      <th></th>\n",
       "      <th>Metric</th>\n",
       "      <th>Score</th>\n",
       "    </tr>\n",
       "  </thead>\n",
       "  <tbody>\n",
       "    <tr>\n",
       "      <th>0</th>\n",
       "      <td>Accuracy</td>\n",
       "      <td>0.244800</td>\n",
       "    </tr>\n",
       "    <tr>\n",
       "      <th>1</th>\n",
       "      <td>Precision</td>\n",
       "      <td>0.242488</td>\n",
       "    </tr>\n",
       "    <tr>\n",
       "      <th>2</th>\n",
       "      <td>Recall</td>\n",
       "      <td>0.244800</td>\n",
       "    </tr>\n",
       "    <tr>\n",
       "      <th>3</th>\n",
       "      <td>F1</td>\n",
       "      <td>0.232477</td>\n",
       "    </tr>\n",
       "  </tbody>\n",
       "</table>\n",
       "</div>"
      ],
      "text/plain": [
       "      Metric     Score\n",
       "0   Accuracy  0.244800\n",
       "1  Precision  0.242488\n",
       "2     Recall  0.244800\n",
       "3         F1  0.232477"
      ]
     },
     "execution_count": 71,
     "metadata": {},
     "output_type": "execute_result"
    }
   ],
   "source": [
    "X_train, X_test, y_train, y_test = train_test_split(\n",
    "    laplacian_features,\n",
    "    journal_labels,\n",
    "    test_size=0.25,\n",
    "    random_state=SEED\n",
    ")\n",
    "\n",
    "clf = RandomForestClassifier()\n",
    "model = clf.fit(X_train, y_train)\n",
    "y_pred = model.predict(X_test)\n",
    "\n",
    "pd.DataFrame(score_classifier(y_test, y_pred))"
   ]
  },
  {
   "cell_type": "markdown",
   "id": "06fb7f2f-a3fd-432a-ba81-e9f74237b0ae",
   "metadata": {},
   "source": [
    "Before we are too hard on our classifiers, keep in mind that a text model did just as poorly as many of these. It seems likely that articles can appear in multiple physics journals and that there is some chance as to which one a given paper is accepted in.\n",
    "\n",
    "### Exercise: Compare Network Clusters with Journal Labels\n",
    "\n",
    "One way to check this is to go back to our visualization of communities above and compare them to our labels. If they don't match up, the papers may not be differentiable on that basis."
   ]
  },
  {
   "cell_type": "code",
   "execution_count": null,
   "id": "88f7a665-aeb5-47e7-8a47-e343bf8645d6",
   "metadata": {},
   "outputs": [],
   "source": []
  },
  {
   "cell_type": "markdown",
   "id": "f979d062-61ac-4a62-99e1-a556ba516efd",
   "metadata": {},
   "source": [
    "### Exercise: Titles, Not Abstracts\n",
    "\n",
    "What about the abstracts? Maybe they are the problem. Reduce them to 2-dimensions as we did the Journal embeddings and cluster them to see how differentiable they are. Then make an informed decision about how tenable a task our journal classification is."
   ]
  },
  {
   "cell_type": "code",
   "execution_count": null,
   "id": "b3c5e0df-fcc7-4996-85d1-add448953376",
   "metadata": {},
   "outputs": [],
   "source": []
  },
  {
   "cell_type": "markdown",
   "id": "fdb52be0-dfc9-4dc3-aade-15a439a7311c",
   "metadata": {},
   "source": [
    "## Link Prediction\n",
    "\n",
    "Our next topic is link prediction, a common task in graph machine learning. We will use it to predict whether one paper cites another - this could be useful for missing citations or for predicting future citations."
   ]
  },
  {
   "cell_type": "code",
   "execution_count": 72,
   "id": "193491ae-8b7c-433d-bd65-4f6343292ffe",
   "metadata": {},
   "outputs": [],
   "source": [
    "from littleballoffur import RandomNodeEdgeSampler\n",
    "\n",
    "\n",
    "# Link prediction features are expensive to compute - sample edges from our graph\n",
    "edge_sampler = RandomNodeEdgeSampler(1000) \n",
    "sampled_edges = list(edge_sampler.sample(G.to_undirected()).edges())\n",
    "negative_sampled_edges = list(\n",
    "    map(\n",
    "        tuple, np.random.choice(G.nodes, (1000,2))\n",
    "    )\n",
    ")\n",
    "all_edges = sampled_edges + negative_sampled_edges\n",
    "\n",
    "# Set positive and negative labels for our edges\n",
    "pair_labels = [[1] * len(sampled_edges) + [0] * len(negative_sampled_edges)]\n",
    "pair_labels_ary = np.array(pair_labels).reshape([-1])\n",
    "\n",
    "# Compute some features\n",
    "jaccards = list(nx.jaccard_coefficient(G.to_undirected(), all_edges))\n",
    "ra = list(nx.resource_allocation_index(G.to_undirected(), all_edges))\n",
    "aai = list(nx.adamic_adar_index(G.to_undirected(), all_edges))\n",
    "pa = list(nx.preferential_attachment(G.to_undirected(), all_edges))\n",
    "csh = list(nx.cn_soundarajan_hopcroft(G.to_undirected(), all_edges))\n",
    "rish = list(nx.ra_index_soundarajan_hopcroft(G.to_undirected(), all_edges))"
   ]
  },
  {
   "cell_type": "code",
   "execution_count": 73,
   "id": "25db0df6-145a-41f7-8d70-72d2900aa670",
   "metadata": {},
   "outputs": [],
   "source": [
    "pair_features = []\n",
    "for i, pair in enumerate(all_edges):\n",
    "    featureset = []\n",
    "    for metric in jaccards[i], ra[i], aai[i], pa[i], csh[i], rish[i]:\n",
    "        featureset.append(metric[-1])\n",
    "    pair_features.append(featureset)"
   ]
  },
  {
   "cell_type": "code",
   "execution_count": 74,
   "id": "236386c8-787b-4fc9-a89b-3756933b20d4",
   "metadata": {},
   "outputs": [
    {
     "data": {
      "text/plain": [
       "(array([[0.00000000e+00, 0.00000000e+00, 0.00000000e+00, 3.00000000e+00,\n",
       "         0.00000000e+00, 0.00000000e+00],\n",
       "        [6.45161290e-02, 6.06060606e-02, 5.62198605e-01, 2.60000000e+02,\n",
       "         4.00000000e+00, 6.06060606e-02],\n",
       "        [9.21658986e-03, 2.71245490e-02, 4.54219885e-01, 3.80000000e+03,\n",
       "         2.00000000e+00, 0.00000000e+00],\n",
       "        ...,\n",
       "        [0.00000000e+00, 0.00000000e+00, 0.00000000e+00, 6.25000000e+02,\n",
       "         0.00000000e+00, 0.00000000e+00],\n",
       "        [0.00000000e+00, 0.00000000e+00, 0.00000000e+00, 1.70000000e+02,\n",
       "         0.00000000e+00, 0.00000000e+00],\n",
       "        [0.00000000e+00, 0.00000000e+00, 0.00000000e+00, 4.02000000e+02,\n",
       "         0.00000000e+00, 0.00000000e+00]]),\n",
       " (2000, 6))"
      ]
     },
     "execution_count": 74,
     "metadata": {},
     "output_type": "execute_result"
    }
   ],
   "source": [
    "pair_features_ary = np.array(pair_features)\n",
    "pair_features_ary, pair_features_ary.shape"
   ]
  },
  {
   "cell_type": "code",
   "execution_count": 75,
   "id": "04f72eeb-adba-49cc-a1bb-9d86dfab7eb4",
   "metadata": {},
   "outputs": [],
   "source": [
    "X_train, X_test, y_train, y_test = train_test_split(\n",
    "    pair_features_ary,\n",
    "    pair_labels_ary,\n",
    "    test_size=0.25,\n",
    "    random_state=SEED\n",
    ")\n",
    "\n",
    "clf = RandomForestClassifier()\n",
    "\n",
    "model = clf.fit(X_train, y_train)"
   ]
  },
  {
   "cell_type": "code",
   "execution_count": 76,
   "id": "0fcb6ee7-a4e9-474c-bc4b-888bb798e95d",
   "metadata": {},
   "outputs": [
    {
     "data": {
      "text/plain": [
       "{'Metric': ['Accuracy', 'Precision', 'Recall', 'F1'],\n",
       " 'Score': [0.886, 0.8864357703229533, 0.886, 0.8859301512548506]}"
      ]
     },
     "execution_count": 76,
     "metadata": {},
     "output_type": "execute_result"
    }
   ],
   "source": [
    "y_pred = model.predict(X_test)\n",
    "score_classifier(y_test, y_pred)"
   ]
  },
  {
   "cell_type": "markdown",
   "id": "a699f91a-2fea-4adb-9c6d-7795e0665046",
   "metadata": {},
   "source": [
    "## Exercise: Link Prediction with Node Features\n",
    "\n",
    "Manual link prediction can use the same features that node classification can, if you provide features for both nodes. Improve the above link prediction by adding the previously computed node features for each node in each pair of nodes in the training and test data."
   ]
  },
  {
   "cell_type": "code",
   "execution_count": null,
   "id": "5b18351c-95a8-4bba-8b74-4215357b2270",
   "metadata": {},
   "outputs": [],
   "source": []
  },
  {
   "cell_type": "code",
   "execution_count": null,
   "id": "8440849c-16ba-434f-947c-772c59335174",
   "metadata": {},
   "outputs": [],
   "source": []
  },
  {
   "cell_type": "markdown",
   "id": "cdae3188-bdb7-466d-94d0-a0fd634bd53e",
   "metadata": {},
   "source": [
    "## Exercise: Link Prediction with Embeddings\n",
    "\n",
    "Pairs of embeddings can do a better job of link prediction. Append the embeddings previously computed and see if you can improve the performance of our link prediction."
   ]
  },
  {
   "cell_type": "code",
   "execution_count": 77,
   "id": "23c711c5-a6a5-4d33-b0c2-71aedc2feedc",
   "metadata": {},
   "outputs": [
    {
     "data": {
      "application/vnd.jupyter.widget-view+json": {
       "model_id": "cf532a8113604f49812028616787ae3b",
       "version_major": 2,
       "version_minor": 0
      },
      "text/plain": [
       "Checking main diagonal existance:   0%|          | 0/27770 [00:00<?, ?it/s]"
      ]
     },
     "metadata": {},
     "output_type": "display_data"
    },
    {
     "name": "stderr",
     "output_type": "stream",
     "text": [
      "/opt/conda/lib/python3.11/site-packages/karateclub/estimator.py:66: UserWarning: Please do be advised that the graph you have provided does not contain (some) edges in the main diagonal, for instance the self-loop constitued of (0, 0). These selfloops are necessary to ensure that the graph is traversable, and for this reason we create a copy of the graph and add therein the missing edges. Since we are creating a copy, this will immediately duplicate the memory requirements. To avoid this double allocation, you can provide the graph with the selfloops.\n",
      "  warnings.warn(\n"
     ]
    },
    {
     "data": {
      "text/plain": [
       "(array([[-4.21252139e-02, -3.12304851e-02,  8.31994042e-02, ...,\n",
       "         -1.10305995e-02, -9.19166859e-03,  1.57452817e-03],\n",
       "        [-1.73404619e-01,  5.61237097e-01, -1.38947040e-01, ...,\n",
       "          2.39457682e-01,  4.51451587e-03,  3.71789597e-02],\n",
       "        [-9.34437931e-01, -1.61959827e+00,  3.88885856e-01, ...,\n",
       "          2.70333141e-01,  6.86441585e-02, -2.56681621e-01],\n",
       "        ...,\n",
       "        [-4.25497396e-03, -5.75276045e-03,  5.77220926e-03, ...,\n",
       "         -7.10173231e-03,  4.49738046e-03, -1.54266192e-03],\n",
       "        [ 3.68437474e-03, -2.38427962e-03, -6.64901268e-03, ...,\n",
       "         -2.95663835e-03, -2.39212904e-03,  2.93444376e-03],\n",
       "        [ 1.46391278e-03, -5.17287804e-03,  4.58983937e-03, ...,\n",
       "          5.63531416e-03,  1.81347702e-03,  7.63937642e-05]], dtype=float32),\n",
       " (27770, 128))"
      ]
     },
     "execution_count": 77,
     "metadata": {},
     "output_type": "execute_result"
    }
   ],
   "source": [
    "# DeepWalk was first, but it hardly state of the art. Let's see what it can do...\n",
    "from karateclub import DeepWalk\n",
    "\n",
    "\n",
    "d = DeepWalk()\n",
    "d.fit(G)\n",
    "deepwalk_features = d.get_embedding()\n",
    "\n",
    "deepwalk_features, deepwalk_features.shape"
   ]
  },
  {
   "cell_type": "code",
   "execution_count": 78,
   "id": "e0a3181b-222b-433b-85d9-461798176fe8",
   "metadata": {},
   "outputs": [
    {
     "data": {
      "text/plain": [
       "(array([[ 3.07986349e-01, -5.52480221e-02, -2.16348457e+00, ...,\n",
       "          9.04546678e-02, -1.06336400e-01,  1.01171613e-01],\n",
       "        [-1.12185609e+00, -4.89485323e-01,  3.30839068e-01, ...,\n",
       "         -1.90534085e-01, -1.76757425e-01, -3.73419300e-02],\n",
       "        [-2.85230130e-02, -2.87716120e-01, -9.52532053e-01, ...,\n",
       "          6.74723312e-02, -2.24502385e-02,  5.86521998e-03],\n",
       "        ...,\n",
       "        [-1.85723566e-02, -1.08429782e-01,  2.46551596e-02, ...,\n",
       "          2.70923465e-01,  8.39348957e-02, -2.68190473e-01],\n",
       "        [-4.30300266e-01, -8.23735893e-01, -1.58854663e-01, ...,\n",
       "         -9.55165401e-02, -2.59694099e-01, -2.35099122e-02],\n",
       "        [ 1.31826371e-01, -1.20459944e-01,  2.22589269e-01, ...,\n",
       "          4.37233644e-03,  1.28250374e-02, -1.42276695e-03]], dtype=float32),\n",
       " (2000, 256))"
      ]
     },
     "execution_count": 78,
     "metadata": {},
     "output_type": "execute_result"
    }
   ],
   "source": [
    "pair_embeddings = []\n",
    "\n",
    "for edge_pair in all_edges:\n",
    "    feature_row = np.append(\n",
    "        deepwalk_features[edge_pair[0]],\n",
    "        deepwalk_features[edge_pair[1]]\n",
    "    )\n",
    "    pair_embeddings.append(feature_row)\n",
    "\n",
    "pair_features_ary = np.stack(pair_embeddings)\n",
    "pair_features_ary, pair_features_ary.shape"
   ]
  },
  {
   "cell_type": "code",
   "execution_count": 79,
   "id": "4890ffcb-24a5-4fb1-b2f7-4fbfa31f1f20",
   "metadata": {},
   "outputs": [],
   "source": [
    "X_train, X_test, y_train, y_test = train_test_split(\n",
    "    pair_features_ary,\n",
    "    pair_labels_ary,\n",
    "    test_size=0.25,\n",
    "    random_state=SEED,\n",
    "    shuffle=True,\n",
    ")\n",
    "\n",
    "clf = RandomForestClassifier()\n",
    "\n",
    "model = clf.fit(X_train, y_train)"
   ]
  },
  {
   "cell_type": "code",
   "execution_count": 80,
   "id": "5150bb90-c6d1-4d99-9b05-953a554b8742",
   "metadata": {},
   "outputs": [
    {
     "data": {
      "text/plain": [
       "{'Metric': ['Accuracy', 'Precision', 'Recall', 'F1'],\n",
       " 'Score': [0.662, 0.6655847808105873, 0.662, 0.6608818045112782]}"
      ]
     },
     "execution_count": 80,
     "metadata": {},
     "output_type": "execute_result"
    }
   ],
   "source": [
    "y_pred = model.predict(X_test)\n",
    "score_classifier(y_test, y_pred)"
   ]
  },
  {
   "cell_type": "markdown",
   "id": "0d424c16-2fdb-42bf-aed4-79ba4ee1d127",
   "metadata": {},
   "source": [
    "# Graph Machine Learning with Graph Neural Networks (GNNs)\n",
    "\n",
    "Having explored network science, we are about to dive into Graph Neural Networks (GNNs). The best introduction to GNNs is a long blog post by []() entitled [A Gentle Introduction to Graph Neural Networks](https://distill.pub/2021/gnn-intro/) which the authors have _generously_ licensed under the Creative Commons. This lets me utilize their work to explain how GNNs work while providing source code along with it to bring your theoretical understanding to a practical one.\n",
    "\n",
    "## Citation: A Gentle Introduction to Graph Neural Networks\n",
    "\n",
    "Parts of the content in Part 4 of this course are based upon: `Sanchez-Lengeling, et al., \"A Gentle Introduction to Graph Neural Networks\", Distill, 2021.` This content is cited inline. Students are encouraged to read this blog post before or after class, and to reference it if they become confused about concepts in their data science and machine learning practice. \n",
    "\n",
    "The full list of authors is:\n",
    "\n",
    "* [Benjamin Sanchez-Lengeling](https://research.google/people/106640/)\n",
    "* [Emily Reif](https://research.google/people/106150/)\n",
    "* [Adam Pearce](https://research.google/people/AdamPearce/)\n",
    "* [Alexander B. Wiltschko](https://www.linkedin.com/in/alex-wiltschko-0a7b7537/)\n",
    "\n",
    "During the course you will have access to the instructor, who understands GNNs and can elaborate further and answer any questions you may have :)\n",
    "\n",
    "## Why is there so much talk about Graph Neural Networks?\n",
    "\n",
    "Knowledge graphs are at the peak of the Gartner hype cycle and graph neural networks (GNNs) are soon to be high on the ramp because they tap and unlock the potential of enterprise knowledge graphs. Data lakes put data in one place, knowledge graphs link datasets together and graph neural networks automate business processes using data from across an enterprise. \n",
    "\n",
    "\n",
    "\n",
    "Most graph databases are fast becoming cloud-based GNN platforms:\n",
    "\n",
    "* Neo4j → [Neo4j Graph Data Science](https://neo4j.com/product/graph-data-science/)\n",
    "* TigerGraph → [Machine Learning Workbench](https://www.tigergraph.com/ml-workbench/)\n",
    "* ArangoDB → [ArrangoGraphML](https://www.arangodb.com/arangodb-for-machine-learning/)\n",
    "* Kumo → [SQL query the future](https://kumo.ai/)\n"
   ]
  },
  {
   "cell_type": "markdown",
   "id": "e97d8554-d1db-47f0-b9cb-ed8487147a3c",
   "metadata": {},
   "source": [
    "# Graph Neural Networks (GNNs) with DGL (Deep Graph Library)\n",
    "\n",
    "[DGL or Deep Graph Library](https://dgl.ai) is the simplest way to get started with graph machine learning using graph neural networks (GNNs).\n",
    "\n",
    "First we will cover a few common operations with each major task type we covered in the lecture: node-level, edge-level, subgraph-level and graph-level.\n",
    "\n",
    "## Node-Level Tasks: Classification\n",
    "\n",
    "Node-level tasks usually involve property prediction - classifying nodes into categories or regressing one of their numeric properties. We'll cover both.\n",
    "\n",
    "As in the network science section of this course, we will start with a Text Attributed Graph (TAG) called a Citation Graph. We are going to use the [CORA dataset](https://relational.fit.cvut.cz/dataset/CORA), [described by Papers with Code](https://paperswithcode.com/dataset/cora) as:\n",
    "\n",
    "> Introduced by Andrew McCallum et al. in [Automating the Construction of Internet Portals with Machine Learning](https://doi.org/10.1023/A:1009953814988)\n",
    ">\n",
    "> The Cora dataset consists of 2708 scientific publications classified into one of seven classes. The citation network consists of 5429 links. Each publication in the dataset is described by a 0/1-valued word vector indicating the absence/presence of the corresponding word from the dictionary. The dictionary consists of 1433 unique words.\n",
    "\n",
    "### CORA Node Features: Bag of Words\n",
    "\n",
    "Note... the features for this network are a [Bag of Words](https://en.wikipedia.org/wiki/Bag-of-words_model) model: simple and _sparse_ rather than modern text representations which are _dense_, distributed representations in the form of language models or [embeddings](https://cloud.google.com/blog/topics/developers-practitioners/meet-ais-multitool-vector-embeddings). Each node has a row in the feature matrix and each of 1,433 unique words get a column with the word count. Before [Word2Vec](https://arxiv.org/abs/1301.3781) introduced text embeddings in 2013, the features for NLP problems were mostly 0s, with a few non-zero values.\n",
    "\n",
    "<center><img src=\"images/sparse_vs_dense_vectors.webp\" width=\"800px\" alt=\"Bag-of-Words (BoW) sparse vectors used in traditional NLP versus dense, embedded vector representations used in modern deep learning NLP\" /></center>\n",
    "\n",
    "The [curse of dimensionality](https://en.wikipedia.org/wiki/Curse_of_dimensionality) prevented NLP applications from realizing their modern capabilities - the more words that were added, the more dimensions the features data got and the more dimensions you add to a _sparse_ feature vector... the more all the values of that vector start to approximate the same value. They stretch out over many dimensions and look the same.\n",
    "\n",
    "Embeddings like Word2Vec related _sparse representations_ of words to the text around them by storing a middle layer of a neural network, creating _dense representations_.\n",
    "\n",
    "<center><img src=\"images/from_sparse_to_dense.webp\" width=\"700px\" alt=\"The Word2Vec's Skipgram architecture maps sparse to dense vectors via a shallow embedding technique\" /></center>\n",
    "\n",
    "These are very useful because the dimensions of the feature vector correspond to particular semantics, and because you can compare two dense vectors and get a sense of how similar the objects the represent are. This is very useful for information retreival applications like search and clustering.\n",
    "\n",
    "<center><img src=\"images/king_minus_man_plus_woman.webp\" width=\"800px\" alt=\"Given the dense embedding vector for the word 'king', if we subtract the vector for 'man' and add 'woman', we arrive at a vector very close to 'queen'.\" /></center>\n",
    "\n",
    "<br />\n",
    "\n",
    "We could use a language model or large language model (LLM) to embed the features or the original text and get better performance from our GCN. However, it is good to start simple and worry about feature engineering lately... you can spend an endless amount of time over optimizing a task nobody cares about. Make sure they want the prototype before you engineer incredible performance. A Bag of Words representation is a fine start.\n",
    "\n",
    "### CORA Classifier: Graph Convolutional Network\n",
    "\n",
    "We are going to use a neural network architecture that may be familiar to you: a convolutional neural network. The type we will employ is called a Graph Convolutional Network (GCN). Message passing occurs between nodes and the series of input messages to a node are summarized by the layers of a GCN after each round of message passing.\n",
    "\n",
    "<center><img src=\"images/gcn-decagon-overview.png\" width=\"1000px\" alt=\"Graph Neural Networks for Multirelational Link Prediction\" /><a href=\"https://snap.stanford.edu/decagon/\">Graph Neural Networks for Multirelational Link Prediction, Zitnik et al., 2018</a></center>\n",
    "\n",
    "\n",
    "There is often a big of tinkering required to make GNNs run, so even for this simple problem in DGL, we must specify our GNN architectre. It is simple enough. Let's see how it looks...\n",
    "\n",
    "Note: Figures Sources: [Dense Vectors: Capturing Meaning with Code](https://towardsdatascience.com/dense-vectors-capturing-meaning-with-code-88fc18bd94b9) by [James Briggs](https://jamescalam.medium.com/), [Graph Neural Networks for Multirelational Link Prediction, Zitnik et al., 2018](https://snap.stanford.edu/decagon/)\n",
    "\n",
    "### Building a GCN in DGL\n",
    "\n",
    "Let's build, train and evaluate our first GNN: a graph convoltional network for classifying CORA articles into categories.\n",
    "\n",
    "Note: Source for this section is the [Blitz Tutorial, Node Classification with DGL](https://docs.dgl.ai/tutorials/blitz/1_introduction.html#sphx-glr-tutorials-blitz-1-introduction-py)."
   ]
  },
  {
   "cell_type": "code",
   "execution_count": 81,
   "id": "d27e1dac-9af7-473c-b65f-5a8d854bf81d",
   "metadata": {},
   "outputs": [],
   "source": [
    "import os\n",
    "\n",
    "# DGL can also use Tensorflow or MXNet\n",
    "os.environ[\"DGLBACKEND\"] = \"pytorch\"\n",
    "import dgl\n",
    "import dgl.data\n",
    "import torch\n",
    "import torch.nn as nn\n",
    "import torch.nn.functional as F"
   ]
  },
  {
   "cell_type": "markdown",
   "id": "00a5ce97-daeb-4446-9a90-6976b58d417b",
   "metadata": {},
   "source": [
    "For now we will use a pre-loaded dataset. It contains the standard CORA bag-of-word (BoW) featres. Later we will construct our own graphs to perform feature engineering on them to do more sophisticated work."
   ]
  },
  {
   "cell_type": "code",
   "execution_count": 82,
   "id": "18f36d76-168a-4406-bb7c-4d127c5bb3db",
   "metadata": {},
   "outputs": [
    {
     "name": "stdout",
     "output_type": "stream",
     "text": [
      "Downloading /home/jovyan/.dgl/cora_v2.zip from https://data.dgl.ai/dataset/cora_v2.zip...\n",
      "Extracting file to /home/jovyan/.dgl/cora_v2_d697a464\n",
      "Finished data loading and preprocessing.\n",
      "  NumNodes: 2708\n",
      "  NumEdges: 10556\n",
      "  NumFeats: 1433\n",
      "  NumClasses: 7\n",
      "  NumTrainingSamples: 140\n",
      "  NumValidationSamples: 500\n",
      "  NumTestSamples: 1000\n",
      "Done saving data into cached files.\n",
      "Number of categories: 7\n"
     ]
    }
   ],
   "source": [
    "dataset = dgl.data.CoraGraphDataset()\n",
    "\n",
    "print(f\"Number of categories: {dataset.num_classes}\")"
   ]
  },
  {
   "cell_type": "code",
   "execution_count": 83,
   "id": "8b369768-a99c-4a5c-bdc6-a78d8cbe93dc",
   "metadata": {},
   "outputs": [
    {
     "data": {
      "text/plain": [
       "Graph(num_nodes=2708, num_edges=10556,\n",
       "      ndata_schemes={'train_mask': Scheme(shape=(), dtype=torch.bool), 'val_mask': Scheme(shape=(), dtype=torch.bool), 'test_mask': Scheme(shape=(), dtype=torch.bool), 'label': Scheme(shape=(), dtype=torch.int64), 'feat': Scheme(shape=(1433,), dtype=torch.float32)}\n",
       "      edata_schemes={})"
      ]
     },
     "execution_count": 83,
     "metadata": {},
     "output_type": "execute_result"
    }
   ],
   "source": [
    "# There can be more than one graph, this dataset has just one\n",
    "g = dataset[0]\n",
    "g"
   ]
  },
  {
   "cell_type": "markdown",
   "id": "0c3fa7a9-8084-4f1f-a8c6-67a02e0775fe",
   "metadata": {},
   "source": [
    "`train_mask`, `val_mask` and `test_mask` are bit masks that denote the rows in the `label` and `feat` [Schemes](https://github.com/dmlc/dgl/blob/master/python/dgl/frame.py#L125) which with `DGLBACKEND=pytorch` contain DGL mappings to the [torch.Tensors](https://pytorch.org/docs/stable/tensors.html) making up the training, validation and test datasets respectively."
   ]
  },
  {
   "cell_type": "code",
   "execution_count": 84,
   "id": "48502f10-280f-4230-8939-16847c30cba4",
   "metadata": {},
   "outputs": [
    {
     "name": "stdout",
     "output_type": "stream",
     "text": [
      "Node features\n",
      "torch.Size([2708, 1433])\n",
      "Edge features\n",
      "{}\n"
     ]
    }
   ],
   "source": [
    "print(\"Node features\")\n",
    "print(g.ndata[\"feat\"].shape)\n",
    "\n",
    "print(\"Edge features\")\n",
    "print(g.edata)"
   ]
  },
  {
   "cell_type": "markdown",
   "id": "d0f34d9f-c178-4dd4-8d05-d796b62f9ce2",
   "metadata": {},
   "source": [
    "### GCN Model Architecture - Diagrams, then Code\n",
    "\n",
    "The model itself is a PyTorch [torch.nn.Module](https://pytorch.org/docs/stable/generated/torch.nn.Module.html) that uses the [dgl.nn.conv.GraphConv](https://docs.dgl.ai/generated/dgl.nn.pytorch.conv.GraphConv.html) class. \n",
    "\n",
    "<center><img src=\"images/Schematic-diagram-of-a-two-layer-GCN-model-The-dark-green-denotes-target-nodes-that-need_W640.jpg\" alt=\"Diagram of 2-layer GCN from Graph neural networks in node classification: survey and evaluation, Xiao et al., 2022\" width=\"600px\" /></center>\n",
    "\n",
    "<br />\n",
    "\n",
    "<center>Image credit: <a href=\"https://www.researchgate.net/publication/355873169_Graph_neural_networks_in_node_classification_survey_and_evaluation\">Diagram of 2-layer GCN from Graph neural networks in node classification: survey and evaluation, Xiao et al., 2022</a></center>\n",
    "\n",
    "<br />\n",
    "\n",
    "Let's dig into this diagram of our GCN before coding it in DGL.\n",
    "\n",
    "### Over Smoothing in GNNs: Too Many Layers Means Too Many Hops Sampled\n",
    "\n",
    "Note that **each layer of the GCN represents a round of message passing where nodes aggregate information from their neighbors.** This is important to know, as if you have too many layers in a GNN, you run into the [oversmoothing problem](https://towardsdatascience.com/over-smoothing-issue-in-graph-neural-network-bddc8fbc2472) where nodes start to look the same as all the other nodes.\n",
    "\n",
    "<center><img src=\"images/GNN-oversmoothing-first-layer.webp\" width=\"840px\" alt=\"First layer of GNN message passing, aggregation and summarization results in features of different colors\" /></center>\n",
    "<center>The first layer of GNN message passing, aggregation and summarization results in features represented by different colors.</center>\n",
    "<center><i>Image credit: <a href=\"https://towardsdatascience.com/over-smoothing-issue-in-graph-neural-network-bddc8fbc2472\">Over-smoothing issue in graph neural network</a> by <a href=\"https://towardsdatascience.com/over-smoothing-issue-in-graph-neural-network-bddc8fbc2472\">Anas Ait Aomar</a></i></center>\n",
    "\n",
    "<br /><br />\n",
    "\n",
    "<center><img src=\"images/GNN-oversmoothing-second-layer.webp\" width=\"1000px\" alt=\"Second layer of GNN message passing, aggregation and summarization results in features with more similar colors\" /></center>\n",
    "<center>The second layer of GNN message passing, aggregation and summarization results in features represented by more similar colors.</center>\n",
    "\n",
    "<center><i>Image credit: <a href=\"https://towardsdatascience.com/over-smoothing-issue-in-graph-neural-network-bddc8fbc2472\">Over-smoothing issue in graph neural network</a> by <a href=\"https://towardsdatascience.com/over-smoothing-issue-in-graph-neural-network-bddc8fbc2472\">Anas Ait Aomar</a></i></center>\n",
    "\n",
    "### Relu Activation Function\n",
    "\n",
    "Note how the GraphConv layers in the GCN architecture diagram above are separated by a Relu layer. Without this layer, the GCN could not learn effectively. Relu is an activation function that enables nonlinearity in neural networks - it lets them model messy data in a way that is much more powerful than a linear model. Relu is defined as `max(0, x)` which means that it maps negative values to 0 and positive values are left alone. Note that there are many derivatives of Relu that attempt to improve its performance.\n",
    "\n",
    "<center><img src=\"images/relu.png\" width=\"600px\" alt=\"Relu is max(0, x), making its plot flat when x is less than zero, and evently diagonal in a 1:1 ratio when x is greater than zero.\" /></center>\n",
    "<center>The Relu activation function: <code>max(0, x)</code></center>\n",
    "<center><i>Image Credit: <a href=\"https://medium.com/@danqing/a-practical-guide-to-relu-b83ca804f1f7\">A Practical Guide to ReLU</a> by <a href=\"https://medium.com/@danqing\">Danqing Liu</a></i></center>\n",
    "\n",
    "> we can stack as many linear classifiers as we want on top of each other, and without nonlinear functions between them, it will just be the same as one linear classifier.\n",
    ">\n",
    "> But if we put a nonlinear function between them, such as max, then this is no longer true. Now each linear layer is actually somewhat decoupled from the other ones and can do its own useful work. The max function operates as a simple if statement.\n",
    ">\n",
    "_Source: [Nonlinearity and Neural Networks](https://medium.com/unpackai/nonlinearity-and-neural-networks-2ffaaac0e6ff) by [Aravinda 加阳](https://medium.com/@aravinda-gn)_\n",
    "\n",
    "This video by [deeplizard on Youtube](https://www.youtube.com/@deeplizard) explains Relu and its significance:"
   ]
  },
  {
   "cell_type": "code",
   "execution_count": 85,
   "id": "f1526ec3-dc02-41b5-9185-7e4fb342ac24",
   "metadata": {},
   "outputs": [
    {
     "data": {
      "text/html": [
       "<center><iframe width=\"800\" height=\"460\" src=\"https://www.youtube.com/embed/6MmGNZsA5nI?si=sglt8BijkpykWdWP&amp;start=10\"></iframe></center>\n"
      ],
      "text/plain": [
       "<IPython.core.display.HTML object>"
      ]
     },
     "metadata": {},
     "output_type": "display_data"
    }
   ],
   "source": [
    "%%HTML\n",
    "<center><iframe width=\"800\" height=\"460\" src=\"https://www.youtube.com/embed/6MmGNZsA5nI?si=sglt8BijkpykWdWP&amp;start=10\"></iframe></center>"
   ]
  },
  {
   "cell_type": "markdown",
   "id": "096def14-9ac0-4b30-947a-b6ab70dcb36b",
   "metadata": {},
   "source": [
    "### Coding the Above GCN Diagram\n",
    "\n",
    "The equivalent DGL code for the GCN diagram above appears below. The graph structure and CORA BoW features are shown as the input, which feeds into one GCN layer, then a Relu activaton function, another GCN layer and finally they are mapped into the labels of our classes, in this case fields of study."
   ]
  },
  {
   "cell_type": "code",
   "execution_count": 86,
   "id": "6eef1325-e796-4619-82cd-a66f911ca2b2",
   "metadata": {},
   "outputs": [],
   "source": [
    "from dgl.nn import GraphConv\n",
    "\n",
    "\n",
    "class GCN(nn.Module):\n",
    "    \"\"\"2-layer Graph Convolutional Network\"\"\"\n",
    "    \n",
    "    def __init__(self, in_feats, h_feats, num_classes):\n",
    "        \"\"\"Setup two GCN layers of with the input, inner and output dimensions.\"\"\"\n",
    "        super(GCN, self).__init__()\n",
    "        self.conv1 = GraphConv(in_feats, h_feats)\n",
    "        self.conv2 = GraphConv(h_feats, num_classes)\n",
    "\n",
    "    def forward(self, g, in_feat):\n",
    "        \"\"\"Operate a forward pass of the network\"\"\"\n",
    "        h = self.conv1(g, in_feat)\n",
    "        h = F.relu(h)\n",
    "        h = self.conv2(g, h)\n",
    "        return h\n",
    "\n",
    "\n",
    "# Create the model with given dimensions\n",
    "model = GCN(g.ndata[\"feat\"].shape[1], 16, dataset.num_classes)"
   ]
  },
  {
   "cell_type": "code",
   "execution_count": 87,
   "id": "447bbf5b-8caf-43d3-be50-cf6254f9f13d",
   "metadata": {},
   "outputs": [
    {
     "data": {
      "text/plain": [
       "GCN(\n",
       "  (conv1): GraphConv(in=1433, out=16, normalization=both, activation=None)\n",
       "  (conv2): GraphConv(in=16, out=7, normalization=both, activation=None)\n",
       ")"
      ]
     },
     "execution_count": 87,
     "metadata": {},
     "output_type": "execute_result"
    }
   ],
   "source": [
    "model"
   ]
  },
  {
   "cell_type": "markdown",
   "id": "c7393294-5d9d-4823-b76a-530f2e56c66a",
   "metadata": {},
   "source": [
    "### Training a GCN\n",
    "\n",
    "Below we define a training function that will iteratively train our GCN using message passing."
   ]
  },
  {
   "cell_type": "code",
   "execution_count": 88,
   "id": "35dad0c6-bc5c-43f9-b719-e4dd97eed4e1",
   "metadata": {},
   "outputs": [
    {
     "name": "stdout",
     "output_type": "stream",
     "text": [
      "In epoch 0, loss: 1.946, val acc: 0.216 (best 0.216), test acc: 0.179 (best 0.179), val precision: 0.216, val recall: 0.216, val f1: 0.216\n",
      "In epoch 5, loss: 1.900, val acc: 0.550 (best 0.550), test acc: 0.576 (best 0.576), val precision: 0.550, val recall: 0.550, val f1: 0.550\n",
      "In epoch 10, loss: 1.829, val acc: 0.718 (best 0.718), test acc: 0.725 (best 0.725), val precision: 0.718, val recall: 0.718, val f1: 0.718\n",
      "In epoch 15, loss: 1.729, val acc: 0.716 (best 0.718), test acc: 0.733 (best 0.725), val precision: 0.716, val recall: 0.716, val f1: 0.716\n",
      "In epoch 20, loss: 1.605, val acc: 0.714 (best 0.718), test acc: 0.741 (best 0.725), val precision: 0.714, val recall: 0.714, val f1: 0.714\n",
      "In epoch 25, loss: 1.456, val acc: 0.736 (best 0.736), test acc: 0.757 (best 0.757), val precision: 0.736, val recall: 0.736, val f1: 0.736\n",
      "In epoch 30, loss: 1.289, val acc: 0.744 (best 0.744), test acc: 0.769 (best 0.769), val precision: 0.744, val recall: 0.744, val f1: 0.744\n",
      "In epoch 35, loss: 1.112, val acc: 0.740 (best 0.750), test acc: 0.764 (best 0.768), val precision: 0.740, val recall: 0.740, val f1: 0.740\n",
      "In epoch 40, loss: 0.936, val acc: 0.744 (best 0.750), test acc: 0.763 (best 0.768), val precision: 0.744, val recall: 0.744, val f1: 0.744\n",
      "In epoch 45, loss: 0.772, val acc: 0.746 (best 0.750), test acc: 0.766 (best 0.768), val precision: 0.746, val recall: 0.746, val f1: 0.746\n",
      "In epoch 50, loss: 0.626, val acc: 0.754 (best 0.754), test acc: 0.767 (best 0.767), val precision: 0.754, val recall: 0.754, val f1: 0.754\n",
      "In epoch 55, loss: 0.503, val acc: 0.754 (best 0.754), test acc: 0.768 (best 0.767), val precision: 0.754, val recall: 0.754, val f1: 0.754\n",
      "In epoch 60, loss: 0.402, val acc: 0.764 (best 0.764), test acc: 0.770 (best 0.770), val precision: 0.764, val recall: 0.764, val f1: 0.764\n",
      "In epoch 65, loss: 0.322, val acc: 0.764 (best 0.764), test acc: 0.770 (best 0.770), val precision: 0.764, val recall: 0.764, val f1: 0.764\n",
      "In epoch 70, loss: 0.260, val acc: 0.764 (best 0.764), test acc: 0.772 (best 0.770), val precision: 0.764, val recall: 0.764, val f1: 0.764\n",
      "In epoch 75, loss: 0.211, val acc: 0.760 (best 0.764), test acc: 0.772 (best 0.770), val precision: 0.760, val recall: 0.760, val f1: 0.760\n",
      "In epoch 80, loss: 0.173, val acc: 0.758 (best 0.764), test acc: 0.775 (best 0.770), val precision: 0.758, val recall: 0.758, val f1: 0.758\n",
      "In epoch 85, loss: 0.144, val acc: 0.750 (best 0.764), test acc: 0.774 (best 0.770), val precision: 0.750, val recall: 0.750, val f1: 0.750\n",
      "In epoch 90, loss: 0.120, val acc: 0.756 (best 0.764), test acc: 0.777 (best 0.770), val precision: 0.756, val recall: 0.756, val f1: 0.756\n",
      "In epoch 95, loss: 0.102, val acc: 0.762 (best 0.764), test acc: 0.777 (best 0.770), val precision: 0.762, val recall: 0.762, val f1: 0.762\n"
     ]
    }
   ],
   "source": [
    "from sklearn.metrics import accuracy_score, precision_score, recall_score, f1_score\n",
    "\n",
    "\n",
    "def metrics(y_true, y_pred):\n",
    "\n",
    "    return {\n",
    "        \"accuracy\": accuracy_score(y_true, y_pred),\n",
    "        \"precision\": precision_score(y_true, y_pred, average=\"micro\"),\n",
    "        \"recall\": recall_score(y_true, y_pred, average=\"micro\"),\n",
    "        \"f1\": f1_score(y_true, y_pred, average=\"micro\"),\n",
    "    }\n",
    "\n",
    "\n",
    "def train(g, model):\n",
    "    optimizer = torch.optim.Adam(model.parameters(), lr=0.01)\n",
    "    best_val_acc = 0\n",
    "    best_test_acc = 0\n",
    "\n",
    "    features = g.ndata[\"feat\"]\n",
    "    labels = g.ndata[\"label\"]\n",
    "    train_mask = g.ndata[\"train_mask\"]\n",
    "    val_mask = g.ndata[\"val_mask\"]\n",
    "    test_mask = g.ndata[\"test_mask\"]\n",
    "    for e in range(100):\n",
    "        # Forward\n",
    "        logits = model(g, features)\n",
    "        # print(logits.shape)\n",
    "\n",
    "        # Compute prediction\n",
    "        pred = logits.argmax(1)\n",
    "\n",
    "        # Compute loss\n",
    "        # Note that you should only compute the losses of the nodes in the training set.\n",
    "        loss = F.cross_entropy(logits[train_mask], labels[train_mask])\n",
    "\n",
    "        # Compute accuracy on training/validation/test\n",
    "        train_acc = (pred[train_mask] == labels[train_mask]).float().mean()\n",
    "        val_acc = (pred[val_mask] == labels[val_mask]).float().mean()\n",
    "        test_acc = (pred[test_mask] == labels[test_mask]).float().mean()\n",
    "\n",
    "        train_scores = metrics(labels[train_mask], pred[train_mask])\n",
    "        val_scores = metrics(labels[val_mask], pred[val_mask])\n",
    "        test_scores = metrics(labels[test_mask], pred[test_mask])\n",
    "\n",
    "        # Save the best validation accuracy and the corresponding test accuracy.\n",
    "        if best_val_acc < val_acc:\n",
    "            best_val_acc = val_acc\n",
    "            best_test_acc = test_acc\n",
    "\n",
    "        # Backward\n",
    "        optimizer.zero_grad()\n",
    "        loss.backward()\n",
    "        optimizer.step()\n",
    "\n",
    "        if e % 5 == 0:\n",
    "            print(\n",
    "                f\"In epoch {e}, loss: {loss:.3f}, val acc: {val_acc:.3f} (best {best_val_acc:.3f}), test acc: {test_acc:.3f} (best {best_test_acc:.3f}),\",\n",
    "                f'val precision: {val_scores[\"precision\"]:.3f}, val recall: {val_scores[\"recall\"]:.3f}, val f1: {val_scores[\"f1\"]:.3f}'\n",
    "            )\n",
    "\n",
    "\n",
    "model = GCN(g.ndata[\"feat\"].shape[1], 16, dataset.num_classes)\n",
    "train(g, model)"
   ]
  },
  {
   "cell_type": "markdown",
   "id": "ceae7723-2ecd-464e-8232-ad17d6e1762c",
   "metadata": {},
   "source": [
    "## Graph Attention Networks (GATs)\n",
    "\n",
    "Let's try a more sophisticated architecture for node classification."
   ]
  },
  {
   "cell_type": "code",
   "execution_count": 89,
   "id": "dd5cac91-65c7-457e-99e7-e3fffc7d826e",
   "metadata": {},
   "outputs": [
    {
     "name": "stdout",
     "output_type": "stream",
     "text": [
      "In epoch 0, loss: 1.948, val acc: 0.080 (best 0.080), test acc: 0.067 (best 0.067), val precision: 0.080, val recall: 0.080, val f1: 0.080\n",
      "In epoch 5, loss: 1.887, val acc: 0.312 (best 0.568), test acc: 0.324 (best 0.556), val precision: 0.312, val recall: 0.312, val f1: 0.312\n",
      "In epoch 10, loss: 1.786, val acc: 0.426 (best 0.568), test acc: 0.478 (best 0.556), val precision: 0.426, val recall: 0.426, val f1: 0.426\n",
      "In epoch 15, loss: 1.647, val acc: 0.642 (best 0.642), test acc: 0.659 (best 0.659), val precision: 0.642, val recall: 0.642, val f1: 0.642\n",
      "In epoch 20, loss: 1.487, val acc: 0.698 (best 0.698), test acc: 0.707 (best 0.693), val precision: 0.698, val recall: 0.698, val f1: 0.698\n",
      "In epoch 25, loss: 1.313, val acc: 0.720 (best 0.734), test acc: 0.718 (best 0.712), val precision: 0.720, val recall: 0.720, val f1: 0.720\n",
      "In epoch 30, loss: 1.122, val acc: 0.696 (best 0.734), test acc: 0.712 (best 0.712), val precision: 0.696, val recall: 0.696, val f1: 0.696\n",
      "In epoch 35, loss: 0.920, val acc: 0.720 (best 0.734), test acc: 0.709 (best 0.712), val precision: 0.720, val recall: 0.720, val f1: 0.720\n",
      "In epoch 40, loss: 0.745, val acc: 0.706 (best 0.734), test acc: 0.718 (best 0.712), val precision: 0.706, val recall: 0.706, val f1: 0.706\n",
      "In epoch 45, loss: 0.591, val acc: 0.696 (best 0.734), test acc: 0.714 (best 0.712), val precision: 0.696, val recall: 0.696, val f1: 0.696\n",
      "In epoch 50, loss: 0.493, val acc: 0.694 (best 0.734), test acc: 0.719 (best 0.712), val precision: 0.694, val recall: 0.694, val f1: 0.694\n",
      "In epoch 55, loss: 0.353, val acc: 0.706 (best 0.734), test acc: 0.711 (best 0.712), val precision: 0.706, val recall: 0.706, val f1: 0.706\n",
      "In epoch 60, loss: 0.275, val acc: 0.682 (best 0.734), test acc: 0.713 (best 0.712), val precision: 0.682, val recall: 0.682, val f1: 0.682\n",
      "In epoch 65, loss: 0.220, val acc: 0.678 (best 0.734), test acc: 0.709 (best 0.712), val precision: 0.678, val recall: 0.678, val f1: 0.678\n",
      "In epoch 70, loss: 0.181, val acc: 0.700 (best 0.734), test acc: 0.692 (best 0.712), val precision: 0.700, val recall: 0.700, val f1: 0.700\n",
      "In epoch 75, loss: 0.153, val acc: 0.676 (best 0.734), test acc: 0.709 (best 0.712), val precision: 0.676, val recall: 0.676, val f1: 0.676\n",
      "In epoch 80, loss: 0.123, val acc: 0.696 (best 0.734), test acc: 0.709 (best 0.712), val precision: 0.696, val recall: 0.696, val f1: 0.696\n",
      "In epoch 85, loss: 0.102, val acc: 0.684 (best 0.734), test acc: 0.681 (best 0.712), val precision: 0.684, val recall: 0.684, val f1: 0.684\n",
      "In epoch 90, loss: 0.086, val acc: 0.676 (best 0.734), test acc: 0.688 (best 0.712), val precision: 0.676, val recall: 0.676, val f1: 0.676\n",
      "In epoch 95, loss: 0.075, val acc: 0.708 (best 0.734), test acc: 0.714 (best 0.712), val precision: 0.708, val recall: 0.708, val f1: 0.708\n"
     ]
    }
   ],
   "source": [
    "from dgl.nn import GATConv\n",
    "\n",
    "\n",
    "class GAT(nn.Module):\n",
    "    def __init__(self, in_dim, hidden_dim, out_dim, num_heads):\n",
    "        super(GAT, self).__init__()\n",
    "        self.layer1 = GATConv(in_dim, hidden_dim, num_heads=num_heads, activation=F.relu, feat_drop=0.3, attn_drop=0.1)\n",
    "        self.layer2 = GATConv(hidden_dim * num_heads, out_dim, num_heads=1)\n",
    "\n",
    "    def forward(self, g, in_feat):\n",
    "        h = self.layer1(g, in_feat)\n",
    "        h = h.view(h.shape[0], -1)\n",
    "        h = self.layer2(g, h)\n",
    "        return h.squeeze(1)\n",
    "\n",
    "\n",
    "gatconv = GAT(g.ndata[\"feat\"].shape[1], 10, dataset.num_classes, num_heads=2)\n",
    "train(g, gatconv)"
   ]
  },
  {
   "cell_type": "markdown",
   "id": "6a0614dd-46d7-463a-bebc-894afa922fa4",
   "metadata": {},
   "source": [
    "## GraphDataLoaders\n",
    "\n",
    "I have written a GraphDataLoader for our dataset in [`graphml_class/citation/dgl.py`](graphml_class/citation/dgl.py)."
   ]
  },
  {
   "cell_type": "code",
   "execution_count": null,
   "id": "8a0ea22c-6a01-48e9-af5d-0cac062f795c",
   "metadata": {},
   "outputs": [],
   "source": []
  },
  {
   "cell_type": "markdown",
   "id": "3abdb6ff-6efd-45ad-a760-6b68665933e6",
   "metadata": {},
   "source": [
    "# Link Prediction with GNNs"
   ]
  },
  {
   "cell_type": "code",
   "execution_count": 90,
   "id": "730f841f-a276-433d-9a47-279a0d63b4c9",
   "metadata": {},
   "outputs": [
    {
     "name": "stdout",
     "output_type": "stream",
     "text": [
      "  NumNodes: 2708\n",
      "  NumEdges: 10556\n",
      "  NumFeats: 1433\n",
      "  NumClasses: 7\n",
      "  NumTrainingSamples: 140\n",
      "  NumValidationSamples: 500\n",
      "  NumTestSamples: 1000\n",
      "Done loading data from cached files.\n"
     ]
    }
   ],
   "source": [
    "import dgl.data\n",
    "\n",
    "dataset = dgl.data.CoraGraphDataset()\n",
    "g = dataset[0]"
   ]
  },
  {
   "cell_type": "code",
   "execution_count": 91,
   "id": "d33eddec-7d29-4521-a561-905df95d374a",
   "metadata": {},
   "outputs": [
    {
     "data": {
      "text/plain": [
       "(tensor([   0,    0,    0,  ..., 2707, 2707, 2707]),\n",
       " tensor([ 633, 1862, 2582,  ...,  598, 1473, 2706]))"
      ]
     },
     "execution_count": 91,
     "metadata": {},
     "output_type": "execute_result"
    }
   ],
   "source": [
    "import scipy.sparse as sp\n",
    "\n",
    "# Split edge set for training and testing\n",
    "u, v = g.edges()\n",
    "\n",
    "u, v"
   ]
  },
  {
   "cell_type": "code",
   "execution_count": 92,
   "id": "087388f5-b85d-492f-8110-e383edd747c1",
   "metadata": {},
   "outputs": [],
   "source": [
    "eids = np.arange(g.number_of_edges())\n",
    "eids = np.random.permutation(eids)\n",
    "\n",
    "test_size = int(len(eids) * 0.1)\n",
    "train_size = g.number_of_edges() - test_size\n",
    "\n",
    "test_pos_u, test_pos_v = u[eids[:test_size]], v[eids[:test_size]]\n",
    "train_pos_u, train_pos_v = u[eids[test_size:]], v[eids[test_size:]]\n",
    "\n",
    "# Find all negative edges and split them for training and testing\n",
    "adj = sp.coo_matrix((np.ones(len(u)), (u.numpy(), v.numpy())))\n",
    "adj_neg = 1 - adj.todense() - np.eye(g.number_of_nodes())\n",
    "neg_u, neg_v = np.where(adj_neg != 0)\n",
    "\n",
    "neg_eids = np.random.choice(len(neg_u), g.number_of_edges())\n",
    "test_neg_u, test_neg_v = neg_u[neg_eids[:test_size]], neg_v[neg_eids[:test_size]]\n",
    "train_neg_u, train_neg_v = neg_u[neg_eids[test_size:]], neg_v[neg_eids[test_size:]]"
   ]
  },
  {
   "cell_type": "code",
   "execution_count": 93,
   "id": "39af1702-dc07-497d-a0bb-4bd933b072bc",
   "metadata": {},
   "outputs": [],
   "source": [
    "train_g = dgl.remove_edges(g, eids[:test_size])"
   ]
  },
  {
   "cell_type": "code",
   "execution_count": 94,
   "id": "b6e1de23-6a33-47fc-8df8-793126d52248",
   "metadata": {},
   "outputs": [],
   "source": [
    "from dgl.nn import SAGEConv\n",
    "\n",
    "# ----------- 2. create model -------------- #\n",
    "# build a two-layer GraphSAGE model\n",
    "class GraphSAGE(nn.Module):\n",
    "    def __init__(self, in_feats, h_feats):\n",
    "        super(GraphSAGE, self).__init__()\n",
    "        self.conv1 = SAGEConv(in_feats, h_feats, 'mean')\n",
    "        self.conv2 = SAGEConv(h_feats, h_feats, 'mean')\n",
    "        # self.conv3 = SAGEConv(h_feats, h_feats, 'mean')\n",
    "\n",
    "    def forward(self, g, in_feat):\n",
    "        h = self.conv1(g, in_feat)\n",
    "        h = F.relu(h)\n",
    "        h = self.conv2(g, h)\n",
    "        # h = self.conv3(g, h)\n",
    "        return h"
   ]
  },
  {
   "cell_type": "code",
   "execution_count": 95,
   "id": "96109427-2630-41d1-9c8c-5da3f2a94203",
   "metadata": {},
   "outputs": [],
   "source": [
    "train_pos_g = dgl.graph((train_pos_u, train_pos_v), num_nodes=g.number_of_nodes())\n",
    "train_neg_g = dgl.graph((train_neg_u, train_neg_v), num_nodes=g.number_of_nodes())\n",
    "\n",
    "test_pos_g = dgl.graph((test_pos_u, test_pos_v), num_nodes=g.number_of_nodes())\n",
    "test_neg_g = dgl.graph((test_neg_u, test_neg_v), num_nodes=g.number_of_nodes())"
   ]
  },
  {
   "cell_type": "code",
   "execution_count": 96,
   "id": "90e0847c-4309-4314-9f48-30ae5d5c0bda",
   "metadata": {},
   "outputs": [],
   "source": [
    "import dgl.function as fn\n",
    "\n",
    "class DotPredictor(nn.Module):\n",
    "    def forward(self, g, h):\n",
    "        with g.local_scope():\n",
    "            g.ndata['h'] = h\n",
    "            # Compute a new edge feature named 'score' by a dot-product between the\n",
    "            # source node feature 'h' and destination node feature 'h'.\n",
    "            g.apply_edges(fn.u_dot_v('h', 'h', 'score'))\n",
    "            # u_dot_v returns a 1-element vector for each edge so you need to squeeze it.\n",
    "            return g.edata['score'][:, 0]"
   ]
  },
  {
   "cell_type": "code",
   "execution_count": 97,
   "id": "8d84ac47-d26a-4bc3-ae8d-f24ead21716f",
   "metadata": {},
   "outputs": [],
   "source": [
    "model = GraphSAGE(train_g.ndata['feat'].shape[1], 16)\n",
    "# You can replace DotPredictor with MLPPredictor.\n",
    "#pred = MLPPredictor(16)\n",
    "pred = DotPredictor()\n",
    "\n",
    "def compute_loss(pos_score, neg_score):\n",
    "    scores = torch.cat([pos_score, neg_score])\n",
    "    labels = torch.cat([torch.ones(pos_score.shape[0]), torch.zeros(neg_score.shape[0])])\n",
    "    return F.binary_cross_entropy_with_logits(scores, labels)\n",
    "\n",
    "def compute_auc(pos_score, neg_score):\n",
    "    scores = torch.cat([pos_score, neg_score]).numpy()\n",
    "    labels = torch.cat(\n",
    "        [torch.ones(pos_score.shape[0]), torch.zeros(neg_score.shape[0])]).numpy()\n",
    "    return roc_auc_score(labels, scores)"
   ]
  },
  {
   "cell_type": "code",
   "execution_count": 98,
   "id": "88d36ece-912e-47e3-9c3f-d6ffcba9e677",
   "metadata": {},
   "outputs": [],
   "source": [
    "import itertools\n",
    "\n",
    "# ----------- 3. set up loss and optimizer -------------- #\n",
    "# in this case, loss will in training loop\n",
    "optimizer = torch.optim.Adam(itertools.chain(model.parameters(), pred.parameters()), lr=0.01)\n",
    "\n",
    "# list(itertools.chain(model.parameters(), pred.parameters()))"
   ]
  },
  {
   "cell_type": "code",
   "execution_count": 99,
   "id": "f5943e11-591c-4304-9eef-56cb59e2f9a2",
   "metadata": {},
   "outputs": [
    {
     "name": "stdout",
     "output_type": "stream",
     "text": [
      "In epoch 0, loss: 0.7069600224494934\n",
      "In epoch 5, loss: 0.6919975876808167\n",
      "In epoch 10, loss: 0.6839145421981812\n",
      "In epoch 15, loss: 0.658718466758728\n",
      "In epoch 20, loss: 0.6113413572311401\n",
      "In epoch 25, loss: 0.562083899974823\n",
      "In epoch 30, loss: 0.528014600276947\n",
      "In epoch 35, loss: 0.4905596971511841\n",
      "In epoch 40, loss: 0.47123709321022034\n",
      "In epoch 45, loss: 0.44642186164855957\n",
      "In epoch 50, loss: 0.4226907193660736\n",
      "In epoch 55, loss: 0.39966881275177\n",
      "In epoch 60, loss: 0.3787071108818054\n",
      "In epoch 65, loss: 0.3566383123397827\n",
      "In epoch 70, loss: 0.33554425835609436\n",
      "In epoch 75, loss: 0.31481993198394775\n",
      "In epoch 80, loss: 0.29437336325645447\n",
      "In epoch 85, loss: 0.27394598722457886\n",
      "In epoch 90, loss: 0.2534858286380768\n",
      "In epoch 95, loss: 0.23304809629917145\n",
      "AUC 0.8617434469126928\n"
     ]
    }
   ],
   "source": [
    "# ----------- 4. training -------------------------------- #\n",
    "all_logits = []\n",
    "for e in range(100):\n",
    "    # forward\n",
    "    h = model(train_g, train_g.ndata['feat'])\n",
    "    pos_score = pred(train_pos_g, h)\n",
    "    neg_score = pred(train_neg_g, h)\n",
    "    loss = compute_loss(pos_score, neg_score)\n",
    "\n",
    "    # backward\n",
    "    optimizer.zero_grad()\n",
    "    loss.backward()\n",
    "    optimizer.step()\n",
    "\n",
    "    if e % 5 == 0:\n",
    "        print('In epoch {}, loss: {}'.format(e, loss))\n",
    "\n",
    "# ----------- 5. check results ------------------------ #\n",
    "from sklearn.metrics import roc_auc_score\n",
    "with torch.no_grad():\n",
    "    pos_score = pred(test_pos_g, h)\n",
    "    neg_score = pred(test_neg_g, h)\n",
    "    print('AUC', compute_auc(pos_score, neg_score))"
   ]
  },
  {
   "cell_type": "code",
   "execution_count": null,
   "id": "44ddc839-3dca-4458-905d-ce35793f7d3c",
   "metadata": {},
   "outputs": [],
   "source": []
  }
 ],
 "metadata": {
  "kernelspec": {
   "display_name": "Python 3 (ipykernel)",
   "language": "python",
   "name": "python3"
  },
  "language_info": {
   "codemirror_mode": {
    "name": "ipython",
    "version": 3
   },
   "file_extension": ".py",
   "mimetype": "text/x-python",
   "name": "python",
   "nbconvert_exporter": "python",
   "pygments_lexer": "ipython3",
   "version": "3.11.10"
  }
 },
 "nbformat": 4,
 "nbformat_minor": 5
}
